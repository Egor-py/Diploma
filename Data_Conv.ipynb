{
 "cells": [
  {
   "cell_type": "code",
   "execution_count": 1,
   "id": "82897a52",
   "metadata": {},
   "outputs": [],
   "source": [
    "import pandas as pd\n",
    "import numpy as np\n",
    "import seaborn as sns\n",
    "import matplotlib.pyplot as plt"
   ]
  },
  {
   "cell_type": "code",
   "execution_count": 75,
   "id": "8e9836e0",
   "metadata": {},
   "outputs": [],
   "source": [
    "db_1 = pd.read_csv('02-14-2018.csv')"
   ]
  },
  {
   "cell_type": "code",
   "execution_count": 15,
   "id": "89f0a274",
   "metadata": {},
   "outputs": [],
   "source": [
    "db_2 = pd.read_csv('02-15-2018.csv')"
   ]
  },
  {
   "cell_type": "code",
   "execution_count": 2,
   "id": "6d5a5d95",
   "metadata": {},
   "outputs": [
    {
     "name": "stderr",
     "output_type": "stream",
     "text": [
      "/Users/macbook/opt/anaconda3/lib/python3.9/site-packages/IPython/core/interactiveshell.py:3444: DtypeWarning: Columns (0,1,3,4,5,6,7,8,9,10,11,12,13,14,15,16,17,18,19,20,21,22,23,24,25,26,27,28,29,30,31,32,33,34,35,36,37,38,39,40,41,42,43,44,45,46,47,48,49,50,51,52,53,54,55,56,57,58,59,60,61,62,63,64,65,66,67,68,69,70,71,72,73,74,75,76,77,78) have mixed types.Specify dtype option on import or set low_memory=False.\n",
      "  exec(code_obj, self.user_global_ns, self.user_ns)\n"
     ]
    }
   ],
   "source": [
    "db_3 = pd.read_csv('02-16-2018.csv')"
   ]
  },
  {
   "cell_type": "code",
   "execution_count": 17,
   "id": "faae8ffb",
   "metadata": {},
   "outputs": [],
   "source": [
    "db_4 = pd.read_csv('02-20-2018.csv')"
   ]
  },
  {
   "cell_type": "code",
   "execution_count": 18,
   "id": "38131297",
   "metadata": {},
   "outputs": [],
   "source": [
    "db_5 = pd.read_csv('02-21-2018.csv')"
   ]
  },
  {
   "cell_type": "code",
   "execution_count": 26,
   "id": "b8167424",
   "metadata": {},
   "outputs": [],
   "source": [
    "db_6 = pd.read_csv('02-22-2018.csv')"
   ]
  },
  {
   "cell_type": "code",
   "execution_count": null,
   "id": "46d7da95",
   "metadata": {},
   "outputs": [],
   "source": [
    "db_7 = pd.read_csv('02-23-2018.csv')"
   ]
  },
  {
   "cell_type": "code",
   "execution_count": null,
   "id": "b2465598",
   "metadata": {},
   "outputs": [],
   "source": [
    "db_8 = pd.read_csv('02-28-2018.csv')"
   ]
  },
  {
   "cell_type": "code",
   "execution_count": null,
   "id": "2a9eb572",
   "metadata": {},
   "outputs": [],
   "source": [
    "db_9 = pd.read_csv('03-01-2018.csv')"
   ]
  },
  {
   "cell_type": "code",
   "execution_count": null,
   "id": "1a8b8cfe",
   "metadata": {},
   "outputs": [],
   "source": [
    "db_10 = pd.read_csv('03-02-2018.csv')"
   ]
  },
  {
   "cell_type": "code",
   "execution_count": 28,
   "id": "5d53c1e6",
   "metadata": {},
   "outputs": [
    {
     "name": "stdout",
     "output_type": "stream",
     "text": [
      "<class 'pandas.core.frame.DataFrame'>\n",
      "RangeIndex: 1048575 entries, 0 to 1048574\n",
      "Data columns (total 80 columns):\n",
      " #   Column             Non-Null Count    Dtype  \n",
      "---  ------             --------------    -----  \n",
      " 0   Dst Port           1048575 non-null  int64  \n",
      " 1   Protocol           1048575 non-null  int64  \n",
      " 2   Timestamp          1048575 non-null  object \n",
      " 3   Flow Duration      1048575 non-null  int64  \n",
      " 4   Tot Fwd Pkts       1048575 non-null  int64  \n",
      " 5   Tot Bwd Pkts       1048575 non-null  int64  \n",
      " 6   TotLen Fwd Pkts    1048575 non-null  int64  \n",
      " 7   TotLen Bwd Pkts    1048575 non-null  int64  \n",
      " 8   Fwd Pkt Len Max    1048575 non-null  int64  \n",
      " 9   Fwd Pkt Len Min    1048575 non-null  int64  \n",
      " 10  Fwd Pkt Len Mean   1048575 non-null  float64\n",
      " 11  Fwd Pkt Len Std    1048575 non-null  float64\n",
      " 12  Bwd Pkt Len Max    1048575 non-null  int64  \n",
      " 13  Bwd Pkt Len Min    1048575 non-null  int64  \n",
      " 14  Bwd Pkt Len Mean   1048575 non-null  float64\n",
      " 15  Bwd Pkt Len Std    1048575 non-null  float64\n",
      " 16  Flow Byts/s        1046298 non-null  float64\n",
      " 17  Flow Pkts/s        1048575 non-null  float64\n",
      " 18  Flow IAT Mean      1048575 non-null  float64\n",
      " 19  Flow IAT Std       1048575 non-null  float64\n",
      " 20  Flow IAT Max       1048575 non-null  int64  \n",
      " 21  Flow IAT Min       1048575 non-null  int64  \n",
      " 22  Fwd IAT Tot        1048575 non-null  int64  \n",
      " 23  Fwd IAT Mean       1048575 non-null  float64\n",
      " 24  Fwd IAT Std        1048575 non-null  float64\n",
      " 25  Fwd IAT Max        1048575 non-null  int64  \n",
      " 26  Fwd IAT Min        1048575 non-null  int64  \n",
      " 27  Bwd IAT Tot        1048575 non-null  int64  \n",
      " 28  Bwd IAT Mean       1048575 non-null  float64\n",
      " 29  Bwd IAT Std        1048575 non-null  float64\n",
      " 30  Bwd IAT Max        1048575 non-null  int64  \n",
      " 31  Bwd IAT Min        1048575 non-null  int64  \n",
      " 32  Fwd PSH Flags      1048575 non-null  int64  \n",
      " 33  Bwd PSH Flags      1048575 non-null  int64  \n",
      " 34  Fwd URG Flags      1048575 non-null  int64  \n",
      " 35  Bwd URG Flags      1048575 non-null  int64  \n",
      " 36  Fwd Header Len     1048575 non-null  int64  \n",
      " 37  Bwd Header Len     1048575 non-null  int64  \n",
      " 38  Fwd Pkts/s         1048575 non-null  float64\n",
      " 39  Bwd Pkts/s         1048575 non-null  float64\n",
      " 40  Pkt Len Min        1048575 non-null  int64  \n",
      " 41  Pkt Len Max        1048575 non-null  int64  \n",
      " 42  Pkt Len Mean       1048575 non-null  float64\n",
      " 43  Pkt Len Std        1048575 non-null  float64\n",
      " 44  Pkt Len Var        1048575 non-null  float64\n",
      " 45  FIN Flag Cnt       1048575 non-null  int64  \n",
      " 46  SYN Flag Cnt       1048575 non-null  int64  \n",
      " 47  RST Flag Cnt       1048575 non-null  int64  \n",
      " 48  PSH Flag Cnt       1048575 non-null  int64  \n",
      " 49  ACK Flag Cnt       1048575 non-null  int64  \n",
      " 50  URG Flag Cnt       1048575 non-null  int64  \n",
      " 51  CWE Flag Count     1048575 non-null  int64  \n",
      " 52  ECE Flag Cnt       1048575 non-null  int64  \n",
      " 53  Down/Up Ratio      1048575 non-null  int64  \n",
      " 54  Pkt Size Avg       1048575 non-null  float64\n",
      " 55  Fwd Seg Size Avg   1048575 non-null  float64\n",
      " 56  Bwd Seg Size Avg   1048575 non-null  float64\n",
      " 57  Fwd Byts/b Avg     1048575 non-null  int64  \n",
      " 58  Fwd Pkts/b Avg     1048575 non-null  int64  \n",
      " 59  Fwd Blk Rate Avg   1048575 non-null  int64  \n",
      " 60  Bwd Byts/b Avg     1048575 non-null  int64  \n",
      " 61  Bwd Pkts/b Avg     1048575 non-null  int64  \n",
      " 62  Bwd Blk Rate Avg   1048575 non-null  int64  \n",
      " 63  Subflow Fwd Pkts   1048575 non-null  int64  \n",
      " 64  Subflow Fwd Byts   1048575 non-null  int64  \n",
      " 65  Subflow Bwd Pkts   1048575 non-null  int64  \n",
      " 66  Subflow Bwd Byts   1048575 non-null  int64  \n",
      " 67  Init Fwd Win Byts  1048575 non-null  int64  \n",
      " 68  Init Bwd Win Byts  1048575 non-null  int64  \n",
      " 69  Fwd Act Data Pkts  1048575 non-null  int64  \n",
      " 70  Fwd Seg Size Min   1048575 non-null  int64  \n",
      " 71  Active Mean        1048575 non-null  float64\n",
      " 72  Active Std         1048575 non-null  float64\n",
      " 73  Active Max         1048575 non-null  int64  \n",
      " 74  Active Min         1048575 non-null  int64  \n",
      " 75  Idle Mean          1048575 non-null  float64\n",
      " 76  Idle Std           1048575 non-null  float64\n",
      " 77  Idle Max           1048575 non-null  int64  \n",
      " 78  Idle Min           1048575 non-null  int64  \n",
      " 79  Label              1048575 non-null  object \n",
      "dtypes: float64(24), int64(54), object(2)\n",
      "memory usage: 640.0+ MB\n"
     ]
    }
   ],
   "source": [
    "db_1.info()"
   ]
  },
  {
   "cell_type": "code",
   "execution_count": 39,
   "id": "96e656ab",
   "metadata": {},
   "outputs": [
    {
     "name": "stdout",
     "output_type": "stream",
     "text": [
      "Размер db_1: (1048575, 80)\n",
      "Размер db_2: (1048575, 80)\n"
     ]
    }
   ],
   "source": [
    "print('Размер db_1:', db_1.shape)\n",
    "print('Размер db_2:', db_2.shape)"
   ]
  },
  {
   "cell_type": "code",
   "execution_count": 60,
   "id": "8ed96270",
   "metadata": {},
   "outputs": [
    {
     "name": "stdout",
     "output_type": "stream",
     "text": [
      "CPU times: user 3 µs, sys: 1e+03 ns, total: 4 µs\n",
      "Wall time: 5.96 µs\n"
     ]
    }
   ],
   "source": [
    "%time\n",
    "db_1_2 = db_1.merge(db_2, how='outer')"
   ]
  },
  {
   "cell_type": "code",
   "execution_count": 46,
   "id": "de2db475",
   "metadata": {},
   "outputs": [],
   "source": [
    "db_1.merge?"
   ]
  },
  {
   "cell_type": "code",
   "execution_count": 49,
   "id": "ee772304",
   "metadata": {},
   "outputs": [
    {
     "data": {
      "text/plain": [
       "(2097150, 80)"
      ]
     },
     "execution_count": 49,
     "metadata": {},
     "output_type": "execute_result"
    }
   ],
   "source": [
    "db_1_2.shape"
   ]
  },
  {
   "cell_type": "code",
   "execution_count": 61,
   "id": "c8fda678",
   "metadata": {},
   "outputs": [],
   "source": [
    "db_1_2 = db_1_2[['Dst Port', 'Protocol', 'Flow Duration', 'Tot Fwd Pkts', 'Tot Bwd Pkts', 'TotLen Fwd Pkts', 'TotLen Bwd Pkts']]"
   ]
  },
  {
   "cell_type": "code",
   "execution_count": 62,
   "id": "e3542778",
   "metadata": {},
   "outputs": [
    {
     "name": "stdout",
     "output_type": "stream",
     "text": [
      "<class 'pandas.core.frame.DataFrame'>\n",
      "Int64Index: 2097150 entries, 0 to 2097149\n",
      "Data columns (total 7 columns):\n",
      " #   Column           Dtype\n",
      "---  ------           -----\n",
      " 0   Dst Port         int64\n",
      " 1   Protocol         int64\n",
      " 2   Flow Duration    int64\n",
      " 3   Tot Fwd Pkts     int64\n",
      " 4   Tot Bwd Pkts     int64\n",
      " 5   TotLen Fwd Pkts  int64\n",
      " 6   TotLen Bwd Pkts  int64\n",
      "dtypes: int64(7)\n",
      "memory usage: 128.0 MB\n"
     ]
    }
   ],
   "source": [
    "db_1_2.info()"
   ]
  },
  {
   "cell_type": "markdown",
   "id": "5ed3c48c",
   "metadata": {},
   "source": [
    "### Имеет смысл проанализированить отдельно каждый дота сет и взять оттуда отдельные признаки, затем объединить в один дата сет\n",
    "#### Так как при использовании 7 признаков из 80 вес сократился в 10 раз"
   ]
  },
  {
   "cell_type": "code",
   "execution_count": 63,
   "id": "3632bb87",
   "metadata": {},
   "outputs": [
    {
     "data": {
      "text/plain": [
       "array([ 0,  6, 17])"
      ]
     },
     "execution_count": 63,
     "metadata": {},
     "output_type": "execute_result"
    }
   ],
   "source": [
    "db_1_2['Protocol'].unique()"
   ]
  },
  {
   "cell_type": "code",
   "execution_count": 64,
   "id": "81fa62da",
   "metadata": {},
   "outputs": [
    {
     "data": {
      "text/html": [
       "<div>\n",
       "<style scoped>\n",
       "    .dataframe tbody tr th:only-of-type {\n",
       "        vertical-align: middle;\n",
       "    }\n",
       "\n",
       "    .dataframe tbody tr th {\n",
       "        vertical-align: top;\n",
       "    }\n",
       "\n",
       "    .dataframe thead th {\n",
       "        text-align: right;\n",
       "    }\n",
       "</style>\n",
       "<table border=\"1\" class=\"dataframe\">\n",
       "  <thead>\n",
       "    <tr style=\"text-align: right;\">\n",
       "      <th></th>\n",
       "      <th>Dst Port</th>\n",
       "      <th>Protocol</th>\n",
       "      <th>Flow Duration</th>\n",
       "      <th>Tot Fwd Pkts</th>\n",
       "      <th>Tot Bwd Pkts</th>\n",
       "      <th>TotLen Fwd Pkts</th>\n",
       "      <th>TotLen Bwd Pkts</th>\n",
       "    </tr>\n",
       "  </thead>\n",
       "  <tbody>\n",
       "    <tr>\n",
       "      <th>0</th>\n",
       "      <td>0</td>\n",
       "      <td>0</td>\n",
       "      <td>112641719</td>\n",
       "      <td>3</td>\n",
       "      <td>0</td>\n",
       "      <td>0</td>\n",
       "      <td>0</td>\n",
       "    </tr>\n",
       "    <tr>\n",
       "      <th>1</th>\n",
       "      <td>0</td>\n",
       "      <td>0</td>\n",
       "      <td>112641466</td>\n",
       "      <td>3</td>\n",
       "      <td>0</td>\n",
       "      <td>0</td>\n",
       "      <td>0</td>\n",
       "    </tr>\n",
       "    <tr>\n",
       "      <th>2</th>\n",
       "      <td>0</td>\n",
       "      <td>0</td>\n",
       "      <td>112638623</td>\n",
       "      <td>3</td>\n",
       "      <td>0</td>\n",
       "      <td>0</td>\n",
       "      <td>0</td>\n",
       "    </tr>\n",
       "    <tr>\n",
       "      <th>3</th>\n",
       "      <td>22</td>\n",
       "      <td>6</td>\n",
       "      <td>6453966</td>\n",
       "      <td>15</td>\n",
       "      <td>10</td>\n",
       "      <td>1239</td>\n",
       "      <td>2273</td>\n",
       "    </tr>\n",
       "    <tr>\n",
       "      <th>4</th>\n",
       "      <td>22</td>\n",
       "      <td>6</td>\n",
       "      <td>8804066</td>\n",
       "      <td>14</td>\n",
       "      <td>11</td>\n",
       "      <td>1143</td>\n",
       "      <td>2209</td>\n",
       "    </tr>\n",
       "  </tbody>\n",
       "</table>\n",
       "</div>"
      ],
      "text/plain": [
       "   Dst Port  Protocol  Flow Duration  Tot Fwd Pkts  Tot Bwd Pkts  \\\n",
       "0         0         0      112641719             3             0   \n",
       "1         0         0      112641466             3             0   \n",
       "2         0         0      112638623             3             0   \n",
       "3        22         6        6453966            15            10   \n",
       "4        22         6        8804066            14            11   \n",
       "\n",
       "   TotLen Fwd Pkts  TotLen Bwd Pkts  \n",
       "0                0                0  \n",
       "1                0                0  \n",
       "2                0                0  \n",
       "3             1239             2273  \n",
       "4             1143             2209  "
      ]
     },
     "execution_count": 64,
     "metadata": {},
     "output_type": "execute_result"
    }
   ],
   "source": [
    "db_1_2.head()"
   ]
  },
  {
   "cell_type": "code",
   "execution_count": 78,
   "id": "0d384702",
   "metadata": {},
   "outputs": [],
   "source": [
    "categories = {}\n",
    "for key, value in enumerate(db_1['Label'].unique()):\n",
    "    categories[value] = key + 1\n",
    "    \n",
    "db_1['Category_Label'] = db_1['Label'].map(categories)"
   ]
  },
  {
   "cell_type": "code",
   "execution_count": 146,
   "id": "dbe6543e",
   "metadata": {},
   "outputs": [
    {
     "data": {
      "text/plain": [
       "array(['Benign', 'FTP-BruteForce', 'SSH-Bruteforce'], dtype=object)"
      ]
     },
     "execution_count": 146,
     "metadata": {},
     "output_type": "execute_result"
    }
   ],
   "source": [
    "db_1['Label'].unique()"
   ]
  },
  {
   "cell_type": "code",
   "execution_count": 82,
   "id": "768ef461",
   "metadata": {},
   "outputs": [
    {
     "data": {
      "text/plain": [
       "<AxesSubplot:>"
      ]
     },
     "execution_count": 82,
     "metadata": {},
     "output_type": "execute_result"
    },
    {
     "data": {
      "image/png": "[encoded data removed]",
      "text/plain": [
       "<Figure size 432x288 with 2 Axes>"
      ]
     },
     "metadata": {
      "needs_background": "light"
     },
     "output_type": "display_data"
    }
   ],
   "source": [
    "sns.heatmap(db_1.corr())"
   ]
  },
  {
   "cell_type": "code",
   "execution_count": 96,
   "id": "c4ca5282",
   "metadata": {
    "scrolled": false
   },
   "outputs": [],
   "source": [
    "corr = db_1.corr()"
   ]
  },
  {
   "cell_type": "code",
   "execution_count": 115,
   "id": "995bc059",
   "metadata": {},
   "outputs": [
    {
     "data": {
      "text/plain": [
       "Dst Port        -0.234100\n",
       "Protocol        -0.329080\n",
       "Flow Duration   -0.003390\n",
       "Tot Fwd Pkts     0.029281\n",
       "Tot Bwd Pkts     0.003248\n",
       "Name: Category_Label, dtype: float64"
      ]
     },
     "execution_count": 115,
     "metadata": {},
     "output_type": "execute_result"
    }
   ],
   "source": [
    "corr['Category_Label'].head()"
   ]
  },
  {
   "cell_type": "code",
   "execution_count": 126,
   "id": "043ac0f0",
   "metadata": {},
   "outputs": [
    {
     "data": {
      "text/html": [
       "<div>\n",
       "<style scoped>\n",
       "    .dataframe tbody tr th:only-of-type {\n",
       "        vertical-align: middle;\n",
       "    }\n",
       "\n",
       "    .dataframe tbody tr th {\n",
       "        vertical-align: top;\n",
       "    }\n",
       "\n",
       "    .dataframe thead th {\n",
       "        text-align: right;\n",
       "    }\n",
       "</style>\n",
       "<table border=\"1\" class=\"dataframe\">\n",
       "  <thead>\n",
       "    <tr style=\"text-align: right;\">\n",
       "      <th></th>\n",
       "      <th>Dst Port</th>\n",
       "      <th>Protocol</th>\n",
       "      <th>Timestamp</th>\n",
       "      <th>Flow Duration</th>\n",
       "      <th>Tot Fwd Pkts</th>\n",
       "      <th>Tot Bwd Pkts</th>\n",
       "      <th>TotLen Fwd Pkts</th>\n",
       "      <th>TotLen Bwd Pkts</th>\n",
       "      <th>Fwd Pkt Len Max</th>\n",
       "      <th>Fwd Pkt Len Min</th>\n",
       "      <th>...</th>\n",
       "      <th>Active Mean</th>\n",
       "      <th>Active Std</th>\n",
       "      <th>Active Max</th>\n",
       "      <th>Active Min</th>\n",
       "      <th>Idle Mean</th>\n",
       "      <th>Idle Std</th>\n",
       "      <th>Idle Max</th>\n",
       "      <th>Idle Min</th>\n",
       "      <th>Label</th>\n",
       "      <th>Category_Label</th>\n",
       "    </tr>\n",
       "  </thead>\n",
       "  <tbody>\n",
       "    <tr>\n",
       "      <th>0</th>\n",
       "      <td>0</td>\n",
       "      <td>0</td>\n",
       "      <td>14/02/2018 08:31:01</td>\n",
       "      <td>112641719</td>\n",
       "      <td>3</td>\n",
       "      <td>0</td>\n",
       "      <td>0</td>\n",
       "      <td>0</td>\n",
       "      <td>0</td>\n",
       "      <td>0</td>\n",
       "      <td>...</td>\n",
       "      <td>0.0</td>\n",
       "      <td>0.0</td>\n",
       "      <td>0</td>\n",
       "      <td>0</td>\n",
       "      <td>56320859.5</td>\n",
       "      <td>139.300036</td>\n",
       "      <td>56320958</td>\n",
       "      <td>56320761</td>\n",
       "      <td>Benign</td>\n",
       "      <td>1</td>\n",
       "    </tr>\n",
       "    <tr>\n",
       "      <th>1</th>\n",
       "      <td>0</td>\n",
       "      <td>0</td>\n",
       "      <td>14/02/2018 08:33:50</td>\n",
       "      <td>112641466</td>\n",
       "      <td>3</td>\n",
       "      <td>0</td>\n",
       "      <td>0</td>\n",
       "      <td>0</td>\n",
       "      <td>0</td>\n",
       "      <td>0</td>\n",
       "      <td>...</td>\n",
       "      <td>0.0</td>\n",
       "      <td>0.0</td>\n",
       "      <td>0</td>\n",
       "      <td>0</td>\n",
       "      <td>56320733.0</td>\n",
       "      <td>114.551299</td>\n",
       "      <td>56320814</td>\n",
       "      <td>56320652</td>\n",
       "      <td>Benign</td>\n",
       "      <td>1</td>\n",
       "    </tr>\n",
       "    <tr>\n",
       "      <th>2</th>\n",
       "      <td>0</td>\n",
       "      <td>0</td>\n",
       "      <td>14/02/2018 08:36:39</td>\n",
       "      <td>112638623</td>\n",
       "      <td>3</td>\n",
       "      <td>0</td>\n",
       "      <td>0</td>\n",
       "      <td>0</td>\n",
       "      <td>0</td>\n",
       "      <td>0</td>\n",
       "      <td>...</td>\n",
       "      <td>0.0</td>\n",
       "      <td>0.0</td>\n",
       "      <td>0</td>\n",
       "      <td>0</td>\n",
       "      <td>56319311.5</td>\n",
       "      <td>301.934596</td>\n",
       "      <td>56319525</td>\n",
       "      <td>56319098</td>\n",
       "      <td>Benign</td>\n",
       "      <td>1</td>\n",
       "    </tr>\n",
       "    <tr>\n",
       "      <th>3</th>\n",
       "      <td>22</td>\n",
       "      <td>6</td>\n",
       "      <td>14/02/2018 08:40:13</td>\n",
       "      <td>6453966</td>\n",
       "      <td>15</td>\n",
       "      <td>10</td>\n",
       "      <td>1239</td>\n",
       "      <td>2273</td>\n",
       "      <td>744</td>\n",
       "      <td>0</td>\n",
       "      <td>...</td>\n",
       "      <td>0.0</td>\n",
       "      <td>0.0</td>\n",
       "      <td>0</td>\n",
       "      <td>0</td>\n",
       "      <td>0.0</td>\n",
       "      <td>0.000000</td>\n",
       "      <td>0</td>\n",
       "      <td>0</td>\n",
       "      <td>Benign</td>\n",
       "      <td>1</td>\n",
       "    </tr>\n",
       "    <tr>\n",
       "      <th>4</th>\n",
       "      <td>22</td>\n",
       "      <td>6</td>\n",
       "      <td>14/02/2018 08:40:23</td>\n",
       "      <td>8804066</td>\n",
       "      <td>14</td>\n",
       "      <td>11</td>\n",
       "      <td>1143</td>\n",
       "      <td>2209</td>\n",
       "      <td>744</td>\n",
       "      <td>0</td>\n",
       "      <td>...</td>\n",
       "      <td>0.0</td>\n",
       "      <td>0.0</td>\n",
       "      <td>0</td>\n",
       "      <td>0</td>\n",
       "      <td>0.0</td>\n",
       "      <td>0.000000</td>\n",
       "      <td>0</td>\n",
       "      <td>0</td>\n",
       "      <td>Benign</td>\n",
       "      <td>1</td>\n",
       "    </tr>\n",
       "  </tbody>\n",
       "</table>\n",
       "<p>5 rows × 81 columns</p>\n",
       "</div>"
      ],
      "text/plain": [
       "   Dst Port  Protocol            Timestamp  Flow Duration  Tot Fwd Pkts  \\\n",
       "0         0         0  14/02/2018 08:31:01      112641719             3   \n",
       "1         0         0  14/02/2018 08:33:50      112641466             3   \n",
       "2         0         0  14/02/2018 08:36:39      112638623             3   \n",
       "3        22         6  14/02/2018 08:40:13        6453966            15   \n",
       "4        22         6  14/02/2018 08:40:23        8804066            14   \n",
       "\n",
       "   Tot Bwd Pkts  TotLen Fwd Pkts  TotLen Bwd Pkts  Fwd Pkt Len Max  \\\n",
       "0             0                0                0                0   \n",
       "1             0                0                0                0   \n",
       "2             0                0                0                0   \n",
       "3            10             1239             2273              744   \n",
       "4            11             1143             2209              744   \n",
       "\n",
       "   Fwd Pkt Len Min  ...  Active Mean  Active Std  Active Max  Active Min  \\\n",
       "0                0  ...          0.0         0.0           0           0   \n",
       "1                0  ...          0.0         0.0           0           0   \n",
       "2                0  ...          0.0         0.0           0           0   \n",
       "3                0  ...          0.0         0.0           0           0   \n",
       "4                0  ...          0.0         0.0           0           0   \n",
       "\n",
       "    Idle Mean    Idle Std  Idle Max  Idle Min   Label  Category_Label  \n",
       "0  56320859.5  139.300036  56320958  56320761  Benign               1  \n",
       "1  56320733.0  114.551299  56320814  56320652  Benign               1  \n",
       "2  56319311.5  301.934596  56319525  56319098  Benign               1  \n",
       "3         0.0    0.000000         0         0  Benign               1  \n",
       "4         0.0    0.000000         0         0  Benign               1  \n",
       "\n",
       "[5 rows x 81 columns]"
      ]
     },
     "execution_count": 126,
     "metadata": {},
     "output_type": "execute_result"
    }
   ],
   "source": [
    "db_1.head()"
   ]
  },
  {
   "cell_type": "code",
   "execution_count": 145,
   "id": "86a91943",
   "metadata": {},
   "outputs": [
    {
     "data": {
      "text/plain": [
       "<AxesSubplot:>"
      ]
     },
     "execution_count": 145,
     "metadata": {},
     "output_type": "execute_result"
    },
    {
     "data": {
      "image/png": "[encoded data removed]",
      "text/plain": [
       "<Figure size 432x288 with 1 Axes>"
      ]
     },
     "metadata": {
      "needs_background": "light"
     },
     "output_type": "display_data"
    }
   ],
   "source": [
    "corr['Category_Label'].plot.bar()"
   ]
  },
  {
   "cell_type": "markdown",
   "id": "2f3cad7c",
   "metadata": {},
   "source": [
    "#### Для первичной выборки признаков можно воспользоваться такблицей кореляции, далее можно восмользоваться <a href = 'https://habr.com/ru/post/550978/'>методом выбора признаков для модели случайного леса </a>\n"
   ]
  },
  {
   "cell_type": "code",
   "execution_count": 125,
   "id": "62924bad",
   "metadata": {},
   "outputs": [],
   "source": [
    "from sklearn.feature_selection import GenericUnivariateSelect, mutual_info_classif, SelectFromModel\n",
    "from sklearn.pipeline import Pipeline\n",
    "from sklearn.model_selection import StratifiedKFold, GridSearchCV, cross_val_score\n",
    "from sklearn.ensemble import RandomForestClassifier\n",
    "from sklearn.preprocessing import PowerTransformer\n",
    "from sklearn.linear_model import LogisticRegression"
   ]
  },
  {
   "cell_type": "code",
   "execution_count": 135,
   "id": "c67dafd2",
   "metadata": {},
   "outputs": [],
   "source": [
    "# зафиксируем значение генератора случайных чисел для воспроизводимости \n",
    "SEED = 1\n",
    "\n",
    "def plot_features_scores(model, data, target, column_names, model_type):\n",
    "    '''Функция для визуализации важности признаков'''\n",
    "    \n",
    "    model.fit(data, target)\n",
    "    \n",
    "    if model_type == 'rf':\n",
    "        (pd.DataFrame(data={'score': model['rf'].feature_importances_}, \n",
    "                      index=column_names).sort_values(by='score')\n",
    "                                         .plot(kind='barh', grid=True,\n",
    "                                               figsize=(6,6), legend=False));\n",
    "    elif model_type == 'lr':\n",
    "        (pd.DataFrame(data={'score': model['lr'].coef_[0]},\n",
    "                      index=column_names).sort_values(by='score')\n",
    "                                         .plot(kind='barh', grid=True,\n",
    "                                               figsize=(6,6), legend=False));\n",
    "        \n",
    "    else:\n",
    "        raise KeyError('Unknown model_type')\n",
    "\n",
    "        \n",
    "def grid_search(model, gs_params):\n",
    "    '''Функция для подбора гиперпараметров с помощью перекрёстной проверки'''\n",
    "     \n",
    "    gs = GridSearchCV(estimator=model, param_grid=gs_params, refit=True,\n",
    "                      scoring='roc_auc', n_jobs=-1, cv=skf, verbose=0)\n",
    "    gs.fit(X, y)\n",
    "    scores = [gs.cv_results_[f'split{i}_test_score'][gs.best_index_] for i in range(5)]\n",
    "    print('scores = {}, \\nmean score = {:.5f} +/- {:.5f} \\\n",
    "           \\nbest params = {}'.format(scores,\n",
    "                                      gs.cv_results_['mean_test_score'][gs.best_index_],\n",
    "                                      gs.cv_results_['std_test_score'][gs.best_index_],\n",
    "                                      gs.best_params_))\n",
    "    return gs\n",
    "        \n",
    "# оставим только численые признаки\n",
    "X = db_1.select_dtypes(exclude=['object']).copy()\n",
    "y = db_1['Category_Label']"
   ]
  },
  {
   "cell_type": "code",
   "execution_count": 136,
   "id": "97f2442c",
   "metadata": {},
   "outputs": [
    {
     "name": "stderr",
     "output_type": "stream",
     "text": [
      "/Users/macbook/opt/anaconda3/lib/python3.9/site-packages/sklearn/model_selection/_validation.py:615: FitFailedWarning: Estimator fit failed. The score on this train-test partition for these parameters will be set to nan. Details: \n",
      "Traceback (most recent call last):\n",
      "  File \"/Users/macbook/opt/anaconda3/lib/python3.9/site-packages/sklearn/model_selection/_validation.py\", line 598, in _fit_and_score\n",
      "    estimator.fit(X_train, y_train, **fit_params)\n",
      "  File \"/Users/macbook/opt/anaconda3/lib/python3.9/site-packages/sklearn/pipeline.py\", line 346, in fit\n",
      "    self._final_estimator.fit(Xt, y, **fit_params_last_step)\n",
      "  File \"/Users/macbook/opt/anaconda3/lib/python3.9/site-packages/sklearn/ensemble/_forest.py\", line 304, in fit\n",
      "    X, y = self._validate_data(X, y, multi_output=True,\n",
      "  File \"/Users/macbook/opt/anaconda3/lib/python3.9/site-packages/sklearn/base.py\", line 433, in _validate_data\n",
      "    X, y = check_X_y(X, y, **check_params)\n",
      "  File \"/Users/macbook/opt/anaconda3/lib/python3.9/site-packages/sklearn/utils/validation.py\", line 63, in inner_f\n",
      "    return f(*args, **kwargs)\n",
      "  File \"/Users/macbook/opt/anaconda3/lib/python3.9/site-packages/sklearn/utils/validation.py\", line 871, in check_X_y\n",
      "    X = check_array(X, accept_sparse=accept_sparse,\n",
      "  File \"/Users/macbook/opt/anaconda3/lib/python3.9/site-packages/sklearn/utils/validation.py\", line 63, in inner_f\n",
      "    return f(*args, **kwargs)\n",
      "  File \"/Users/macbook/opt/anaconda3/lib/python3.9/site-packages/sklearn/utils/validation.py\", line 720, in check_array\n",
      "    _assert_all_finite(array,\n",
      "  File \"/Users/macbook/opt/anaconda3/lib/python3.9/site-packages/sklearn/utils/validation.py\", line 103, in _assert_all_finite\n",
      "    raise ValueError(\n",
      "ValueError: Input contains NaN, infinity or a value too large for dtype('float32').\n",
      "\n",
      "  warnings.warn(\"Estimator fit failed. The score on this train-test\"\n",
      "/Users/macbook/opt/anaconda3/lib/python3.9/site-packages/sklearn/model_selection/_validation.py:615: FitFailedWarning: Estimator fit failed. The score on this train-test partition for these parameters will be set to nan. Details: \n",
      "Traceback (most recent call last):\n",
      "  File \"/Users/macbook/opt/anaconda3/lib/python3.9/site-packages/sklearn/model_selection/_validation.py\", line 598, in _fit_and_score\n",
      "    estimator.fit(X_train, y_train, **fit_params)\n",
      "  File \"/Users/macbook/opt/anaconda3/lib/python3.9/site-packages/sklearn/pipeline.py\", line 346, in fit\n",
      "    self._final_estimator.fit(Xt, y, **fit_params_last_step)\n",
      "  File \"/Users/macbook/opt/anaconda3/lib/python3.9/site-packages/sklearn/ensemble/_forest.py\", line 304, in fit\n",
      "    X, y = self._validate_data(X, y, multi_output=True,\n",
      "  File \"/Users/macbook/opt/anaconda3/lib/python3.9/site-packages/sklearn/base.py\", line 433, in _validate_data\n",
      "    X, y = check_X_y(X, y, **check_params)\n",
      "  File \"/Users/macbook/opt/anaconda3/lib/python3.9/site-packages/sklearn/utils/validation.py\", line 63, in inner_f\n",
      "    return f(*args, **kwargs)\n",
      "  File \"/Users/macbook/opt/anaconda3/lib/python3.9/site-packages/sklearn/utils/validation.py\", line 871, in check_X_y\n",
      "    X = check_array(X, accept_sparse=accept_sparse,\n",
      "  File \"/Users/macbook/opt/anaconda3/lib/python3.9/site-packages/sklearn/utils/validation.py\", line 63, in inner_f\n",
      "    return f(*args, **kwargs)\n",
      "  File \"/Users/macbook/opt/anaconda3/lib/python3.9/site-packages/sklearn/utils/validation.py\", line 720, in check_array\n",
      "    _assert_all_finite(array,\n",
      "  File \"/Users/macbook/opt/anaconda3/lib/python3.9/site-packages/sklearn/utils/validation.py\", line 103, in _assert_all_finite\n",
      "    raise ValueError(\n",
      "ValueError: Input contains NaN, infinity or a value too large for dtype('float32').\n",
      "\n",
      "  warnings.warn(\"Estimator fit failed. The score on this train-test\"\n",
      "/Users/macbook/opt/anaconda3/lib/python3.9/site-packages/sklearn/model_selection/_validation.py:615: FitFailedWarning: Estimator fit failed. The score on this train-test partition for these parameters will be set to nan. Details: \n",
      "Traceback (most recent call last):\n",
      "  File \"/Users/macbook/opt/anaconda3/lib/python3.9/site-packages/sklearn/model_selection/_validation.py\", line 598, in _fit_and_score\n",
      "    estimator.fit(X_train, y_train, **fit_params)\n",
      "  File \"/Users/macbook/opt/anaconda3/lib/python3.9/site-packages/sklearn/pipeline.py\", line 346, in fit\n",
      "    self._final_estimator.fit(Xt, y, **fit_params_last_step)\n",
      "  File \"/Users/macbook/opt/anaconda3/lib/python3.9/site-packages/sklearn/ensemble/_forest.py\", line 304, in fit\n",
      "    X, y = self._validate_data(X, y, multi_output=True,\n",
      "  File \"/Users/macbook/opt/anaconda3/lib/python3.9/site-packages/sklearn/base.py\", line 433, in _validate_data\n",
      "    X, y = check_X_y(X, y, **check_params)\n",
      "  File \"/Users/macbook/opt/anaconda3/lib/python3.9/site-packages/sklearn/utils/validation.py\", line 63, in inner_f\n",
      "    return f(*args, **kwargs)\n",
      "  File \"/Users/macbook/opt/anaconda3/lib/python3.9/site-packages/sklearn/utils/validation.py\", line 871, in check_X_y\n",
      "    X = check_array(X, accept_sparse=accept_sparse,\n",
      "  File \"/Users/macbook/opt/anaconda3/lib/python3.9/site-packages/sklearn/utils/validation.py\", line 63, in inner_f\n",
      "    return f(*args, **kwargs)\n",
      "  File \"/Users/macbook/opt/anaconda3/lib/python3.9/site-packages/sklearn/utils/validation.py\", line 720, in check_array\n",
      "    _assert_all_finite(array,\n",
      "  File \"/Users/macbook/opt/anaconda3/lib/python3.9/site-packages/sklearn/utils/validation.py\", line 103, in _assert_all_finite\n",
      "    raise ValueError(\n",
      "ValueError: Input contains NaN, infinity or a value too large for dtype('float32').\n",
      "\n",
      "  warnings.warn(\"Estimator fit failed. The score on this train-test\"\n",
      "/Users/macbook/opt/anaconda3/lib/python3.9/site-packages/sklearn/model_selection/_validation.py:615: FitFailedWarning: Estimator fit failed. The score on this train-test partition for these parameters will be set to nan. Details: \n",
      "Traceback (most recent call last):\n",
      "  File \"/Users/macbook/opt/anaconda3/lib/python3.9/site-packages/sklearn/model_selection/_validation.py\", line 598, in _fit_and_score\n",
      "    estimator.fit(X_train, y_train, **fit_params)\n",
      "  File \"/Users/macbook/opt/anaconda3/lib/python3.9/site-packages/sklearn/pipeline.py\", line 346, in fit\n",
      "    self._final_estimator.fit(Xt, y, **fit_params_last_step)\n",
      "  File \"/Users/macbook/opt/anaconda3/lib/python3.9/site-packages/sklearn/ensemble/_forest.py\", line 304, in fit\n",
      "    X, y = self._validate_data(X, y, multi_output=True,\n",
      "  File \"/Users/macbook/opt/anaconda3/lib/python3.9/site-packages/sklearn/base.py\", line 433, in _validate_data\n",
      "    X, y = check_X_y(X, y, **check_params)\n",
      "  File \"/Users/macbook/opt/anaconda3/lib/python3.9/site-packages/sklearn/utils/validation.py\", line 63, in inner_f\n",
      "    return f(*args, **kwargs)\n",
      "  File \"/Users/macbook/opt/anaconda3/lib/python3.9/site-packages/sklearn/utils/validation.py\", line 871, in check_X_y\n",
      "    X = check_array(X, accept_sparse=accept_sparse,\n",
      "  File \"/Users/macbook/opt/anaconda3/lib/python3.9/site-packages/sklearn/utils/validation.py\", line 63, in inner_f\n",
      "    return f(*args, **kwargs)\n",
      "  File \"/Users/macbook/opt/anaconda3/lib/python3.9/site-packages/sklearn/utils/validation.py\", line 720, in check_array\n",
      "    _assert_all_finite(array,\n",
      "  File \"/Users/macbook/opt/anaconda3/lib/python3.9/site-packages/sklearn/utils/validation.py\", line 103, in _assert_all_finite\n",
      "    raise ValueError(\n",
      "ValueError: Input contains NaN, infinity or a value too large for dtype('float32').\n",
      "\n",
      "  warnings.warn(\"Estimator fit failed. The score on this train-test\"\n",
      "/Users/macbook/opt/anaconda3/lib/python3.9/site-packages/sklearn/model_selection/_validation.py:615: FitFailedWarning: Estimator fit failed. The score on this train-test partition for these parameters will be set to nan. Details: \n",
      "Traceback (most recent call last):\n",
      "  File \"/Users/macbook/opt/anaconda3/lib/python3.9/site-packages/sklearn/model_selection/_validation.py\", line 598, in _fit_and_score\n",
      "    estimator.fit(X_train, y_train, **fit_params)\n",
      "  File \"/Users/macbook/opt/anaconda3/lib/python3.9/site-packages/sklearn/pipeline.py\", line 346, in fit\n",
      "    self._final_estimator.fit(Xt, y, **fit_params_last_step)\n",
      "  File \"/Users/macbook/opt/anaconda3/lib/python3.9/site-packages/sklearn/ensemble/_forest.py\", line 304, in fit\n",
      "    X, y = self._validate_data(X, y, multi_output=True,\n",
      "  File \"/Users/macbook/opt/anaconda3/lib/python3.9/site-packages/sklearn/base.py\", line 433, in _validate_data\n",
      "    X, y = check_X_y(X, y, **check_params)\n",
      "  File \"/Users/macbook/opt/anaconda3/lib/python3.9/site-packages/sklearn/utils/validation.py\", line 63, in inner_f\n",
      "    return f(*args, **kwargs)\n",
      "  File \"/Users/macbook/opt/anaconda3/lib/python3.9/site-packages/sklearn/utils/validation.py\", line 871, in check_X_y\n",
      "    X = check_array(X, accept_sparse=accept_sparse,\n",
      "  File \"/Users/macbook/opt/anaconda3/lib/python3.9/site-packages/sklearn/utils/validation.py\", line 63, in inner_f\n",
      "    return f(*args, **kwargs)\n",
      "  File \"/Users/macbook/opt/anaconda3/lib/python3.9/site-packages/sklearn/utils/validation.py\", line 720, in check_array\n",
      "    _assert_all_finite(array,\n",
      "  File \"/Users/macbook/opt/anaconda3/lib/python3.9/site-packages/sklearn/utils/validation.py\", line 103, in _assert_all_finite\n",
      "    raise ValueError(\n",
      "ValueError: Input contains NaN, infinity or a value too large for dtype('float32').\n",
      "\n",
      "  warnings.warn(\"Estimator fit failed. The score on this train-test\"\n"
     ]
    },
    {
     "name": "stdout",
     "output_type": "stream",
     "text": [
      "scores = [nan nan nan nan nan] \n",
      "mean score = nan +/- nan\n"
     ]
    }
   ],
   "source": [
    "rf = Pipeline([('rf', RandomForestClassifier(n_jobs=-1, \n",
    "                                             class_weight='balanced', \n",
    "                                             random_state=SEED))])\n",
    "# параметры кросс-валидации (стратифицированная 5-фолдовая с перемешиванием) \n",
    "skf = StratifiedKFold(n_splits=5, shuffle=True, random_state=SEED)\n",
    "\n",
    "scores = cross_val_score(estimator=rf, X=X, y=y, \n",
    "                         cv=skf, scoring='roc_auc', n_jobs=-1)\n",
    "print('scores = {} \\nmean score = {:.5f} +/- {:.5f}'.format(scores, scores.mean(), scores.std()))\n"
   ]
  },
  {
   "cell_type": "code",
   "execution_count": 134,
   "id": "b068ae75",
   "metadata": {},
   "outputs": [
    {
     "ename": "ValueError",
     "evalue": "Input contains NaN, infinity or a value too large for dtype('float32').",
     "output_type": "error",
     "traceback": [
      "\u001b[0;31m---------------------------------------------------------------------------\u001b[0m",
      "\u001b[0;31mValueError\u001b[0m                                Traceback (most recent call last)",
      "\u001b[0;32m/var/folders/mg/t4nck3g12k55ymh2tf9khgvm0000gn/T/ipykernel_1685/3125854797.py\u001b[0m in \u001b[0;36m<module>\u001b[0;34m\u001b[0m\n\u001b[0;32m----> 1\u001b[0;31m \u001b[0mplot_features_scores\u001b[0m\u001b[0;34m(\u001b[0m\u001b[0mmodel\u001b[0m\u001b[0;34m=\u001b[0m\u001b[0mrf\u001b[0m\u001b[0;34m,\u001b[0m \u001b[0mdata\u001b[0m\u001b[0;34m=\u001b[0m\u001b[0mX\u001b[0m\u001b[0;34m,\u001b[0m \u001b[0mtarget\u001b[0m\u001b[0;34m=\u001b[0m\u001b[0my\u001b[0m\u001b[0;34m,\u001b[0m \u001b[0mcolumn_names\u001b[0m\u001b[0;34m=\u001b[0m\u001b[0mX\u001b[0m\u001b[0;34m.\u001b[0m\u001b[0mcolumns\u001b[0m\u001b[0;34m,\u001b[0m \u001b[0mmodel_type\u001b[0m\u001b[0;34m=\u001b[0m\u001b[0;34m'rf'\u001b[0m\u001b[0;34m)\u001b[0m\u001b[0;34m\u001b[0m\u001b[0;34m\u001b[0m\u001b[0m\n\u001b[0m",
      "\u001b[0;32m/var/folders/mg/t4nck3g12k55ymh2tf9khgvm0000gn/T/ipykernel_1685/566744708.py\u001b[0m in \u001b[0;36mplot_features_scores\u001b[0;34m(model, data, target, column_names, model_type)\u001b[0m\n\u001b[1;32m      5\u001b[0m     \u001b[0;34m'''Функция для визуализации важности признаков'''\u001b[0m\u001b[0;34m\u001b[0m\u001b[0;34m\u001b[0m\u001b[0m\n\u001b[1;32m      6\u001b[0m \u001b[0;34m\u001b[0m\u001b[0m\n\u001b[0;32m----> 7\u001b[0;31m     \u001b[0mmodel\u001b[0m\u001b[0;34m.\u001b[0m\u001b[0mfit\u001b[0m\u001b[0;34m(\u001b[0m\u001b[0mdata\u001b[0m\u001b[0;34m,\u001b[0m \u001b[0mtarget\u001b[0m\u001b[0;34m)\u001b[0m\u001b[0;34m\u001b[0m\u001b[0;34m\u001b[0m\u001b[0m\n\u001b[0m\u001b[1;32m      8\u001b[0m \u001b[0;34m\u001b[0m\u001b[0m\n\u001b[1;32m      9\u001b[0m     \u001b[0;32mif\u001b[0m \u001b[0mmodel_type\u001b[0m \u001b[0;34m==\u001b[0m \u001b[0;34m'rf'\u001b[0m\u001b[0;34m:\u001b[0m\u001b[0;34m\u001b[0m\u001b[0;34m\u001b[0m\u001b[0m\n",
      "\u001b[0;32m~/opt/anaconda3/lib/python3.9/site-packages/sklearn/pipeline.py\u001b[0m in \u001b[0;36mfit\u001b[0;34m(self, X, y, **fit_params)\u001b[0m\n\u001b[1;32m    344\u001b[0m             \u001b[0;32mif\u001b[0m \u001b[0mself\u001b[0m\u001b[0;34m.\u001b[0m\u001b[0m_final_estimator\u001b[0m \u001b[0;34m!=\u001b[0m \u001b[0;34m'passthrough'\u001b[0m\u001b[0;34m:\u001b[0m\u001b[0;34m\u001b[0m\u001b[0;34m\u001b[0m\u001b[0m\n\u001b[1;32m    345\u001b[0m                 \u001b[0mfit_params_last_step\u001b[0m \u001b[0;34m=\u001b[0m \u001b[0mfit_params_steps\u001b[0m\u001b[0;34m[\u001b[0m\u001b[0mself\u001b[0m\u001b[0;34m.\u001b[0m\u001b[0msteps\u001b[0m\u001b[0;34m[\u001b[0m\u001b[0;34m-\u001b[0m\u001b[0;36m1\u001b[0m\u001b[0;34m]\u001b[0m\u001b[0;34m[\u001b[0m\u001b[0;36m0\u001b[0m\u001b[0;34m]\u001b[0m\u001b[0;34m]\u001b[0m\u001b[0;34m\u001b[0m\u001b[0;34m\u001b[0m\u001b[0m\n\u001b[0;32m--> 346\u001b[0;31m                 \u001b[0mself\u001b[0m\u001b[0;34m.\u001b[0m\u001b[0m_final_estimator\u001b[0m\u001b[0;34m.\u001b[0m\u001b[0mfit\u001b[0m\u001b[0;34m(\u001b[0m\u001b[0mXt\u001b[0m\u001b[0;34m,\u001b[0m \u001b[0my\u001b[0m\u001b[0;34m,\u001b[0m \u001b[0;34m**\u001b[0m\u001b[0mfit_params_last_step\u001b[0m\u001b[0;34m)\u001b[0m\u001b[0;34m\u001b[0m\u001b[0;34m\u001b[0m\u001b[0m\n\u001b[0m\u001b[1;32m    347\u001b[0m \u001b[0;34m\u001b[0m\u001b[0m\n\u001b[1;32m    348\u001b[0m         \u001b[0;32mreturn\u001b[0m \u001b[0mself\u001b[0m\u001b[0;34m\u001b[0m\u001b[0;34m\u001b[0m\u001b[0m\n",
      "\u001b[0;32m~/opt/anaconda3/lib/python3.9/site-packages/sklearn/ensemble/_forest.py\u001b[0m in \u001b[0;36mfit\u001b[0;34m(self, X, y, sample_weight)\u001b[0m\n\u001b[1;32m    302\u001b[0m                 \u001b[0;34m\"sparse multilabel-indicator for y is not supported.\"\u001b[0m\u001b[0;34m\u001b[0m\u001b[0;34m\u001b[0m\u001b[0m\n\u001b[1;32m    303\u001b[0m             )\n\u001b[0;32m--> 304\u001b[0;31m         X, y = self._validate_data(X, y, multi_output=True,\n\u001b[0m\u001b[1;32m    305\u001b[0m                                    accept_sparse=\"csc\", dtype=DTYPE)\n\u001b[1;32m    306\u001b[0m         \u001b[0;32mif\u001b[0m \u001b[0msample_weight\u001b[0m \u001b[0;32mis\u001b[0m \u001b[0;32mnot\u001b[0m \u001b[0;32mNone\u001b[0m\u001b[0;34m:\u001b[0m\u001b[0;34m\u001b[0m\u001b[0;34m\u001b[0m\u001b[0m\n",
      "\u001b[0;32m~/opt/anaconda3/lib/python3.9/site-packages/sklearn/base.py\u001b[0m in \u001b[0;36m_validate_data\u001b[0;34m(self, X, y, reset, validate_separately, **check_params)\u001b[0m\n\u001b[1;32m    431\u001b[0m                 \u001b[0my\u001b[0m \u001b[0;34m=\u001b[0m \u001b[0mcheck_array\u001b[0m\u001b[0;34m(\u001b[0m\u001b[0my\u001b[0m\u001b[0;34m,\u001b[0m \u001b[0;34m**\u001b[0m\u001b[0mcheck_y_params\u001b[0m\u001b[0;34m)\u001b[0m\u001b[0;34m\u001b[0m\u001b[0;34m\u001b[0m\u001b[0m\n\u001b[1;32m    432\u001b[0m             \u001b[0;32melse\u001b[0m\u001b[0;34m:\u001b[0m\u001b[0;34m\u001b[0m\u001b[0;34m\u001b[0m\u001b[0m\n\u001b[0;32m--> 433\u001b[0;31m                 \u001b[0mX\u001b[0m\u001b[0;34m,\u001b[0m \u001b[0my\u001b[0m \u001b[0;34m=\u001b[0m \u001b[0mcheck_X_y\u001b[0m\u001b[0;34m(\u001b[0m\u001b[0mX\u001b[0m\u001b[0;34m,\u001b[0m \u001b[0my\u001b[0m\u001b[0;34m,\u001b[0m \u001b[0;34m**\u001b[0m\u001b[0mcheck_params\u001b[0m\u001b[0;34m)\u001b[0m\u001b[0;34m\u001b[0m\u001b[0;34m\u001b[0m\u001b[0m\n\u001b[0m\u001b[1;32m    434\u001b[0m             \u001b[0mout\u001b[0m \u001b[0;34m=\u001b[0m \u001b[0mX\u001b[0m\u001b[0;34m,\u001b[0m \u001b[0my\u001b[0m\u001b[0;34m\u001b[0m\u001b[0;34m\u001b[0m\u001b[0m\n\u001b[1;32m    435\u001b[0m \u001b[0;34m\u001b[0m\u001b[0m\n",
      "\u001b[0;32m~/opt/anaconda3/lib/python3.9/site-packages/sklearn/utils/validation.py\u001b[0m in \u001b[0;36minner_f\u001b[0;34m(*args, **kwargs)\u001b[0m\n\u001b[1;32m     61\u001b[0m             \u001b[0mextra_args\u001b[0m \u001b[0;34m=\u001b[0m \u001b[0mlen\u001b[0m\u001b[0;34m(\u001b[0m\u001b[0margs\u001b[0m\u001b[0;34m)\u001b[0m \u001b[0;34m-\u001b[0m \u001b[0mlen\u001b[0m\u001b[0;34m(\u001b[0m\u001b[0mall_args\u001b[0m\u001b[0;34m)\u001b[0m\u001b[0;34m\u001b[0m\u001b[0;34m\u001b[0m\u001b[0m\n\u001b[1;32m     62\u001b[0m             \u001b[0;32mif\u001b[0m \u001b[0mextra_args\u001b[0m \u001b[0;34m<=\u001b[0m \u001b[0;36m0\u001b[0m\u001b[0;34m:\u001b[0m\u001b[0;34m\u001b[0m\u001b[0;34m\u001b[0m\u001b[0m\n\u001b[0;32m---> 63\u001b[0;31m                 \u001b[0;32mreturn\u001b[0m \u001b[0mf\u001b[0m\u001b[0;34m(\u001b[0m\u001b[0;34m*\u001b[0m\u001b[0margs\u001b[0m\u001b[0;34m,\u001b[0m \u001b[0;34m**\u001b[0m\u001b[0mkwargs\u001b[0m\u001b[0;34m)\u001b[0m\u001b[0;34m\u001b[0m\u001b[0;34m\u001b[0m\u001b[0m\n\u001b[0m\u001b[1;32m     64\u001b[0m \u001b[0;34m\u001b[0m\u001b[0m\n\u001b[1;32m     65\u001b[0m             \u001b[0;31m# extra_args > 0\u001b[0m\u001b[0;34m\u001b[0m\u001b[0;34m\u001b[0m\u001b[0m\n",
      "\u001b[0;32m~/opt/anaconda3/lib/python3.9/site-packages/sklearn/utils/validation.py\u001b[0m in \u001b[0;36mcheck_X_y\u001b[0;34m(X, y, accept_sparse, accept_large_sparse, dtype, order, copy, force_all_finite, ensure_2d, allow_nd, multi_output, ensure_min_samples, ensure_min_features, y_numeric, estimator)\u001b[0m\n\u001b[1;32m    869\u001b[0m         \u001b[0;32mraise\u001b[0m \u001b[0mValueError\u001b[0m\u001b[0;34m(\u001b[0m\u001b[0;34m\"y cannot be None\"\u001b[0m\u001b[0;34m)\u001b[0m\u001b[0;34m\u001b[0m\u001b[0;34m\u001b[0m\u001b[0m\n\u001b[1;32m    870\u001b[0m \u001b[0;34m\u001b[0m\u001b[0m\n\u001b[0;32m--> 871\u001b[0;31m     X = check_array(X, accept_sparse=accept_sparse,\n\u001b[0m\u001b[1;32m    872\u001b[0m                     \u001b[0maccept_large_sparse\u001b[0m\u001b[0;34m=\u001b[0m\u001b[0maccept_large_sparse\u001b[0m\u001b[0;34m,\u001b[0m\u001b[0;34m\u001b[0m\u001b[0;34m\u001b[0m\u001b[0m\n\u001b[1;32m    873\u001b[0m                     \u001b[0mdtype\u001b[0m\u001b[0;34m=\u001b[0m\u001b[0mdtype\u001b[0m\u001b[0;34m,\u001b[0m \u001b[0morder\u001b[0m\u001b[0;34m=\u001b[0m\u001b[0morder\u001b[0m\u001b[0;34m,\u001b[0m \u001b[0mcopy\u001b[0m\u001b[0;34m=\u001b[0m\u001b[0mcopy\u001b[0m\u001b[0;34m,\u001b[0m\u001b[0;34m\u001b[0m\u001b[0;34m\u001b[0m\u001b[0m\n",
      "\u001b[0;32m~/opt/anaconda3/lib/python3.9/site-packages/sklearn/utils/validation.py\u001b[0m in \u001b[0;36minner_f\u001b[0;34m(*args, **kwargs)\u001b[0m\n\u001b[1;32m     61\u001b[0m             \u001b[0mextra_args\u001b[0m \u001b[0;34m=\u001b[0m \u001b[0mlen\u001b[0m\u001b[0;34m(\u001b[0m\u001b[0margs\u001b[0m\u001b[0;34m)\u001b[0m \u001b[0;34m-\u001b[0m \u001b[0mlen\u001b[0m\u001b[0;34m(\u001b[0m\u001b[0mall_args\u001b[0m\u001b[0;34m)\u001b[0m\u001b[0;34m\u001b[0m\u001b[0;34m\u001b[0m\u001b[0m\n\u001b[1;32m     62\u001b[0m             \u001b[0;32mif\u001b[0m \u001b[0mextra_args\u001b[0m \u001b[0;34m<=\u001b[0m \u001b[0;36m0\u001b[0m\u001b[0;34m:\u001b[0m\u001b[0;34m\u001b[0m\u001b[0;34m\u001b[0m\u001b[0m\n\u001b[0;32m---> 63\u001b[0;31m                 \u001b[0;32mreturn\u001b[0m \u001b[0mf\u001b[0m\u001b[0;34m(\u001b[0m\u001b[0;34m*\u001b[0m\u001b[0margs\u001b[0m\u001b[0;34m,\u001b[0m \u001b[0;34m**\u001b[0m\u001b[0mkwargs\u001b[0m\u001b[0;34m)\u001b[0m\u001b[0;34m\u001b[0m\u001b[0;34m\u001b[0m\u001b[0m\n\u001b[0m\u001b[1;32m     64\u001b[0m \u001b[0;34m\u001b[0m\u001b[0m\n\u001b[1;32m     65\u001b[0m             \u001b[0;31m# extra_args > 0\u001b[0m\u001b[0;34m\u001b[0m\u001b[0;34m\u001b[0m\u001b[0m\n",
      "\u001b[0;32m~/opt/anaconda3/lib/python3.9/site-packages/sklearn/utils/validation.py\u001b[0m in \u001b[0;36mcheck_array\u001b[0;34m(array, accept_sparse, accept_large_sparse, dtype, order, copy, force_all_finite, ensure_2d, allow_nd, ensure_min_samples, ensure_min_features, estimator)\u001b[0m\n\u001b[1;32m    718\u001b[0m \u001b[0;34m\u001b[0m\u001b[0m\n\u001b[1;32m    719\u001b[0m         \u001b[0;32mif\u001b[0m \u001b[0mforce_all_finite\u001b[0m\u001b[0;34m:\u001b[0m\u001b[0;34m\u001b[0m\u001b[0;34m\u001b[0m\u001b[0m\n\u001b[0;32m--> 720\u001b[0;31m             _assert_all_finite(array,\n\u001b[0m\u001b[1;32m    721\u001b[0m                                allow_nan=force_all_finite == 'allow-nan')\n\u001b[1;32m    722\u001b[0m \u001b[0;34m\u001b[0m\u001b[0m\n",
      "\u001b[0;32m~/opt/anaconda3/lib/python3.9/site-packages/sklearn/utils/validation.py\u001b[0m in \u001b[0;36m_assert_all_finite\u001b[0;34m(X, allow_nan, msg_dtype)\u001b[0m\n\u001b[1;32m    101\u001b[0m                 not allow_nan and not np.isfinite(X).all()):\n\u001b[1;32m    102\u001b[0m             \u001b[0mtype_err\u001b[0m \u001b[0;34m=\u001b[0m \u001b[0;34m'infinity'\u001b[0m \u001b[0;32mif\u001b[0m \u001b[0mallow_nan\u001b[0m \u001b[0;32melse\u001b[0m \u001b[0;34m'NaN, infinity'\u001b[0m\u001b[0;34m\u001b[0m\u001b[0;34m\u001b[0m\u001b[0m\n\u001b[0;32m--> 103\u001b[0;31m             raise ValueError(\n\u001b[0m\u001b[1;32m    104\u001b[0m                     \u001b[0mmsg_err\u001b[0m\u001b[0;34m.\u001b[0m\u001b[0mformat\u001b[0m\u001b[0;34m\u001b[0m\u001b[0;34m\u001b[0m\u001b[0m\n\u001b[1;32m    105\u001b[0m                     (type_err,\n",
      "\u001b[0;31mValueError\u001b[0m: Input contains NaN, infinity or a value too large for dtype('float32')."
     ]
    }
   ],
   "source": [
    "plot_features_scores(model=rf, data=X, target=y, column_names=X.columns, model_type='rf')"
   ]
  },
  {
   "cell_type": "code",
   "execution_count": null,
   "id": "e9439a60",
   "metadata": {},
   "outputs": [],
   "source": []
  }
 ],
 "metadata": {
  "kernelspec": {
   "display_name": "Python 3 (ipykernel)",
   "language": "python",
   "name": "python3"
  },
  "language_info": {
   "codemirror_mode": {
    "name": "ipython",
    "version": 3
   },
   "file_extension": ".py",
   "mimetype": "text/x-python",
   "name": "python",
   "nbconvert_exporter": "python",
   "pygments_lexer": "ipython3",
   "version": "3.9.7"
  }
 },
 "nbformat": 4,
 "nbformat_minor": 5
}
