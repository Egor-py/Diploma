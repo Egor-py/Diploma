{
 "cells": [
  {
   "cell_type": "code",
   "execution_count": 184,
   "id": "eb04b72b",
   "metadata": {},
   "outputs": [],
   "source": [
    "import pandas as pd\n",
    "import seaborn as sns\n",
    "import numpy as np\n",
    "import matplotlib.pyplot as plt\n",
    "\n",
    "from sklearn.metrics import plot_confusion_matrix\n",
    "from sklearn.metrics import accuracy_score\n",
    "\n",
    "from sklearn.ensemble import RandomForestClassifier\n",
    "from sklearn.tree import DecisionTreeClassifier\n",
    "from sklearn.model_selection import cross_val_score, train_test_split\n",
    "\n",
    "from sklearn.preprocessing import StandardScaler\n",
    "from sklearn.preprocessing import RobustScaler\n",
    "\n",
    "from sklearn.neighbors import KNeighborsClassifier"
   ]
  },
  {
   "cell_type": "code",
   "execution_count": 218,
   "id": "dc471e59",
   "metadata": {},
   "outputs": [],
   "source": [
    "db_full_1 = pd.read_csv('02-14-2018.csv')"
   ]
  },
  {
   "cell_type": "code",
   "execution_count": 255,
   "id": "94af0dcc",
   "metadata": {},
   "outputs": [],
   "source": [
    "db_full_2 = pd.read_csv('02-15-2018.csv')"
   ]
  },
  {
   "cell_type": "code",
   "execution_count": 258,
   "id": "925af834",
   "metadata": {},
   "outputs": [
    {
     "name": "stdout",
     "output_type": "stream",
     "text": [
      "<class 'pandas.core.frame.DataFrame'>\n",
      "RangeIndex: 1048575 entries, 0 to 1048574\n",
      "Data columns (total 80 columns):\n",
      " #   Column             Non-Null Count    Dtype  \n",
      "---  ------             --------------    -----  \n",
      " 0   Dst Port           1048575 non-null  int64  \n",
      " 1   Protocol           1048575 non-null  int64  \n",
      " 2   Timestamp          1048575 non-null  object \n",
      " 3   Flow Duration      1048575 non-null  int64  \n",
      " 4   Tot Fwd Pkts       1048575 non-null  int64  \n",
      " 5   Tot Bwd Pkts       1048575 non-null  int64  \n",
      " 6   TotLen Fwd Pkts    1048575 non-null  int64  \n",
      " 7   TotLen Bwd Pkts    1048575 non-null  int64  \n",
      " 8   Fwd Pkt Len Max    1048575 non-null  int64  \n",
      " 9   Fwd Pkt Len Min    1048575 non-null  int64  \n",
      " 10  Fwd Pkt Len Mean   1048575 non-null  float64\n",
      " 11  Fwd Pkt Len Std    1048575 non-null  float64\n",
      " 12  Bwd Pkt Len Max    1048575 non-null  int64  \n",
      " 13  Bwd Pkt Len Min    1048575 non-null  int64  \n",
      " 14  Bwd Pkt Len Mean   1048575 non-null  float64\n",
      " 15  Bwd Pkt Len Std    1048575 non-null  float64\n",
      " 16  Flow Byts/s        1043654 non-null  float64\n",
      " 17  Flow Pkts/s        1048575 non-null  float64\n",
      " 18  Flow IAT Mean      1048575 non-null  float64\n",
      " 19  Flow IAT Std       1048575 non-null  float64\n",
      " 20  Flow IAT Max       1048575 non-null  int64  \n",
      " 21  Flow IAT Min       1048575 non-null  int64  \n",
      " 22  Fwd IAT Tot        1048575 non-null  int64  \n",
      " 23  Fwd IAT Mean       1048575 non-null  float64\n",
      " 24  Fwd IAT Std        1048575 non-null  float64\n",
      " 25  Fwd IAT Max        1048575 non-null  int64  \n",
      " 26  Fwd IAT Min        1048575 non-null  int64  \n",
      " 27  Bwd IAT Tot        1048575 non-null  int64  \n",
      " 28  Bwd IAT Mean       1048575 non-null  float64\n",
      " 29  Bwd IAT Std        1048575 non-null  float64\n",
      " 30  Bwd IAT Max        1048575 non-null  int64  \n",
      " 31  Bwd IAT Min        1048575 non-null  int64  \n",
      " 32  Fwd PSH Flags      1048575 non-null  int64  \n",
      " 33  Bwd PSH Flags      1048575 non-null  int64  \n",
      " 34  Fwd URG Flags      1048575 non-null  int64  \n",
      " 35  Bwd URG Flags      1048575 non-null  int64  \n",
      " 36  Fwd Header Len     1048575 non-null  int64  \n",
      " 37  Bwd Header Len     1048575 non-null  int64  \n",
      " 38  Fwd Pkts/s         1048575 non-null  float64\n",
      " 39  Bwd Pkts/s         1048575 non-null  float64\n",
      " 40  Pkt Len Min        1048575 non-null  int64  \n",
      " 41  Pkt Len Max        1048575 non-null  int64  \n",
      " 42  Pkt Len Mean       1048575 non-null  float64\n",
      " 43  Pkt Len Std        1048575 non-null  float64\n",
      " 44  Pkt Len Var        1048575 non-null  float64\n",
      " 45  FIN Flag Cnt       1048575 non-null  int64  \n",
      " 46  SYN Flag Cnt       1048575 non-null  int64  \n",
      " 47  RST Flag Cnt       1048575 non-null  int64  \n",
      " 48  PSH Flag Cnt       1048575 non-null  int64  \n",
      " 49  ACK Flag Cnt       1048575 non-null  int64  \n",
      " 50  URG Flag Cnt       1048575 non-null  int64  \n",
      " 51  CWE Flag Count     1048575 non-null  int64  \n",
      " 52  ECE Flag Cnt       1048575 non-null  int64  \n",
      " 53  Down/Up Ratio      1048575 non-null  int64  \n",
      " 54  Pkt Size Avg       1048575 non-null  float64\n",
      " 55  Fwd Seg Size Avg   1048575 non-null  float64\n",
      " 56  Bwd Seg Size Avg   1048575 non-null  float64\n",
      " 57  Fwd Byts/b Avg     1048575 non-null  int64  \n",
      " 58  Fwd Pkts/b Avg     1048575 non-null  int64  \n",
      " 59  Fwd Blk Rate Avg   1048575 non-null  int64  \n",
      " 60  Bwd Byts/b Avg     1048575 non-null  int64  \n",
      " 61  Bwd Pkts/b Avg     1048575 non-null  int64  \n",
      " 62  Bwd Blk Rate Avg   1048575 non-null  int64  \n",
      " 63  Subflow Fwd Pkts   1048575 non-null  int64  \n",
      " 64  Subflow Fwd Byts   1048575 non-null  int64  \n",
      " 65  Subflow Bwd Pkts   1048575 non-null  int64  \n",
      " 66  Subflow Bwd Byts   1048575 non-null  int64  \n",
      " 67  Init Fwd Win Byts  1048575 non-null  int64  \n",
      " 68  Init Bwd Win Byts  1048575 non-null  int64  \n",
      " 69  Fwd Act Data Pkts  1048575 non-null  int64  \n",
      " 70  Fwd Seg Size Min   1048575 non-null  int64  \n",
      " 71  Active Mean        1048575 non-null  float64\n",
      " 72  Active Std         1048575 non-null  float64\n",
      " 73  Active Max         1048575 non-null  int64  \n",
      " 74  Active Min         1048575 non-null  int64  \n",
      " 75  Idle Mean          1048575 non-null  float64\n",
      " 76  Idle Std           1048575 non-null  float64\n",
      " 77  Idle Max           1048575 non-null  int64  \n",
      " 78  Idle Min           1048575 non-null  int64  \n",
      " 79  Label              1048575 non-null  object \n",
      "dtypes: float64(24), int64(54), object(2)\n",
      "memory usage: 640.0+ MB\n"
     ]
    }
   ],
   "source": [
    "db_full_2.info()"
   ]
  },
  {
   "cell_type": "code",
   "execution_count": 254,
   "id": "33ee096d",
   "metadata": {},
   "outputs": [
    {
     "name": "stderr",
     "output_type": "stream",
     "text": [
      "/Users/macbook/opt/anaconda3/lib/python3.9/site-packages/IPython/core/interactiveshell.py:3444: DtypeWarning: Columns (0,1,3,4,5,6,7,8,9,10,11,12,13,14,15,16,17,18,19,20,21,22,23,24,25,26,27,28,29,30,31,32,33,34,35,36,37,38,39,40,41,42,43,44,45,46,47,48,49,50,51,52,53,54,55,56,57,58,59,60,61,62,63,64,65,66,67,68,69,70,71,72,73,74,75,76,77,78) have mixed types.Specify dtype option on import or set low_memory=False.\n",
      "  exec(code_obj, self.user_global_ns, self.user_ns)\n"
     ]
    }
   ],
   "source": [
    "db_full_3 = pd.read_csv('02-16-2018.csv', dtype={'Dst Port': np.int64, 'Protocol': np.,\n",
    "                                                 'Timestamp': np., 'Flow Duration': np.,\n",
    "                                                 'Tot Fwd Pkts': np.,'Tot Bwd Pkts': np.,\n",
    "                                                 'TotLen Fwd Pkts': np., 'TotLen Bwd Pkts': np.,\n",
    "                                                 'Fwd Pkt Len Max': np., 'Fwd Pkt Len Min': np.,\n",
    "                                                 'Fwd Pkt Len Mean': np.,'Fwd Pkt Len Std': np.,\n",
    "                                                 'Bwd Pkt Len Max': np., 'Bwd Pkt Len Min': np.,\n",
    "                                                 'Bwd Pkt Len Mean': np., 'Bwd Pkt Len Std': np.,\n",
    "                                                 'Flow Byts/s': np., 'Flow Pkts/s': np.,\n",
    "                                                 'Flow IAT Mean': np., 'Flow IAT Std': np.,\n",
    "                                                 'Flow IAT Max': np., 'Flow IAT Min': np.,\n",
    "                                                 'Fwd IAT Tot': np., 'Fwd IAT Mean': np.,\n",
    "                                                 'Fwd IAT Std': np., 'Fwd IAT Max': np.,\n",
    "                                                 'Fwd IAT Min': np.,\n",
    "                                                 'Bwd IAT Tot': np., 'Bwd IAT Mean': np.,\n",
    "                                                 'Bwd IAT Std': np.,' Bwd IAT Max': np.,\n",
    "                                                 'Bwd IAT Min': np.,\n",
    "                                                 'Fwd PSH Flags': np., 'Bwd PSH Flags': np.,\n",
    "                                                 'Fwd URG Flags': np., 'Bwd URG Flags': np.,\n",
    "                                                 'Fwd Header Len': np., 'Bwd Header Len': np.,\n",
    "                                                 'Fwd Pkts/s': np., 'Bwd Pkts/s': np.,\n",
    "                                                 'Pkt Len Min': np., 'Pkt Len Max': np.,\n",
    "                                                 'Pkt Len Mean': np., 'Pkt Len Std': np.,\n",
    "                                                 'Pkt Len Var': np.,\n",
    "                                                 '': np., '': np., '': np., '': np., '': np.,\n",
    "                                                 '': np., '': np., '': np., '': np., '': np.,\n",
    "                                                 '': np., '': np., '': np., '': np., '': np.,\n",
    "                                                 '': np., '': np., '': np., '': np., '': np.,\n",
    "                                                 '': np., '': np., '': np., '': np., '': np.,\n",
    "                                                 '': np., '': np., '': np., '': np., '': np.,\n",
    "                                                 '': np., '': np., '': np., '': np., '': np.,})"
   ]
  },
  {
   "cell_type": "code",
   "execution_count": 253,
   "id": "7208dbba",
   "metadata": {},
   "outputs": [
    {
     "name": "stdout",
     "output_type": "stream",
     "text": [
      "<class 'pandas.core.frame.DataFrame'>\n",
      "RangeIndex: 1048575 entries, 0 to 1048574\n",
      "Data columns (total 80 columns):\n",
      " #   Column             Non-Null Count    Dtype \n",
      "---  ------             --------------    ----- \n",
      " 0   Dst Port           1048575 non-null  object\n",
      " 1   Protocol           1048575 non-null  object\n",
      " 2   Timestamp          1048575 non-null  object\n",
      " 3   Flow Duration      1048575 non-null  object\n",
      " 4   Tot Fwd Pkts       1048575 non-null  object\n",
      " 5   Tot Bwd Pkts       1048575 non-null  object\n",
      " 6   TotLen Fwd Pkts    1048575 non-null  object\n",
      " 7   TotLen Bwd Pkts    1048575 non-null  object\n",
      " 8   Fwd Pkt Len Max    1048575 non-null  object\n",
      " 9   Fwd Pkt Len Min    1048575 non-null  object\n",
      " 10  Fwd Pkt Len Mean   1048575 non-null  object\n",
      " 11  Fwd Pkt Len Std    1048575 non-null  object\n",
      " 12  Bwd Pkt Len Max    1048575 non-null  object\n",
      " 13  Bwd Pkt Len Min    1048575 non-null  object\n",
      " 14  Bwd Pkt Len Mean   1048575 non-null  object\n",
      " 15  Bwd Pkt Len Std    1048575 non-null  object\n",
      " 16  Flow Byts/s        1048575 non-null  object\n",
      " 17  Flow Pkts/s        1048575 non-null  object\n",
      " 18  Flow IAT Mean      1048575 non-null  object\n",
      " 19  Flow IAT Std       1048575 non-null  object\n",
      " 20  Flow IAT Max       1048575 non-null  object\n",
      " 21  Flow IAT Min       1048575 non-null  object\n",
      " 22  Fwd IAT Tot        1048575 non-null  object\n",
      " 23  Fwd IAT Mean       1048575 non-null  object\n",
      " 24  Fwd IAT Std        1048575 non-null  object\n",
      " 25  Fwd IAT Max        1048575 non-null  object\n",
      " 26  Fwd IAT Min        1048575 non-null  object\n",
      " 27  Bwd IAT Tot        1048575 non-null  object\n",
      " 28  Bwd IAT Mean       1048575 non-null  object\n",
      " 29  Bwd IAT Std        1048575 non-null  object\n",
      " 30  Bwd IAT Max        1048575 non-null  object\n",
      " 31  Bwd IAT Min        1048575 non-null  object\n",
      " 32  Fwd PSH Flags      1048575 non-null  object\n",
      " 33  Bwd PSH Flags      1048575 non-null  object\n",
      " 34  Fwd URG Flags      1048575 non-null  object\n",
      " 35  Bwd URG Flags      1048575 non-null  object\n",
      " 36  Fwd Header Len     1048575 non-null  object\n",
      " 37  Bwd Header Len     1048575 non-null  object\n",
      " 38  Fwd Pkts/s         1048575 non-null  object\n",
      " 39  Bwd Pkts/s         1048575 non-null  object\n",
      " 40  Pkt Len Min        1048575 non-null  object\n",
      " 41  Pkt Len Max        1048575 non-null  object\n",
      " 42  Pkt Len Mean       1048575 non-null  object\n",
      " 43  Pkt Len Std        1048575 non-null  object\n",
      " 44  Pkt Len Var        1048575 non-null  object\n",
      " 45  FIN Flag Cnt       1048575 non-null  object\n",
      " 46  SYN Flag Cnt       1048575 non-null  object\n",
      " 47  RST Flag Cnt       1048575 non-null  object\n",
      " 48  PSH Flag Cnt       1048575 non-null  object\n",
      " 49  ACK Flag Cnt       1048575 non-null  object\n",
      " 50  URG Flag Cnt       1048575 non-null  object\n",
      " 51  CWE Flag Count     1048575 non-null  object\n",
      " 52  ECE Flag Cnt       1048575 non-null  object\n",
      " 53  Down/Up Ratio      1048575 non-null  object\n",
      " 54  Pkt Size Avg       1048575 non-null  object\n",
      " 55  Fwd Seg Size Avg   1048575 non-null  object\n",
      " 56  Bwd Seg Size Avg   1048575 non-null  object\n",
      " 57  Fwd Byts/b Avg     1048575 non-null  object\n",
      " 58  Fwd Pkts/b Avg     1048575 non-null  object\n",
      " 59  Fwd Blk Rate Avg   1048575 non-null  object\n",
      " 60  Bwd Byts/b Avg     1048575 non-null  object\n",
      " 61  Bwd Pkts/b Avg     1048575 non-null  object\n",
      " 62  Bwd Blk Rate Avg   1048575 non-null  object\n",
      " 63  Subflow Fwd Pkts   1048575 non-null  object\n",
      " 64  Subflow Fwd Byts   1048575 non-null  object\n",
      " 65  Subflow Bwd Pkts   1048575 non-null  object\n",
      " 66  Subflow Bwd Byts   1048575 non-null  object\n",
      " 67  Init Fwd Win Byts  1048575 non-null  object\n",
      " 68  Init Bwd Win Byts  1048575 non-null  object\n",
      " 69  Fwd Act Data Pkts  1048575 non-null  object\n",
      " 70  Fwd Seg Size Min   1048575 non-null  object\n",
      " 71  Active Mean        1048575 non-null  object\n",
      " 72  Active Std         1048575 non-null  object\n",
      " 73  Active Max         1048575 non-null  object\n",
      " 74  Active Min         1048575 non-null  object\n",
      " 75  Idle Mean          1048575 non-null  object\n",
      " 76  Idle Std           1048575 non-null  object\n",
      " 77  Idle Max           1048575 non-null  object\n",
      " 78  Idle Min           1048575 non-null  object\n",
      " 79  Label              1048575 non-null  object\n",
      "dtypes: object(80)\n",
      "memory usage: 640.0+ MB\n"
     ]
    }
   ],
   "source": [
    "db_full_3.info()"
   ]
  },
  {
   "cell_type": "code",
   "execution_count": 237,
   "id": "a1db1665",
   "metadata": {},
   "outputs": [],
   "source": [
    "def preparing_data(db_full):\n",
    "    \"\"\"Функция кодирует метки целевого признака. Отбирает признаки методом случайного леса. \n",
    "    Возвращает готовые для обучения моделей данные\"\"\"    \n",
    "    #кодирование меток\n",
    "\n",
    "    categories = {}\n",
    "    for key, value in enumerate(db_full['Label'].unique()):\n",
    "        categories[value] = key + 1\n",
    "    db_full['Label'] = db_full['Label'].map(categories) \n",
    "    \n",
    "    #отбор признаков с помощью модели случайного леса\n",
    "\n",
    "    X = db_full.select_dtypes(exclude=['object']).copy()\n",
    "    X.drop(columns=['Flow Byts/s', 'Flow Pkts/s', 'Label'],\n",
    "           axis = 1, inplace=True)\n",
    "    y = db_full['Label']\n",
    "\n",
    "    X_train, X_test, y_train, y_test = train_test_split(X, y, test_size=0.1, random_state=6)\n",
    "    X_train.shape, y_train.shape\n",
    "\n",
    "    clf = RandomForestClassifier()\n",
    "    clf.fit(X_train, y_train)\n",
    "    \n",
    "    importnace_features = pd.Series(clf.feature_importances_, X.columns)#.sort_values(ascending = False)\n",
    "    importnace_features = importnace_features.head(n = 8).index\n",
    "    \n",
    "    X = db_full[importnace_features]\n",
    "    y = db_full['Label']\n",
    "    \n",
    "    X_train, X_test, y_train, y_test = train_test_split(X, y, test_size=0.1, random_state=6)\n",
    "    \n",
    "    return importnace_features"
   ]
  },
  {
   "cell_type": "code",
   "execution_count": 238,
   "id": "aa9469c8",
   "metadata": {},
   "outputs": [],
   "source": [
    "importnace_feateres_1 = preparing_data(db_full_1)"
   ]
  },
  {
   "cell_type": "code",
   "execution_count": 241,
   "id": "1495899f",
   "metadata": {},
   "outputs": [],
   "source": [
    "importnace_feateres_2 = preparing_data(db_full_2)"
   ]
  },
  {
   "cell_type": "code",
   "execution_count": 249,
   "id": "c831dbeb",
   "metadata": {},
   "outputs": [
    {
     "ename": "KeyError",
     "evalue": "\"['Flow Byts/s' 'Flow Pkts/s'] not found in axis\"",
     "output_type": "error",
     "traceback": [
      "\u001b[0;31m---------------------------------------------------------------------------\u001b[0m",
      "\u001b[0;31mKeyError\u001b[0m                                  Traceback (most recent call last)",
      "\u001b[0;32m/var/folders/mg/t4nck3g12k55ymh2tf9khgvm0000gn/T/ipykernel_22487/3943778710.py\u001b[0m in \u001b[0;36m<module>\u001b[0;34m\u001b[0m\n\u001b[0;32m----> 1\u001b[0;31m \u001b[0mimportnace_feateres_3\u001b[0m \u001b[0;34m=\u001b[0m \u001b[0mpreparing_data\u001b[0m\u001b[0;34m(\u001b[0m\u001b[0mdb_full_3\u001b[0m\u001b[0;34m)\u001b[0m\u001b[0;34m\u001b[0m\u001b[0;34m\u001b[0m\u001b[0m\n\u001b[0m",
      "\u001b[0;32m/var/folders/mg/t4nck3g12k55ymh2tf9khgvm0000gn/T/ipykernel_22487/1691670998.py\u001b[0m in \u001b[0;36mpreparing_data\u001b[0;34m(db_full)\u001b[0m\n\u001b[1;32m     12\u001b[0m \u001b[0;34m\u001b[0m\u001b[0m\n\u001b[1;32m     13\u001b[0m     \u001b[0mX\u001b[0m \u001b[0;34m=\u001b[0m \u001b[0mdb_full\u001b[0m\u001b[0;34m.\u001b[0m\u001b[0mselect_dtypes\u001b[0m\u001b[0;34m(\u001b[0m\u001b[0mexclude\u001b[0m\u001b[0;34m=\u001b[0m\u001b[0;34m[\u001b[0m\u001b[0;34m'object'\u001b[0m\u001b[0;34m]\u001b[0m\u001b[0;34m)\u001b[0m\u001b[0;34m.\u001b[0m\u001b[0mcopy\u001b[0m\u001b[0;34m(\u001b[0m\u001b[0;34m)\u001b[0m\u001b[0;34m\u001b[0m\u001b[0;34m\u001b[0m\u001b[0m\n\u001b[0;32m---> 14\u001b[0;31m     X.drop(columns=['Flow Byts/s', 'Flow Pkts/s', 'Label'],\n\u001b[0m\u001b[1;32m     15\u001b[0m            axis = 1, inplace=True)\n\u001b[1;32m     16\u001b[0m     \u001b[0my\u001b[0m \u001b[0;34m=\u001b[0m \u001b[0mdb_full\u001b[0m\u001b[0;34m[\u001b[0m\u001b[0;34m'Label'\u001b[0m\u001b[0;34m]\u001b[0m\u001b[0;34m\u001b[0m\u001b[0;34m\u001b[0m\u001b[0m\n",
      "\u001b[0;32m~/opt/anaconda3/lib/python3.9/site-packages/pandas/util/_decorators.py\u001b[0m in \u001b[0;36mwrapper\u001b[0;34m(*args, **kwargs)\u001b[0m\n\u001b[1;32m    309\u001b[0m                     \u001b[0mstacklevel\u001b[0m\u001b[0;34m=\u001b[0m\u001b[0mstacklevel\u001b[0m\u001b[0;34m,\u001b[0m\u001b[0;34m\u001b[0m\u001b[0;34m\u001b[0m\u001b[0m\n\u001b[1;32m    310\u001b[0m                 )\n\u001b[0;32m--> 311\u001b[0;31m             \u001b[0;32mreturn\u001b[0m \u001b[0mfunc\u001b[0m\u001b[0;34m(\u001b[0m\u001b[0;34m*\u001b[0m\u001b[0margs\u001b[0m\u001b[0;34m,\u001b[0m \u001b[0;34m**\u001b[0m\u001b[0mkwargs\u001b[0m\u001b[0;34m)\u001b[0m\u001b[0;34m\u001b[0m\u001b[0;34m\u001b[0m\u001b[0m\n\u001b[0m\u001b[1;32m    312\u001b[0m \u001b[0;34m\u001b[0m\u001b[0m\n\u001b[1;32m    313\u001b[0m         \u001b[0;32mreturn\u001b[0m \u001b[0mwrapper\u001b[0m\u001b[0;34m\u001b[0m\u001b[0;34m\u001b[0m\u001b[0m\n",
      "\u001b[0;32m~/opt/anaconda3/lib/python3.9/site-packages/pandas/core/frame.py\u001b[0m in \u001b[0;36mdrop\u001b[0;34m(self, labels, axis, index, columns, level, inplace, errors)\u001b[0m\n\u001b[1;32m   4904\u001b[0m                 \u001b[0mweight\u001b[0m  \u001b[0;36m1.0\u001b[0m     \u001b[0;36m0.8\u001b[0m\u001b[0;34m\u001b[0m\u001b[0;34m\u001b[0m\u001b[0m\n\u001b[1;32m   4905\u001b[0m         \"\"\"\n\u001b[0;32m-> 4906\u001b[0;31m         return super().drop(\n\u001b[0m\u001b[1;32m   4907\u001b[0m             \u001b[0mlabels\u001b[0m\u001b[0;34m=\u001b[0m\u001b[0mlabels\u001b[0m\u001b[0;34m,\u001b[0m\u001b[0;34m\u001b[0m\u001b[0;34m\u001b[0m\u001b[0m\n\u001b[1;32m   4908\u001b[0m             \u001b[0maxis\u001b[0m\u001b[0;34m=\u001b[0m\u001b[0maxis\u001b[0m\u001b[0;34m,\u001b[0m\u001b[0;34m\u001b[0m\u001b[0;34m\u001b[0m\u001b[0m\n",
      "\u001b[0;32m~/opt/anaconda3/lib/python3.9/site-packages/pandas/core/generic.py\u001b[0m in \u001b[0;36mdrop\u001b[0;34m(self, labels, axis, index, columns, level, inplace, errors)\u001b[0m\n\u001b[1;32m   4148\u001b[0m         \u001b[0;32mfor\u001b[0m \u001b[0maxis\u001b[0m\u001b[0;34m,\u001b[0m \u001b[0mlabels\u001b[0m \u001b[0;32min\u001b[0m \u001b[0maxes\u001b[0m\u001b[0;34m.\u001b[0m\u001b[0mitems\u001b[0m\u001b[0;34m(\u001b[0m\u001b[0;34m)\u001b[0m\u001b[0;34m:\u001b[0m\u001b[0;34m\u001b[0m\u001b[0;34m\u001b[0m\u001b[0m\n\u001b[1;32m   4149\u001b[0m             \u001b[0;32mif\u001b[0m \u001b[0mlabels\u001b[0m \u001b[0;32mis\u001b[0m \u001b[0;32mnot\u001b[0m \u001b[0;32mNone\u001b[0m\u001b[0;34m:\u001b[0m\u001b[0;34m\u001b[0m\u001b[0;34m\u001b[0m\u001b[0m\n\u001b[0;32m-> 4150\u001b[0;31m                 \u001b[0mobj\u001b[0m \u001b[0;34m=\u001b[0m \u001b[0mobj\u001b[0m\u001b[0;34m.\u001b[0m\u001b[0m_drop_axis\u001b[0m\u001b[0;34m(\u001b[0m\u001b[0mlabels\u001b[0m\u001b[0;34m,\u001b[0m \u001b[0maxis\u001b[0m\u001b[0;34m,\u001b[0m \u001b[0mlevel\u001b[0m\u001b[0;34m=\u001b[0m\u001b[0mlevel\u001b[0m\u001b[0;34m,\u001b[0m \u001b[0merrors\u001b[0m\u001b[0;34m=\u001b[0m\u001b[0merrors\u001b[0m\u001b[0;34m)\u001b[0m\u001b[0;34m\u001b[0m\u001b[0;34m\u001b[0m\u001b[0m\n\u001b[0m\u001b[1;32m   4151\u001b[0m \u001b[0;34m\u001b[0m\u001b[0m\n\u001b[1;32m   4152\u001b[0m         \u001b[0;32mif\u001b[0m \u001b[0minplace\u001b[0m\u001b[0;34m:\u001b[0m\u001b[0;34m\u001b[0m\u001b[0;34m\u001b[0m\u001b[0m\n",
      "\u001b[0;32m~/opt/anaconda3/lib/python3.9/site-packages/pandas/core/generic.py\u001b[0m in \u001b[0;36m_drop_axis\u001b[0;34m(self, labels, axis, level, errors)\u001b[0m\n\u001b[1;32m   4183\u001b[0m                 \u001b[0mnew_axis\u001b[0m \u001b[0;34m=\u001b[0m \u001b[0maxis\u001b[0m\u001b[0;34m.\u001b[0m\u001b[0mdrop\u001b[0m\u001b[0;34m(\u001b[0m\u001b[0mlabels\u001b[0m\u001b[0;34m,\u001b[0m \u001b[0mlevel\u001b[0m\u001b[0;34m=\u001b[0m\u001b[0mlevel\u001b[0m\u001b[0;34m,\u001b[0m \u001b[0merrors\u001b[0m\u001b[0;34m=\u001b[0m\u001b[0merrors\u001b[0m\u001b[0;34m)\u001b[0m\u001b[0;34m\u001b[0m\u001b[0;34m\u001b[0m\u001b[0m\n\u001b[1;32m   4184\u001b[0m             \u001b[0;32melse\u001b[0m\u001b[0;34m:\u001b[0m\u001b[0;34m\u001b[0m\u001b[0;34m\u001b[0m\u001b[0m\n\u001b[0;32m-> 4185\u001b[0;31m                 \u001b[0mnew_axis\u001b[0m \u001b[0;34m=\u001b[0m \u001b[0maxis\u001b[0m\u001b[0;34m.\u001b[0m\u001b[0mdrop\u001b[0m\u001b[0;34m(\u001b[0m\u001b[0mlabels\u001b[0m\u001b[0;34m,\u001b[0m \u001b[0merrors\u001b[0m\u001b[0;34m=\u001b[0m\u001b[0merrors\u001b[0m\u001b[0;34m)\u001b[0m\u001b[0;34m\u001b[0m\u001b[0;34m\u001b[0m\u001b[0m\n\u001b[0m\u001b[1;32m   4186\u001b[0m             \u001b[0mresult\u001b[0m \u001b[0;34m=\u001b[0m \u001b[0mself\u001b[0m\u001b[0;34m.\u001b[0m\u001b[0mreindex\u001b[0m\u001b[0;34m(\u001b[0m\u001b[0;34m**\u001b[0m\u001b[0;34m{\u001b[0m\u001b[0maxis_name\u001b[0m\u001b[0;34m:\u001b[0m \u001b[0mnew_axis\u001b[0m\u001b[0;34m}\u001b[0m\u001b[0;34m)\u001b[0m\u001b[0;34m\u001b[0m\u001b[0;34m\u001b[0m\u001b[0m\n\u001b[1;32m   4187\u001b[0m \u001b[0;34m\u001b[0m\u001b[0m\n",
      "\u001b[0;32m~/opt/anaconda3/lib/python3.9/site-packages/pandas/core/indexes/base.py\u001b[0m in \u001b[0;36mdrop\u001b[0;34m(self, labels, errors)\u001b[0m\n\u001b[1;32m   6015\u001b[0m         \u001b[0;32mif\u001b[0m \u001b[0mmask\u001b[0m\u001b[0;34m.\u001b[0m\u001b[0many\u001b[0m\u001b[0;34m(\u001b[0m\u001b[0;34m)\u001b[0m\u001b[0;34m:\u001b[0m\u001b[0;34m\u001b[0m\u001b[0;34m\u001b[0m\u001b[0m\n\u001b[1;32m   6016\u001b[0m             \u001b[0;32mif\u001b[0m \u001b[0merrors\u001b[0m \u001b[0;34m!=\u001b[0m \u001b[0;34m\"ignore\"\u001b[0m\u001b[0;34m:\u001b[0m\u001b[0;34m\u001b[0m\u001b[0;34m\u001b[0m\u001b[0m\n\u001b[0;32m-> 6017\u001b[0;31m                 \u001b[0;32mraise\u001b[0m \u001b[0mKeyError\u001b[0m\u001b[0;34m(\u001b[0m\u001b[0;34mf\"{labels[mask]} not found in axis\"\u001b[0m\u001b[0;34m)\u001b[0m\u001b[0;34m\u001b[0m\u001b[0;34m\u001b[0m\u001b[0m\n\u001b[0m\u001b[1;32m   6018\u001b[0m             \u001b[0mindexer\u001b[0m \u001b[0;34m=\u001b[0m \u001b[0mindexer\u001b[0m\u001b[0;34m[\u001b[0m\u001b[0;34m~\u001b[0m\u001b[0mmask\u001b[0m\u001b[0;34m]\u001b[0m\u001b[0;34m\u001b[0m\u001b[0;34m\u001b[0m\u001b[0m\n\u001b[1;32m   6019\u001b[0m         \u001b[0;32mreturn\u001b[0m \u001b[0mself\u001b[0m\u001b[0;34m.\u001b[0m\u001b[0mdelete\u001b[0m\u001b[0;34m(\u001b[0m\u001b[0mindexer\u001b[0m\u001b[0;34m)\u001b[0m\u001b[0;34m\u001b[0m\u001b[0;34m\u001b[0m\u001b[0m\n",
      "\u001b[0;31mKeyError\u001b[0m: \"['Flow Byts/s' 'Flow Pkts/s'] not found in axis\""
     ]
    }
   ],
   "source": [
    "importnace_feateres_3 = preparing_data(db_full_3)"
   ]
  },
  {
   "cell_type": "code",
   "execution_count": 239,
   "id": "294bde0e",
   "metadata": {},
   "outputs": [
    {
     "data": {
      "text/plain": [
       "Index(['Dst Port', 'Protocol', 'Flow Duration', 'Tot Fwd Pkts', 'Tot Bwd Pkts',\n",
       "       'TotLen Fwd Pkts', 'TotLen Bwd Pkts', 'Fwd Pkt Len Max'],\n",
       "      dtype='object')"
      ]
     },
     "execution_count": 239,
     "metadata": {},
     "output_type": "execute_result"
    }
   ],
   "source": [
    "importnace_feateres_1"
   ]
  },
  {
   "cell_type": "code",
   "execution_count": 242,
   "id": "24106a2d",
   "metadata": {},
   "outputs": [
    {
     "data": {
      "text/plain": [
       "Index(['Dst Port', 'Protocol', 'Flow Duration', 'Tot Fwd Pkts', 'Tot Bwd Pkts',\n",
       "       'TotLen Fwd Pkts', 'TotLen Bwd Pkts', 'Fwd Pkt Len Max'],\n",
       "      dtype='object')"
      ]
     },
     "execution_count": 242,
     "metadata": {},
     "output_type": "execute_result"
    }
   ],
   "source": [
    "importnace_feateres_2"
   ]
  },
  {
   "cell_type": "code",
   "execution_count": 200,
   "id": "a786304e",
   "metadata": {},
   "outputs": [
    {
     "data": {
      "text/plain": [
       "'def scaller_tester_models(X_train, X_test, y_train, y_test):    \\n    standart_scaler = StandardScaler()\\n    robust_scaler = RobustScaler()\\n    \\n    X_train_standart_scaller = pd.DataFrame(data=standart_scaler.fit_transform(X_train),                                             columns=importnace_feateres)\\n    X_train_robust_scaller = pd.DataFrame(data=robust_scaler.fit_transform(X_train),                                           columns=importnace_feateres)\\n    \\n    model_1 = KNeighborsClassifier(n_neighbors = 4)\\n    model_2 = KNeighborsClassifier(n_neighbors = 4)\\n    model_3 = KNeighborsClassifier(n_neighbors = 4)\\n    \\n    model_1.fit(X_train, y_train)\\n    model_2.fit(X_train_standart_scaller, y_train)\\n    model_3.fit(X_train_robust_scaller, y_train)\\n    \\n    model_1.predict(X_test)\\n    model_2.predict(X_test)\\n    model_3.predict(X_test)\\n    \\n    return model_1, model_2, model_3 '"
      ]
     },
     "execution_count": 200,
     "metadata": {},
     "output_type": "execute_result"
    }
   ],
   "source": [
    "\"\"\"def scaller_tester_models(X_train, X_test, y_train, y_test):    \n",
    "    standart_scaler = StandardScaler()\n",
    "    robust_scaler = RobustScaler()\n",
    "    \n",
    "    X_train_standart_scaller = pd.DataFrame(data=standart_scaler.fit_transform(X_train), \\\n",
    "                                            columns=importnace_feateres)\n",
    "    X_train_robust_scaller = pd.DataFrame(data=robust_scaler.fit_transform(X_train), \\\n",
    "                                          columns=importnace_feateres)\n",
    "    \n",
    "    model_1 = KNeighborsClassifier(n_neighbors = 4)\n",
    "    model_2 = KNeighborsClassifier(n_neighbors = 4)\n",
    "    model_3 = KNeighborsClassifier(n_neighbors = 4)\n",
    "    \n",
    "    model_1.fit(X_train, y_train)\n",
    "    model_2.fit(X_train_standart_scaller, y_train)\n",
    "    model_3.fit(X_train_robust_scaller, y_train)\n",
    "    \n",
    "    model_1.predict(X_test)\n",
    "    model_2.predict(X_test)\n",
    "    model_3.predict(X_test)\n",
    "    \n",
    "    return model_1, model_2, model_3 \"\"\""
   ]
  },
  {
   "cell_type": "code",
   "execution_count": null,
   "id": "3f3d0161",
   "metadata": {},
   "outputs": [],
   "source": []
  }
 ],
 "metadata": {
  "kernelspec": {
   "display_name": "Python 3 (ipykernel)",
   "language": "python",
   "name": "python3"
  },
  "language_info": {
   "codemirror_mode": {
    "name": "ipython",
    "version": 3
   },
   "file_extension": ".py",
   "mimetype": "text/x-python",
   "name": "python",
   "nbconvert_exporter": "python",
   "pygments_lexer": "ipython3",
   "version": "3.9.7"
  }
 },
 "nbformat": 4,
 "nbformat_minor": 5
}
