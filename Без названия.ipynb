{
 "cells": [
  {
   "cell_type": "code",
   "execution_count": 3,
   "id": "eb934688",
   "metadata": {},
   "outputs": [],
   "source": [
    "import pandas as pd\n",
    "import numpy as np\n",
    "import seaborn as sns\n",
    "import matplotlib.pyplot as plt\n",
    "\n",
    "from sklearn.metrics import confusion_matrix\n",
    "from sklearn.metrics import accuracy_score\n",
    "\n",
    "from sklearn.model_selection import train_test_split\n",
    "\n",
    "from sklearn.preprocessing import StandardScaler\n",
    "from sklearn.preprocessing import RobustScaler\n",
    "\n",
    "from sklearn.neighbors import KNeighborsClassifier\n",
    "from sklearn.linear_model import LogisticRegression\n",
    "from sklearn.ensemble import RandomForestClassifier\n",
    "from sklearn.tree import DecisionTreeClassifier"
   ]
  },
  {
   "cell_type": "code",
   "execution_count": 4,
   "id": "b2e70618",
   "metadata": {},
   "outputs": [],
   "source": [
    "db = pd.read_csv('full_db_cut.csv')"
   ]
  },
  {
   "cell_type": "code",
   "execution_count": 5,
   "id": "c9e62a74",
   "metadata": {},
   "outputs": [],
   "source": [
    "columns = ['Fwd Seg Size Min', 'Bwd IAT Min', 'Fwd Pkt Len Max',\n",
    "       'Fwd Header Len', 'Init Fwd Win Byts', 'Flow IAT Max', 'Flow IAT Min',\n",
    "       'Fwd IAT Mean', 'Label']"
   ]
  },
  {
   "cell_type": "code",
   "execution_count": 6,
   "id": "e80ac26c",
   "metadata": {},
   "outputs": [],
   "source": [
    "db = db[columns]"
   ]
  },
  {
   "cell_type": "code",
   "execution_count": 7,
   "id": "be3818fc",
   "metadata": {},
   "outputs": [],
   "source": [
    "train_len = int(db.shape[0] * 0.4)"
   ]
  },
  {
   "cell_type": "code",
   "execution_count": 8,
   "id": "32c318f0",
   "metadata": {},
   "outputs": [],
   "source": [
    "db_cut = db[:train_len]"
   ]
  },
  {
   "cell_type": "code",
   "execution_count": 9,
   "id": "545fc9c1",
   "metadata": {},
   "outputs": [],
   "source": [
    "db = db.sample(frac = 1, random_state=2)"
   ]
  },
  {
   "cell_type": "code",
   "execution_count": 32,
   "id": "986715ff",
   "metadata": {},
   "outputs": [
    {
     "data": {
      "text/html": [
       "<div>\n",
       "<style scoped>\n",
       "    .dataframe tbody tr th:only-of-type {\n",
       "        vertical-align: middle;\n",
       "    }\n",
       "\n",
       "    .dataframe tbody tr th {\n",
       "        vertical-align: top;\n",
       "    }\n",
       "\n",
       "    .dataframe thead th {\n",
       "        text-align: right;\n",
       "    }\n",
       "</style>\n",
       "<table border=\"1\" class=\"dataframe\">\n",
       "  <thead>\n",
       "    <tr style=\"text-align: right;\">\n",
       "      <th></th>\n",
       "      <th>Fwd Seg Size Min</th>\n",
       "      <th>Bwd IAT Min</th>\n",
       "      <th>Fwd Pkt Len Max</th>\n",
       "      <th>Fwd Header Len</th>\n",
       "      <th>Init Fwd Win Byts</th>\n",
       "      <th>Flow IAT Max</th>\n",
       "      <th>Flow IAT Min</th>\n",
       "      <th>Fwd IAT Mean</th>\n",
       "      <th>Label</th>\n",
       "      <th>Category_Label</th>\n",
       "    </tr>\n",
       "  </thead>\n",
       "  <tbody>\n",
       "    <tr>\n",
       "      <th>0</th>\n",
       "      <td>0</td>\n",
       "      <td>0.0</td>\n",
       "      <td>0.0</td>\n",
       "      <td>0</td>\n",
       "      <td>-1</td>\n",
       "      <td>56320958.0</td>\n",
       "      <td>56320761.0</td>\n",
       "      <td>5.632086e+07</td>\n",
       "      <td>Benign</td>\n",
       "      <td>1</td>\n",
       "    </tr>\n",
       "    <tr>\n",
       "      <th>1</th>\n",
       "      <td>0</td>\n",
       "      <td>0.0</td>\n",
       "      <td>0.0</td>\n",
       "      <td>0</td>\n",
       "      <td>-1</td>\n",
       "      <td>56320814.0</td>\n",
       "      <td>56320652.0</td>\n",
       "      <td>5.632073e+07</td>\n",
       "      <td>Benign</td>\n",
       "      <td>1</td>\n",
       "    </tr>\n",
       "    <tr>\n",
       "      <th>2</th>\n",
       "      <td>0</td>\n",
       "      <td>0.0</td>\n",
       "      <td>0.0</td>\n",
       "      <td>0</td>\n",
       "      <td>-1</td>\n",
       "      <td>56319525.0</td>\n",
       "      <td>56319098.0</td>\n",
       "      <td>5.631931e+07</td>\n",
       "      <td>Benign</td>\n",
       "      <td>1</td>\n",
       "    </tr>\n",
       "    <tr>\n",
       "      <th>3</th>\n",
       "      <td>32</td>\n",
       "      <td>554.0</td>\n",
       "      <td>744.0</td>\n",
       "      <td>488</td>\n",
       "      <td>65535</td>\n",
       "      <td>673900.0</td>\n",
       "      <td>22.0</td>\n",
       "      <td>4.609976e+05</td>\n",
       "      <td>Benign</td>\n",
       "      <td>1</td>\n",
       "    </tr>\n",
       "    <tr>\n",
       "      <th>4</th>\n",
       "      <td>32</td>\n",
       "      <td>90.0</td>\n",
       "      <td>744.0</td>\n",
       "      <td>456</td>\n",
       "      <td>5808</td>\n",
       "      <td>1928102.0</td>\n",
       "      <td>21.0</td>\n",
       "      <td>6.772358e+05</td>\n",
       "      <td>Benign</td>\n",
       "      <td>1</td>\n",
       "    </tr>\n",
       "    <tr>\n",
       "      <th>...</th>\n",
       "      <td>...</td>\n",
       "      <td>...</td>\n",
       "      <td>...</td>\n",
       "      <td>...</td>\n",
       "      <td>...</td>\n",
       "      <td>...</td>\n",
       "      <td>...</td>\n",
       "      <td>...</td>\n",
       "      <td>...</td>\n",
       "      <td>...</td>\n",
       "    </tr>\n",
       "    <tr>\n",
       "      <th>6493172</th>\n",
       "      <td>8</td>\n",
       "      <td>2247.0</td>\n",
       "      <td>36.0</td>\n",
       "      <td>16</td>\n",
       "      <td>-1</td>\n",
       "      <td>24551.0</td>\n",
       "      <td>589.0</td>\n",
       "      <td>2.620900e+04</td>\n",
       "      <td>Benign</td>\n",
       "      <td>1</td>\n",
       "    </tr>\n",
       "    <tr>\n",
       "      <th>6493173</th>\n",
       "      <td>8</td>\n",
       "      <td>0.0</td>\n",
       "      <td>42.0</td>\n",
       "      <td>8</td>\n",
       "      <td>-1</td>\n",
       "      <td>963.0</td>\n",
       "      <td>963.0</td>\n",
       "      <td>0.000000e+00</td>\n",
       "      <td>Benign</td>\n",
       "      <td>1</td>\n",
       "    </tr>\n",
       "    <tr>\n",
       "      <th>6493174</th>\n",
       "      <td>8</td>\n",
       "      <td>0.0</td>\n",
       "      <td>84.0</td>\n",
       "      <td>8</td>\n",
       "      <td>-1</td>\n",
       "      <td>489.0</td>\n",
       "      <td>489.0</td>\n",
       "      <td>0.000000e+00</td>\n",
       "      <td>Benign</td>\n",
       "      <td>1</td>\n",
       "    </tr>\n",
       "    <tr>\n",
       "      <th>6493175</th>\n",
       "      <td>8</td>\n",
       "      <td>19.0</td>\n",
       "      <td>34.0</td>\n",
       "      <td>16</td>\n",
       "      <td>-1</td>\n",
       "      <td>66802.0</td>\n",
       "      <td>19.0</td>\n",
       "      <td>2.711000e+04</td>\n",
       "      <td>Benign</td>\n",
       "      <td>1</td>\n",
       "    </tr>\n",
       "    <tr>\n",
       "      <th>6493176</th>\n",
       "      <td>20</td>\n",
       "      <td>187943.0</td>\n",
       "      <td>103.0</td>\n",
       "      <td>112</td>\n",
       "      <td>8192</td>\n",
       "      <td>342703.0</td>\n",
       "      <td>3.0</td>\n",
       "      <td>1.965605e+05</td>\n",
       "      <td>Benign</td>\n",
       "      <td>1</td>\n",
       "    </tr>\n",
       "  </tbody>\n",
       "</table>\n",
       "<p>6493177 rows × 10 columns</p>\n",
       "</div>"
      ],
      "text/plain": [
       "         Fwd Seg Size Min  Bwd IAT Min  Fwd Pkt Len Max  Fwd Header Len  \\\n",
       "0                       0          0.0              0.0               0   \n",
       "1                       0          0.0              0.0               0   \n",
       "2                       0          0.0              0.0               0   \n",
       "3                      32        554.0            744.0             488   \n",
       "4                      32         90.0            744.0             456   \n",
       "...                   ...          ...              ...             ...   \n",
       "6493172                 8       2247.0             36.0              16   \n",
       "6493173                 8          0.0             42.0               8   \n",
       "6493174                 8          0.0             84.0               8   \n",
       "6493175                 8         19.0             34.0              16   \n",
       "6493176                20     187943.0            103.0             112   \n",
       "\n",
       "         Init Fwd Win Byts  Flow IAT Max  Flow IAT Min  Fwd IAT Mean   Label  \\\n",
       "0                       -1    56320958.0    56320761.0  5.632086e+07  Benign   \n",
       "1                       -1    56320814.0    56320652.0  5.632073e+07  Benign   \n",
       "2                       -1    56319525.0    56319098.0  5.631931e+07  Benign   \n",
       "3                    65535      673900.0          22.0  4.609976e+05  Benign   \n",
       "4                     5808     1928102.0          21.0  6.772358e+05  Benign   \n",
       "...                    ...           ...           ...           ...     ...   \n",
       "6493172                 -1       24551.0         589.0  2.620900e+04  Benign   \n",
       "6493173                 -1         963.0         963.0  0.000000e+00  Benign   \n",
       "6493174                 -1         489.0         489.0  0.000000e+00  Benign   \n",
       "6493175                 -1       66802.0          19.0  2.711000e+04  Benign   \n",
       "6493176               8192      342703.0           3.0  1.965605e+05  Benign   \n",
       "\n",
       "         Category_Label  \n",
       "0                     1  \n",
       "1                     1  \n",
       "2                     1  \n",
       "3                     1  \n",
       "4                     1  \n",
       "...                 ...  \n",
       "6493172               1  \n",
       "6493173               1  \n",
       "6493174               1  \n",
       "6493175               1  \n",
       "6493176               1  \n",
       "\n",
       "[6493177 rows x 10 columns]"
      ]
     },
     "execution_count": 32,
     "metadata": {},
     "output_type": "execute_result"
    }
   ],
   "source": [
    "db_cut"
   ]
  },
  {
   "cell_type": "code",
   "execution_count": 10,
   "id": "5a2c5ee2",
   "metadata": {},
   "outputs": [],
   "source": [
    "categories = {}\n",
    "for key, value in enumerate(db_cut['Label'].unique()):\n",
    "    categories[value] = key + 1\n",
    "db_cut.loc[:, 'Category_Label'] = db_cut.loc[:, 'Label'].map(categories)"
   ]
  },
  {
   "cell_type": "code",
   "execution_count": 13,
   "id": "b995dd84",
   "metadata": {},
   "outputs": [
    {
     "data": {
      "text/plain": [
       "<function dict.items>"
      ]
     },
     "execution_count": 13,
     "metadata": {},
     "output_type": "execute_result"
    }
   ],
   "source": [
    "categories.items"
   ]
  },
  {
   "cell_type": "code",
   "execution_count": 83,
   "id": "d1c5f9bc",
   "metadata": {},
   "outputs": [
    {
     "name": "stdout",
     "output_type": "stream",
     "text": [
      "<class 'pandas.core.frame.DataFrame'>\n",
      "Int64Index: 6493177 entries, 13956277 to 5570396\n",
      "Data columns (total 10 columns):\n",
      " #   Column             Dtype  \n",
      "---  ------             -----  \n",
      " 0   Fwd Seg Size Min   int64  \n",
      " 1   Bwd IAT Min        float64\n",
      " 2   Fwd Pkt Len Max    float64\n",
      " 3   Fwd Header Len     int64  \n",
      " 4   Init Fwd Win Byts  int64  \n",
      " 5   Flow IAT Max       float64\n",
      " 6   Flow IAT Min       float64\n",
      " 7   Fwd IAT Mean       float64\n",
      " 8   Label              object \n",
      " 9   Category_Label     int64  \n",
      "dtypes: float64(5), int64(4), object(1)\n",
      "memory usage: 544.9+ MB\n"
     ]
    }
   ],
   "source": [
    "db_cut.info()"
   ]
  },
  {
   "cell_type": "code",
   "execution_count": 88,
   "id": "e1713cb1",
   "metadata": {},
   "outputs": [],
   "source": [
    "X = db_cut[['Fwd Seg Size Min', 'Bwd IAT Min', 'Fwd Pkt Len Max',\n",
    "       'Fwd Header Len', 'Init Fwd Win Byts', 'Flow IAT Max', 'Flow IAT Min',\n",
    "       'Fwd IAT Mean']]\n",
    "y = db_cut['Category_Label']"
   ]
  },
  {
   "cell_type": "code",
   "execution_count": 89,
   "id": "a07fca1d",
   "metadata": {},
   "outputs": [],
   "source": [
    "X_train, X_test, y_train, y_test = train_test_split(X, y, train_size=0.7, stratify=y)"
   ]
  },
  {
   "cell_type": "code",
   "execution_count": 90,
   "id": "3f7c0c58",
   "metadata": {},
   "outputs": [],
   "source": [
    "RF = RandomForestClassifier()"
   ]
  },
  {
   "cell_type": "code",
   "execution_count": 91,
   "id": "11d10474",
   "metadata": {},
   "outputs": [
    {
     "data": {
      "text/plain": [
       "RandomForestClassifier()"
      ]
     },
     "execution_count": 91,
     "metadata": {},
     "output_type": "execute_result"
    }
   ],
   "source": [
    "RF.fit(X_train, y_train)"
   ]
  },
  {
   "cell_type": "code",
   "execution_count": 92,
   "id": "29aad9d5",
   "metadata": {},
   "outputs": [
    {
     "name": "stdout",
     "output_type": "stream",
     "text": [
      "CPU times: total: 1min 2s\n",
      "Wall time: 1min 2s\n"
     ]
    }
   ],
   "source": [
    "%%time\n",
    "test_1 = RF.predict(X_test)"
   ]
  },
  {
   "cell_type": "code",
   "execution_count": 93,
   "id": "ddcc467e",
   "metadata": {},
   "outputs": [
    {
     "data": {
      "text/plain": [
       "0.9833307152016937"
      ]
     },
     "execution_count": 93,
     "metadata": {},
     "output_type": "execute_result"
    }
   ],
   "source": [
    "accuracy_score(test_1, y_test)"
   ]
  },
  {
   "cell_type": "code",
   "execution_count": 94,
   "id": "92a5f5cd",
   "metadata": {},
   "outputs": [],
   "source": [
    "cm = confusion_matrix(test_1,\n",
    "                      y_test,\n",
    "                      normalize='true')"
   ]
  },
  {
   "cell_type": "code",
   "execution_count": 97,
   "id": "7a6c159e",
   "metadata": {},
   "outputs": [
    {
     "data": {
      "text/plain": [
       "Text(95.99999999999999, 0.5, 'True label')"
      ]
     },
     "execution_count": 97,
     "metadata": {},
     "output_type": "execute_result"
    },
    {
     "data": {
      "image/png": "[encoded data removed]",
      "text/plain": [
       "<Figure size 936x648 with 2 Axes>"
      ]
     },
     "metadata": {
      "needs_background": "light"
     },
     "output_type": "display_data"
    }
   ],
   "source": [
    "plt.figure(figsize=(13,9))\n",
    "hm = sns.heatmap(cm,\n",
    "            annot=True,\n",
    "            xticklabels=db_cut['Label'].unique(),\n",
    "            yticklabels=db_cut['Label'].unique(),\n",
    "            cmap = 'cividis')\n",
    "hm.set_xlabel('Predicted label')\n",
    "hm.set_ylabel('True label')"
   ]
  },
  {
   "cell_type": "code",
   "execution_count": null,
   "id": "dcda03ad",
   "metadata": {},
   "outputs": [],
   "source": []
  }
 ],
 "metadata": {
  "kernelspec": {
   "display_name": "Python 3 (ipykernel)",
   "language": "python",
   "name": "python3"
  },
  "language_info": {
   "codemirror_mode": {
    "name": "ipython",
    "version": 3
   },
   "file_extension": ".py",
   "mimetype": "text/x-python",
   "name": "python",
   "nbconvert_exporter": "python",
   "pygments_lexer": "ipython3",
   "version": "3.9.6"
  }
 },
 "nbformat": 4,
 "nbformat_minor": 5
}
