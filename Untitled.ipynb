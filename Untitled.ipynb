{
 "cells": [
  {
   "cell_type": "code",
   "execution_count": 284,
   "id": "2e9ff9de",
   "metadata": {},
   "outputs": [],
   "source": [
    "import pandas as pd\n",
    "from sklearn.model_selection import train_test_split\n",
    "from sklearn.metrics import plot_confusion_matrix\n",
    "\n",
    "from sklearn.linear_model import LogisticRegression\n",
    "from sklearn.naive_bayes import GaussianNB\n",
    "from sklearn.neighbors import KNeighborsClassifier\n",
    "from sklearn.ensemble import RandomForestClassifier\n",
    "from sklearn.tree import DecisionTreeClassifier\n",
    "\n",
    "from sklearn.model_selection import cross_val_score, train_test_split\n",
    "\n",
    "from sklearn.preprocessing import StandardScaler\n",
    "from sklearn.preprocessing import RobustScaler"
   ]
  },
  {
   "cell_type": "code",
   "execution_count": 217,
   "id": "68759681",
   "metadata": {},
   "outputs": [],
   "source": [
    "db_full = pd.read_csv('02-14-2018.csv') "
   ]
  },
  {
   "cell_type": "code",
   "execution_count": 218,
   "id": "08b98cd0",
   "metadata": {},
   "outputs": [],
   "source": [
    "db_full_2 = pd.read_csv('02-15-2018.csv')"
   ]
  },
  {
   "cell_type": "code",
   "execution_count": 219,
   "id": "d1935692",
   "metadata": {},
   "outputs": [],
   "source": [
    "col = ['Dst Port', 'Protocol', 'Fwd Seg Size Min', 'Bwd IAT Min', 'Fwd Pkt Len Max', 'Fwd Header Len', 'Init Fwd Win Byts',\n",
    "       'Flow IAT Max', 'Flow IAT Min', 'Fwd IAT Mean', 'Label']"
   ]
  },
  {
   "cell_type": "code",
   "execution_count": 220,
   "id": "e5f1720b",
   "metadata": {},
   "outputs": [],
   "source": [
    "db = db_full[col]"
   ]
  },
  {
   "cell_type": "code",
   "execution_count": 224,
   "id": "0267dc57",
   "metadata": {},
   "outputs": [
    {
     "data": {
      "text/html": [
       "<div>\n",
       "<style scoped>\n",
       "    .dataframe tbody tr th:only-of-type {\n",
       "        vertical-align: middle;\n",
       "    }\n",
       "\n",
       "    .dataframe tbody tr th {\n",
       "        vertical-align: top;\n",
       "    }\n",
       "\n",
       "    .dataframe thead th {\n",
       "        text-align: right;\n",
       "    }\n",
       "</style>\n",
       "<table border=\"1\" class=\"dataframe\">\n",
       "  <thead>\n",
       "    <tr style=\"text-align: right;\">\n",
       "      <th></th>\n",
       "      <th>Dst Port</th>\n",
       "      <th>Protocol</th>\n",
       "      <th>Fwd Seg Size Min</th>\n",
       "      <th>Bwd IAT Min</th>\n",
       "      <th>Fwd Pkt Len Max</th>\n",
       "      <th>Fwd Header Len</th>\n",
       "      <th>Init Fwd Win Byts</th>\n",
       "      <th>Flow IAT Max</th>\n",
       "      <th>Flow IAT Min</th>\n",
       "      <th>Fwd IAT Mean</th>\n",
       "      <th>Label</th>\n",
       "    </tr>\n",
       "  </thead>\n",
       "  <tbody>\n",
       "    <tr>\n",
       "      <th>0</th>\n",
       "      <td>0</td>\n",
       "      <td>0</td>\n",
       "      <td>0</td>\n",
       "      <td>0</td>\n",
       "      <td>0</td>\n",
       "      <td>0</td>\n",
       "      <td>-1</td>\n",
       "      <td>56320958</td>\n",
       "      <td>56320761</td>\n",
       "      <td>5.632086e+07</td>\n",
       "      <td>Benign</td>\n",
       "    </tr>\n",
       "    <tr>\n",
       "      <th>1</th>\n",
       "      <td>0</td>\n",
       "      <td>0</td>\n",
       "      <td>0</td>\n",
       "      <td>0</td>\n",
       "      <td>0</td>\n",
       "      <td>0</td>\n",
       "      <td>-1</td>\n",
       "      <td>56320814</td>\n",
       "      <td>56320652</td>\n",
       "      <td>5.632073e+07</td>\n",
       "      <td>Benign</td>\n",
       "    </tr>\n",
       "    <tr>\n",
       "      <th>2</th>\n",
       "      <td>0</td>\n",
       "      <td>0</td>\n",
       "      <td>0</td>\n",
       "      <td>0</td>\n",
       "      <td>0</td>\n",
       "      <td>0</td>\n",
       "      <td>-1</td>\n",
       "      <td>56319525</td>\n",
       "      <td>56319098</td>\n",
       "      <td>5.631931e+07</td>\n",
       "      <td>Benign</td>\n",
       "    </tr>\n",
       "    <tr>\n",
       "      <th>3</th>\n",
       "      <td>22</td>\n",
       "      <td>6</td>\n",
       "      <td>32</td>\n",
       "      <td>554</td>\n",
       "      <td>744</td>\n",
       "      <td>488</td>\n",
       "      <td>65535</td>\n",
       "      <td>673900</td>\n",
       "      <td>22</td>\n",
       "      <td>4.609976e+05</td>\n",
       "      <td>Benign</td>\n",
       "    </tr>\n",
       "    <tr>\n",
       "      <th>4</th>\n",
       "      <td>22</td>\n",
       "      <td>6</td>\n",
       "      <td>32</td>\n",
       "      <td>90</td>\n",
       "      <td>744</td>\n",
       "      <td>456</td>\n",
       "      <td>5808</td>\n",
       "      <td>1928102</td>\n",
       "      <td>21</td>\n",
       "      <td>6.772358e+05</td>\n",
       "      <td>Benign</td>\n",
       "    </tr>\n",
       "  </tbody>\n",
       "</table>\n",
       "</div>"
      ],
      "text/plain": [
       "   Dst Port  Protocol  Fwd Seg Size Min  Bwd IAT Min  Fwd Pkt Len Max  \\\n",
       "0         0         0                 0            0                0   \n",
       "1         0         0                 0            0                0   \n",
       "2         0         0                 0            0                0   \n",
       "3        22         6                32          554              744   \n",
       "4        22         6                32           90              744   \n",
       "\n",
       "   Fwd Header Len  Init Fwd Win Byts  Flow IAT Max  Flow IAT Min  \\\n",
       "0               0                 -1      56320958      56320761   \n",
       "1               0                 -1      56320814      56320652   \n",
       "2               0                 -1      56319525      56319098   \n",
       "3             488              65535        673900            22   \n",
       "4             456               5808       1928102            21   \n",
       "\n",
       "   Fwd IAT Mean   Label  \n",
       "0  5.632086e+07  Benign  \n",
       "1  5.632073e+07  Benign  \n",
       "2  5.631931e+07  Benign  \n",
       "3  4.609976e+05  Benign  \n",
       "4  6.772358e+05  Benign  "
      ]
     },
     "execution_count": 224,
     "metadata": {},
     "output_type": "execute_result"
    }
   ],
   "source": [
    "db.head()"
   ]
  },
  {
   "cell_type": "code",
   "execution_count": 221,
   "id": "995c8c04",
   "metadata": {},
   "outputs": [],
   "source": [
    "db_2 = db_full_2[col]"
   ]
  },
  {
   "cell_type": "code",
   "execution_count": 225,
   "id": "97c297d2",
   "metadata": {},
   "outputs": [
    {
     "data": {
      "text/html": [
       "<div>\n",
       "<style scoped>\n",
       "    .dataframe tbody tr th:only-of-type {\n",
       "        vertical-align: middle;\n",
       "    }\n",
       "\n",
       "    .dataframe tbody tr th {\n",
       "        vertical-align: top;\n",
       "    }\n",
       "\n",
       "    .dataframe thead th {\n",
       "        text-align: right;\n",
       "    }\n",
       "</style>\n",
       "<table border=\"1\" class=\"dataframe\">\n",
       "  <thead>\n",
       "    <tr style=\"text-align: right;\">\n",
       "      <th></th>\n",
       "      <th>Dst Port</th>\n",
       "      <th>Protocol</th>\n",
       "      <th>Fwd Seg Size Min</th>\n",
       "      <th>Bwd IAT Min</th>\n",
       "      <th>Fwd Pkt Len Max</th>\n",
       "      <th>Fwd Header Len</th>\n",
       "      <th>Init Fwd Win Byts</th>\n",
       "      <th>Flow IAT Max</th>\n",
       "      <th>Flow IAT Min</th>\n",
       "      <th>Fwd IAT Mean</th>\n",
       "      <th>Label</th>\n",
       "    </tr>\n",
       "  </thead>\n",
       "  <tbody>\n",
       "    <tr>\n",
       "      <th>0</th>\n",
       "      <td>0</td>\n",
       "      <td>0</td>\n",
       "      <td>0</td>\n",
       "      <td>0</td>\n",
       "      <td>0</td>\n",
       "      <td>0</td>\n",
       "      <td>-1</td>\n",
       "      <td>56321077</td>\n",
       "      <td>56320081</td>\n",
       "      <td>5.632058e+07</td>\n",
       "      <td>Benign</td>\n",
       "    </tr>\n",
       "    <tr>\n",
       "      <th>1</th>\n",
       "      <td>22</td>\n",
       "      <td>6</td>\n",
       "      <td>32</td>\n",
       "      <td>893</td>\n",
       "      <td>712</td>\n",
       "      <td>456</td>\n",
       "      <td>29200</td>\n",
       "      <td>15617415</td>\n",
       "      <td>7</td>\n",
       "      <td>2.874366e+06</td>\n",
       "      <td>Benign</td>\n",
       "    </tr>\n",
       "    <tr>\n",
       "      <th>2</th>\n",
       "      <td>47514</td>\n",
       "      <td>6</td>\n",
       "      <td>32</td>\n",
       "      <td>0</td>\n",
       "      <td>64</td>\n",
       "      <td>64</td>\n",
       "      <td>244</td>\n",
       "      <td>543</td>\n",
       "      <td>543</td>\n",
       "      <td>5.430000e+02</td>\n",
       "      <td>Benign</td>\n",
       "    </tr>\n",
       "    <tr>\n",
       "      <th>3</th>\n",
       "      <td>0</td>\n",
       "      <td>0</td>\n",
       "      <td>0</td>\n",
       "      <td>0</td>\n",
       "      <td>0</td>\n",
       "      <td>0</td>\n",
       "      <td>-1</td>\n",
       "      <td>56320611</td>\n",
       "      <td>56320092</td>\n",
       "      <td>5.632035e+07</td>\n",
       "      <td>Benign</td>\n",
       "    </tr>\n",
       "    <tr>\n",
       "      <th>4</th>\n",
       "      <td>0</td>\n",
       "      <td>0</td>\n",
       "      <td>0</td>\n",
       "      <td>0</td>\n",
       "      <td>0</td>\n",
       "      <td>0</td>\n",
       "      <td>-1</td>\n",
       "      <td>56320946</td>\n",
       "      <td>56319928</td>\n",
       "      <td>5.632044e+07</td>\n",
       "      <td>Benign</td>\n",
       "    </tr>\n",
       "  </tbody>\n",
       "</table>\n",
       "</div>"
      ],
      "text/plain": [
       "   Dst Port  Protocol  Fwd Seg Size Min  Bwd IAT Min  Fwd Pkt Len Max  \\\n",
       "0         0         0                 0            0                0   \n",
       "1        22         6                32          893              712   \n",
       "2     47514         6                32            0               64   \n",
       "3         0         0                 0            0                0   \n",
       "4         0         0                 0            0                0   \n",
       "\n",
       "   Fwd Header Len  Init Fwd Win Byts  Flow IAT Max  Flow IAT Min  \\\n",
       "0               0                 -1      56321077      56320081   \n",
       "1             456              29200      15617415             7   \n",
       "2              64                244           543           543   \n",
       "3               0                 -1      56320611      56320092   \n",
       "4               0                 -1      56320946      56319928   \n",
       "\n",
       "   Fwd IAT Mean   Label  \n",
       "0  5.632058e+07  Benign  \n",
       "1  2.874366e+06  Benign  \n",
       "2  5.430000e+02  Benign  \n",
       "3  5.632035e+07  Benign  \n",
       "4  5.632044e+07  Benign  "
      ]
     },
     "execution_count": 225,
     "metadata": {},
     "output_type": "execute_result"
    }
   ],
   "source": [
    "db_2.head()"
   ]
  },
  {
   "cell_type": "code",
   "execution_count": 226,
   "id": "e25b50e7",
   "metadata": {},
   "outputs": [],
   "source": [
    "db_1_2 = pd.concat([db, db_2], sort = False, axis = 0)"
   ]
  },
  {
   "cell_type": "code",
   "execution_count": 227,
   "id": "027637c0",
   "metadata": {},
   "outputs": [
    {
     "data": {
      "text/html": [
       "<div>\n",
       "<style scoped>\n",
       "    .dataframe tbody tr th:only-of-type {\n",
       "        vertical-align: middle;\n",
       "    }\n",
       "\n",
       "    .dataframe tbody tr th {\n",
       "        vertical-align: top;\n",
       "    }\n",
       "\n",
       "    .dataframe thead th {\n",
       "        text-align: right;\n",
       "    }\n",
       "</style>\n",
       "<table border=\"1\" class=\"dataframe\">\n",
       "  <thead>\n",
       "    <tr style=\"text-align: right;\">\n",
       "      <th></th>\n",
       "      <th>Dst Port</th>\n",
       "      <th>Protocol</th>\n",
       "      <th>Fwd Seg Size Min</th>\n",
       "      <th>Bwd IAT Min</th>\n",
       "      <th>Fwd Pkt Len Max</th>\n",
       "      <th>Fwd Header Len</th>\n",
       "      <th>Init Fwd Win Byts</th>\n",
       "      <th>Flow IAT Max</th>\n",
       "      <th>Flow IAT Min</th>\n",
       "      <th>Fwd IAT Mean</th>\n",
       "      <th>Label</th>\n",
       "    </tr>\n",
       "  </thead>\n",
       "  <tbody>\n",
       "    <tr>\n",
       "      <th>0</th>\n",
       "      <td>0</td>\n",
       "      <td>0</td>\n",
       "      <td>0</td>\n",
       "      <td>0</td>\n",
       "      <td>0</td>\n",
       "      <td>0</td>\n",
       "      <td>-1</td>\n",
       "      <td>56320958</td>\n",
       "      <td>56320761</td>\n",
       "      <td>5.632086e+07</td>\n",
       "      <td>Benign</td>\n",
       "    </tr>\n",
       "    <tr>\n",
       "      <th>1</th>\n",
       "      <td>0</td>\n",
       "      <td>0</td>\n",
       "      <td>0</td>\n",
       "      <td>0</td>\n",
       "      <td>0</td>\n",
       "      <td>0</td>\n",
       "      <td>-1</td>\n",
       "      <td>56320814</td>\n",
       "      <td>56320652</td>\n",
       "      <td>5.632073e+07</td>\n",
       "      <td>Benign</td>\n",
       "    </tr>\n",
       "    <tr>\n",
       "      <th>2</th>\n",
       "      <td>0</td>\n",
       "      <td>0</td>\n",
       "      <td>0</td>\n",
       "      <td>0</td>\n",
       "      <td>0</td>\n",
       "      <td>0</td>\n",
       "      <td>-1</td>\n",
       "      <td>56319525</td>\n",
       "      <td>56319098</td>\n",
       "      <td>5.631931e+07</td>\n",
       "      <td>Benign</td>\n",
       "    </tr>\n",
       "    <tr>\n",
       "      <th>3</th>\n",
       "      <td>22</td>\n",
       "      <td>6</td>\n",
       "      <td>32</td>\n",
       "      <td>554</td>\n",
       "      <td>744</td>\n",
       "      <td>488</td>\n",
       "      <td>65535</td>\n",
       "      <td>673900</td>\n",
       "      <td>22</td>\n",
       "      <td>4.609976e+05</td>\n",
       "      <td>Benign</td>\n",
       "    </tr>\n",
       "    <tr>\n",
       "      <th>4</th>\n",
       "      <td>22</td>\n",
       "      <td>6</td>\n",
       "      <td>32</td>\n",
       "      <td>90</td>\n",
       "      <td>744</td>\n",
       "      <td>456</td>\n",
       "      <td>5808</td>\n",
       "      <td>1928102</td>\n",
       "      <td>21</td>\n",
       "      <td>6.772358e+05</td>\n",
       "      <td>Benign</td>\n",
       "    </tr>\n",
       "  </tbody>\n",
       "</table>\n",
       "</div>"
      ],
      "text/plain": [
       "   Dst Port  Protocol  Fwd Seg Size Min  Bwd IAT Min  Fwd Pkt Len Max  \\\n",
       "0         0         0                 0            0                0   \n",
       "1         0         0                 0            0                0   \n",
       "2         0         0                 0            0                0   \n",
       "3        22         6                32          554              744   \n",
       "4        22         6                32           90              744   \n",
       "\n",
       "   Fwd Header Len  Init Fwd Win Byts  Flow IAT Max  Flow IAT Min  \\\n",
       "0               0                 -1      56320958      56320761   \n",
       "1               0                 -1      56320814      56320652   \n",
       "2               0                 -1      56319525      56319098   \n",
       "3             488              65535        673900            22   \n",
       "4             456               5808       1928102            21   \n",
       "\n",
       "   Fwd IAT Mean   Label  \n",
       "0  5.632086e+07  Benign  \n",
       "1  5.632073e+07  Benign  \n",
       "2  5.631931e+07  Benign  \n",
       "3  4.609976e+05  Benign  \n",
       "4  6.772358e+05  Benign  "
      ]
     },
     "execution_count": 227,
     "metadata": {},
     "output_type": "execute_result"
    }
   ],
   "source": [
    "db_1_2.head()"
   ]
  },
  {
   "cell_type": "code",
   "execution_count": 228,
   "id": "68379fe2",
   "metadata": {},
   "outputs": [],
   "source": [
    "def vectorize_main_feat(db):\n",
    "    categories = {}\n",
    "    for key, value in enumerate(db['Label'].unique()):\n",
    "        categories[value] = key + 1\n",
    "    db['Category_Label'] = db['Label'].map(categories)\n",
    "    \n",
    "    return db"
   ]
  },
  {
   "cell_type": "code",
   "execution_count": 229,
   "id": "63ace2c7",
   "metadata": {},
   "outputs": [],
   "source": [
    "db_1_2 = vectorize_main_feat(db_1_2)"
   ]
  },
  {
   "cell_type": "code",
   "execution_count": 230,
   "id": "22ac7115",
   "metadata": {},
   "outputs": [
    {
     "data": {
      "text/html": [
       "<div>\n",
       "<style scoped>\n",
       "    .dataframe tbody tr th:only-of-type {\n",
       "        vertical-align: middle;\n",
       "    }\n",
       "\n",
       "    .dataframe tbody tr th {\n",
       "        vertical-align: top;\n",
       "    }\n",
       "\n",
       "    .dataframe thead th {\n",
       "        text-align: right;\n",
       "    }\n",
       "</style>\n",
       "<table border=\"1\" class=\"dataframe\">\n",
       "  <thead>\n",
       "    <tr style=\"text-align: right;\">\n",
       "      <th></th>\n",
       "      <th>Dst Port</th>\n",
       "      <th>Protocol</th>\n",
       "      <th>Fwd Seg Size Min</th>\n",
       "      <th>Bwd IAT Min</th>\n",
       "      <th>Fwd Pkt Len Max</th>\n",
       "      <th>Fwd Header Len</th>\n",
       "      <th>Init Fwd Win Byts</th>\n",
       "      <th>Flow IAT Max</th>\n",
       "      <th>Flow IAT Min</th>\n",
       "      <th>Fwd IAT Mean</th>\n",
       "      <th>Label</th>\n",
       "      <th>Category_Label</th>\n",
       "    </tr>\n",
       "  </thead>\n",
       "  <tbody>\n",
       "    <tr>\n",
       "      <th>0</th>\n",
       "      <td>0</td>\n",
       "      <td>0</td>\n",
       "      <td>0</td>\n",
       "      <td>0</td>\n",
       "      <td>0</td>\n",
       "      <td>0</td>\n",
       "      <td>-1</td>\n",
       "      <td>56320958</td>\n",
       "      <td>56320761</td>\n",
       "      <td>5.632086e+07</td>\n",
       "      <td>Benign</td>\n",
       "      <td>1</td>\n",
       "    </tr>\n",
       "    <tr>\n",
       "      <th>1</th>\n",
       "      <td>0</td>\n",
       "      <td>0</td>\n",
       "      <td>0</td>\n",
       "      <td>0</td>\n",
       "      <td>0</td>\n",
       "      <td>0</td>\n",
       "      <td>-1</td>\n",
       "      <td>56320814</td>\n",
       "      <td>56320652</td>\n",
       "      <td>5.632073e+07</td>\n",
       "      <td>Benign</td>\n",
       "      <td>1</td>\n",
       "    </tr>\n",
       "    <tr>\n",
       "      <th>2</th>\n",
       "      <td>0</td>\n",
       "      <td>0</td>\n",
       "      <td>0</td>\n",
       "      <td>0</td>\n",
       "      <td>0</td>\n",
       "      <td>0</td>\n",
       "      <td>-1</td>\n",
       "      <td>56319525</td>\n",
       "      <td>56319098</td>\n",
       "      <td>5.631931e+07</td>\n",
       "      <td>Benign</td>\n",
       "      <td>1</td>\n",
       "    </tr>\n",
       "    <tr>\n",
       "      <th>3</th>\n",
       "      <td>22</td>\n",
       "      <td>6</td>\n",
       "      <td>32</td>\n",
       "      <td>554</td>\n",
       "      <td>744</td>\n",
       "      <td>488</td>\n",
       "      <td>65535</td>\n",
       "      <td>673900</td>\n",
       "      <td>22</td>\n",
       "      <td>4.609976e+05</td>\n",
       "      <td>Benign</td>\n",
       "      <td>1</td>\n",
       "    </tr>\n",
       "    <tr>\n",
       "      <th>4</th>\n",
       "      <td>22</td>\n",
       "      <td>6</td>\n",
       "      <td>32</td>\n",
       "      <td>90</td>\n",
       "      <td>744</td>\n",
       "      <td>456</td>\n",
       "      <td>5808</td>\n",
       "      <td>1928102</td>\n",
       "      <td>21</td>\n",
       "      <td>6.772358e+05</td>\n",
       "      <td>Benign</td>\n",
       "      <td>1</td>\n",
       "    </tr>\n",
       "  </tbody>\n",
       "</table>\n",
       "</div>"
      ],
      "text/plain": [
       "   Dst Port  Protocol  Fwd Seg Size Min  Bwd IAT Min  Fwd Pkt Len Max  \\\n",
       "0         0         0                 0            0                0   \n",
       "1         0         0                 0            0                0   \n",
       "2         0         0                 0            0                0   \n",
       "3        22         6                32          554              744   \n",
       "4        22         6                32           90              744   \n",
       "\n",
       "   Fwd Header Len  Init Fwd Win Byts  Flow IAT Max  Flow IAT Min  \\\n",
       "0               0                 -1      56320958      56320761   \n",
       "1               0                 -1      56320814      56320652   \n",
       "2               0                 -1      56319525      56319098   \n",
       "3             488              65535        673900            22   \n",
       "4             456               5808       1928102            21   \n",
       "\n",
       "   Fwd IAT Mean   Label  Category_Label  \n",
       "0  5.632086e+07  Benign               1  \n",
       "1  5.632073e+07  Benign               1  \n",
       "2  5.631931e+07  Benign               1  \n",
       "3  4.609976e+05  Benign               1  \n",
       "4  6.772358e+05  Benign               1  "
      ]
     },
     "execution_count": 230,
     "metadata": {},
     "output_type": "execute_result"
    }
   ],
   "source": [
    "db_1_2.head()"
   ]
  },
  {
   "cell_type": "code",
   "execution_count": 231,
   "id": "bf60b20f",
   "metadata": {},
   "outputs": [
    {
     "data": {
      "text/plain": [
       "array([1, 2, 3, 4, 5], dtype=int64)"
      ]
     },
     "execution_count": 231,
     "metadata": {},
     "output_type": "execute_result"
    }
   ],
   "source": [
    "db_1_2['Category_Label'].unique()"
   ]
  },
  {
   "cell_type": "code",
   "execution_count": 232,
   "id": "deb8759b",
   "metadata": {},
   "outputs": [
    {
     "name": "stdout",
     "output_type": "stream",
     "text": [
      "<class 'pandas.core.frame.DataFrame'>\n",
      "Int64Index: 2097150 entries, 0 to 1048574\n",
      "Data columns (total 12 columns):\n",
      " #   Column             Dtype  \n",
      "---  ------             -----  \n",
      " 0   Dst Port           int64  \n",
      " 1   Protocol           int64  \n",
      " 2   Fwd Seg Size Min   int64  \n",
      " 3   Bwd IAT Min        int64  \n",
      " 4   Fwd Pkt Len Max    int64  \n",
      " 5   Fwd Header Len     int64  \n",
      " 6   Init Fwd Win Byts  int64  \n",
      " 7   Flow IAT Max       int64  \n",
      " 8   Flow IAT Min       int64  \n",
      " 9   Fwd IAT Mean       float64\n",
      " 10  Label              object \n",
      " 11  Category_Label     int64  \n",
      "dtypes: float64(1), int64(10), object(1)\n",
      "memory usage: 208.0+ MB\n"
     ]
    }
   ],
   "source": [
    "db_1_2.info()"
   ]
  },
  {
   "cell_type": "code",
   "execution_count": 264,
   "id": "0dfdf442",
   "metadata": {},
   "outputs": [],
   "source": [
    "y = db_1_2['Category_Label']\n",
    "X = db_1_2[['Fwd Seg Size Min', 'Bwd IAT Min', 'Fwd Pkt Len Max', 'Fwd Header Len', 'Init Fwd Win Byts',\n",
    "       'Flow IAT Max', 'Flow IAT Min', 'Fwd IAT Mean']]"
   ]
  },
  {
   "cell_type": "code",
   "execution_count": 265,
   "id": "073a1a66",
   "metadata": {},
   "outputs": [
    {
     "data": {
      "text/html": [
       "<div>\n",
       "<style scoped>\n",
       "    .dataframe tbody tr th:only-of-type {\n",
       "        vertical-align: middle;\n",
       "    }\n",
       "\n",
       "    .dataframe tbody tr th {\n",
       "        vertical-align: top;\n",
       "    }\n",
       "\n",
       "    .dataframe thead th {\n",
       "        text-align: right;\n",
       "    }\n",
       "</style>\n",
       "<table border=\"1\" class=\"dataframe\">\n",
       "  <thead>\n",
       "    <tr style=\"text-align: right;\">\n",
       "      <th></th>\n",
       "      <th>Fwd Seg Size Min</th>\n",
       "      <th>Bwd IAT Min</th>\n",
       "      <th>Fwd Pkt Len Max</th>\n",
       "      <th>Fwd Header Len</th>\n",
       "      <th>Init Fwd Win Byts</th>\n",
       "      <th>Flow IAT Max</th>\n",
       "      <th>Flow IAT Min</th>\n",
       "      <th>Fwd IAT Mean</th>\n",
       "    </tr>\n",
       "  </thead>\n",
       "  <tbody>\n",
       "    <tr>\n",
       "      <th>0</th>\n",
       "      <td>0</td>\n",
       "      <td>0</td>\n",
       "      <td>0</td>\n",
       "      <td>0</td>\n",
       "      <td>-1</td>\n",
       "      <td>56320958</td>\n",
       "      <td>56320761</td>\n",
       "      <td>5.632086e+07</td>\n",
       "    </tr>\n",
       "    <tr>\n",
       "      <th>1</th>\n",
       "      <td>0</td>\n",
       "      <td>0</td>\n",
       "      <td>0</td>\n",
       "      <td>0</td>\n",
       "      <td>-1</td>\n",
       "      <td>56320814</td>\n",
       "      <td>56320652</td>\n",
       "      <td>5.632073e+07</td>\n",
       "    </tr>\n",
       "    <tr>\n",
       "      <th>2</th>\n",
       "      <td>0</td>\n",
       "      <td>0</td>\n",
       "      <td>0</td>\n",
       "      <td>0</td>\n",
       "      <td>-1</td>\n",
       "      <td>56319525</td>\n",
       "      <td>56319098</td>\n",
       "      <td>5.631931e+07</td>\n",
       "    </tr>\n",
       "    <tr>\n",
       "      <th>3</th>\n",
       "      <td>32</td>\n",
       "      <td>554</td>\n",
       "      <td>744</td>\n",
       "      <td>488</td>\n",
       "      <td>65535</td>\n",
       "      <td>673900</td>\n",
       "      <td>22</td>\n",
       "      <td>4.609976e+05</td>\n",
       "    </tr>\n",
       "    <tr>\n",
       "      <th>4</th>\n",
       "      <td>32</td>\n",
       "      <td>90</td>\n",
       "      <td>744</td>\n",
       "      <td>456</td>\n",
       "      <td>5808</td>\n",
       "      <td>1928102</td>\n",
       "      <td>21</td>\n",
       "      <td>6.772358e+05</td>\n",
       "    </tr>\n",
       "  </tbody>\n",
       "</table>\n",
       "</div>"
      ],
      "text/plain": [
       "   Fwd Seg Size Min  Bwd IAT Min  Fwd Pkt Len Max  Fwd Header Len  \\\n",
       "0                 0            0                0               0   \n",
       "1                 0            0                0               0   \n",
       "2                 0            0                0               0   \n",
       "3                32          554              744             488   \n",
       "4                32           90              744             456   \n",
       "\n",
       "   Init Fwd Win Byts  Flow IAT Max  Flow IAT Min  Fwd IAT Mean  \n",
       "0                 -1      56320958      56320761  5.632086e+07  \n",
       "1                 -1      56320814      56320652  5.632073e+07  \n",
       "2                 -1      56319525      56319098  5.631931e+07  \n",
       "3              65535        673900            22  4.609976e+05  \n",
       "4               5808       1928102            21  6.772358e+05  "
      ]
     },
     "execution_count": 265,
     "metadata": {},
     "output_type": "execute_result"
    }
   ],
   "source": [
    "X.head()"
   ]
  },
  {
   "cell_type": "code",
   "execution_count": 266,
   "id": "1475d3aa",
   "metadata": {},
   "outputs": [],
   "source": [
    "X_train, X_test, y_train, y_test = train_test_split(X, y, test_size=0.1, random_state=1)"
   ]
  },
  {
   "cell_type": "code",
   "execution_count": 267,
   "id": "7e3cf9cf",
   "metadata": {},
   "outputs": [],
   "source": [
    "gnb = GaussianNB()"
   ]
  },
  {
   "cell_type": "code",
   "execution_count": 268,
   "id": "a7c7e275",
   "metadata": {},
   "outputs": [
    {
     "data": {
      "text/plain": [
       "GaussianNB()"
      ]
     },
     "execution_count": 268,
     "metadata": {},
     "output_type": "execute_result"
    }
   ],
   "source": [
    "gnb.fit(X_train, y_train)"
   ]
  },
  {
   "cell_type": "code",
   "execution_count": 269,
   "id": "28ca6ce2",
   "metadata": {},
   "outputs": [],
   "source": [
    "test = gnb.predict(X_test)"
   ]
  },
  {
   "cell_type": "code",
   "execution_count": 270,
   "id": "5a07315c",
   "metadata": {},
   "outputs": [
    {
     "name": "stderr",
     "output_type": "stream",
     "text": [
      "c:\\users\\egord\\appdata\\local\\programs\\python\\python39\\lib\\site-packages\\sklearn\\utils\\deprecation.py:87: FutureWarning: Function plot_confusion_matrix is deprecated; Function `plot_confusion_matrix` is deprecated in 1.0 and will be removed in 1.2. Use one of the class methods: ConfusionMatrixDisplay.from_predictions or ConfusionMatrixDisplay.from_estimator.\n",
      "  warnings.warn(msg, category=FutureWarning)\n"
     ]
    },
    {
     "data": {
      "text/plain": [
       "<sklearn.metrics._plot.confusion_matrix.ConfusionMatrixDisplay at 0x17e5dfebe80>"
      ]
     },
     "execution_count": 270,
     "metadata": {},
     "output_type": "execute_result"
    },
    {
     "data": {
      "image/png": "[encoded data removed]",
      "text/plain": [
       "<Figure size 432x288 with 2 Axes>"
      ]
     },
     "metadata": {
      "needs_background": "light"
     },
     "output_type": "display_data"
    }
   ],
   "source": [
    "plot_confusion_matrix(gnb ,X_test, y_test, normalize='true')"
   ]
  },
  {
   "cell_type": "code",
   "execution_count": 271,
   "id": "ff249886",
   "metadata": {},
   "outputs": [],
   "source": [
    "RFC = RandomForestClassifier()"
   ]
  },
  {
   "cell_type": "code",
   "execution_count": 272,
   "id": "f44c4c27",
   "metadata": {},
   "outputs": [
    {
     "data": {
      "text/plain": [
       "RandomForestClassifier()"
      ]
     },
     "execution_count": 272,
     "metadata": {},
     "output_type": "execute_result"
    }
   ],
   "source": [
    "RFC.fit(X_train, y_train)"
   ]
  },
  {
   "cell_type": "code",
   "execution_count": 273,
   "id": "a2854aea",
   "metadata": {},
   "outputs": [],
   "source": [
    "test_2 = RFC.predict(X_test)"
   ]
  },
  {
   "cell_type": "code",
   "execution_count": 274,
   "id": "e38e43ca",
   "metadata": {},
   "outputs": [
    {
     "name": "stderr",
     "output_type": "stream",
     "text": [
      "c:\\users\\egord\\appdata\\local\\programs\\python\\python39\\lib\\site-packages\\sklearn\\utils\\deprecation.py:87: FutureWarning: Function plot_confusion_matrix is deprecated; Function `plot_confusion_matrix` is deprecated in 1.0 and will be removed in 1.2. Use one of the class methods: ConfusionMatrixDisplay.from_predictions or ConfusionMatrixDisplay.from_estimator.\n",
      "  warnings.warn(msg, category=FutureWarning)\n"
     ]
    },
    {
     "data": {
      "text/plain": [
       "<sklearn.metrics._plot.confusion_matrix.ConfusionMatrixDisplay at 0x17e5dfebaf0>"
      ]
     },
     "execution_count": 274,
     "metadata": {},
     "output_type": "execute_result"
    },
    {
     "data": {
      "image/png": "[encoded data removed]",
      "text/plain": [
       "<Figure size 432x288 with 2 Axes>"
      ]
     },
     "metadata": {
      "needs_background": "light"
     },
     "output_type": "display_data"
    }
   ],
   "source": [
    "plot_confusion_matrix(RFC ,X_test, y_test, normalize='true')"
   ]
  },
  {
   "cell_type": "code",
   "execution_count": 275,
   "id": "0ba12fa5",
   "metadata": {},
   "outputs": [],
   "source": [
    "KNN = KNeighborsClassifier(n_neighbors=4)"
   ]
  },
  {
   "cell_type": "code",
   "execution_count": 276,
   "id": "909729e5",
   "metadata": {},
   "outputs": [
    {
     "data": {
      "text/plain": [
       "KNeighborsClassifier(n_neighbors=4)"
      ]
     },
     "execution_count": 276,
     "metadata": {},
     "output_type": "execute_result"
    }
   ],
   "source": [
    "KNN.fit(X_train, y_train)"
   ]
  },
  {
   "cell_type": "code",
   "execution_count": 277,
   "id": "1bbecb1e",
   "metadata": {},
   "outputs": [],
   "source": [
    "test_3 = KNN.predict(X_test)"
   ]
  },
  {
   "cell_type": "code",
   "execution_count": 291,
   "id": "a39c7619",
   "metadata": {},
   "outputs": [
    {
     "name": "stderr",
     "output_type": "stream",
     "text": [
      "c:\\users\\egord\\appdata\\local\\programs\\python\\python39\\lib\\site-packages\\sklearn\\utils\\deprecation.py:87: FutureWarning: Function plot_confusion_matrix is deprecated; Function `plot_confusion_matrix` is deprecated in 1.0 and will be removed in 1.2. Use one of the class methods: ConfusionMatrixDisplay.from_predictions or ConfusionMatrixDisplay.from_estimator.\n",
      "  warnings.warn(msg, category=FutureWarning)\n"
     ]
    },
    {
     "data": {
      "text/plain": [
       "<sklearn.metrics._plot.confusion_matrix.ConfusionMatrixDisplay at 0x17e6344edf0>"
      ]
     },
     "execution_count": 291,
     "metadata": {},
     "output_type": "execute_result"
    },
    {
     "data": {
      "image/png": "[encoded data removed]",
      "text/plain": [
       "<Figure size 432x288 with 2 Axes>"
      ]
     },
     "metadata": {
      "needs_background": "light"
     },
     "output_type": "display_data"
    }
   ],
   "source": [
    "plot_confusion_matrix(KNN ,X_test, y_test, display_labels=db_1_2['Label'].unique(), normalize='true')"
   ]
  },
  {
   "cell_type": "code",
   "execution_count": 287,
   "id": "6a664023",
   "metadata": {},
   "outputs": [],
   "source": [
    "LR = LogisticRegression()"
   ]
  },
  {
   "cell_type": "code",
   "execution_count": 288,
   "id": "88107032",
   "metadata": {},
   "outputs": [
    {
     "name": "stderr",
     "output_type": "stream",
     "text": [
      "c:\\users\\egord\\appdata\\local\\programs\\python\\python39\\lib\\site-packages\\sklearn\\linear_model\\_logistic.py:814: ConvergenceWarning: lbfgs failed to converge (status=1):\n",
      "STOP: TOTAL NO. of ITERATIONS REACHED LIMIT.\n",
      "\n",
      "Increase the number of iterations (max_iter) or scale the data as shown in:\n",
      "    https://scikit-learn.org/stable/modules/preprocessing.html\n",
      "Please also refer to the documentation for alternative solver options:\n",
      "    https://scikit-learn.org/stable/modules/linear_model.html#logistic-regression\n",
      "  n_iter_i = _check_optimize_result(\n"
     ]
    },
    {
     "data": {
      "text/plain": [
       "LogisticRegression()"
      ]
     },
     "execution_count": 288,
     "metadata": {},
     "output_type": "execute_result"
    }
   ],
   "source": [
    "LR.fit(X_train, y_train)"
   ]
  },
  {
   "cell_type": "code",
   "execution_count": 289,
   "id": "23c55527",
   "metadata": {},
   "outputs": [],
   "source": [
    "test_4 = LR.predict(X_test)"
   ]
  },
  {
   "cell_type": "code",
   "execution_count": 290,
   "id": "16af67a8",
   "metadata": {},
   "outputs": [
    {
     "name": "stderr",
     "output_type": "stream",
     "text": [
      "c:\\users\\egord\\appdata\\local\\programs\\python\\python39\\lib\\site-packages\\sklearn\\utils\\deprecation.py:87: FutureWarning: Function plot_confusion_matrix is deprecated; Function `plot_confusion_matrix` is deprecated in 1.0 and will be removed in 1.2. Use one of the class methods: ConfusionMatrixDisplay.from_predictions or ConfusionMatrixDisplay.from_estimator.\n",
      "  warnings.warn(msg, category=FutureWarning)\n"
     ]
    },
    {
     "data": {
      "text/plain": [
       "<sklearn.metrics._plot.confusion_matrix.ConfusionMatrixDisplay at 0x17e64057eb0>"
      ]
     },
     "execution_count": 290,
     "metadata": {},
     "output_type": "execute_result"
    },
    {
     "data": {
      "image/png": "[encoded data removed]",
      "text/plain": [
       "<Figure size 432x288 with 2 Axes>"
      ]
     },
     "metadata": {
      "needs_background": "light"
     },
     "output_type": "display_data"
    }
   ],
   "source": [
    "plot_confusion_matrix(LR ,X_test, y_test, normalize='true')"
   ]
  },
  {
   "cell_type": "code",
   "execution_count": null,
   "id": "91796223",
   "metadata": {},
   "outputs": [],
   "source": []
  }
 ],
 "metadata": {
  "kernelspec": {
   "display_name": "Python 3 (ipykernel)",
   "language": "python",
   "name": "python3"
  },
  "language_info": {
   "codemirror_mode": {
    "name": "ipython",
    "version": 3
   },
   "file_extension": ".py",
   "mimetype": "text/x-python",
   "name": "python",
   "nbconvert_exporter": "python",
   "pygments_lexer": "ipython3",
   "version": "3.9.6"
  }
 },
 "nbformat": 4,
 "nbformat_minor": 5
}
