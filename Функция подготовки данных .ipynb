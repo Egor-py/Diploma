{
 "cells": [
  {
   "cell_type": "code",
   "execution_count": 1,
   "id": "eb04b72b",
   "metadata": {},
   "outputs": [],
   "source": [
    "import pandas as pd\n",
    "import seaborn as sns\n",
    "import numpy as np\n",
    "import matplotlib.pyplot as plt\n",
    "\n",
    "from sklearn.metrics import plot_confusion_matrix\n",
    "from sklearn.metrics import accuracy_score\n",
    "\n",
    "from sklearn.ensemble import RandomForestClassifier\n",
    "from sklearn.tree import DecisionTreeClassifier\n",
    "from sklearn.model_selection import cross_val_score, train_test_split\n",
    "\n",
    "from sklearn.preprocessing import StandardScaler\n",
    "from sklearn.preprocessing import RobustScaler\n",
    "\n",
    "from sklearn.neighbors import KNeighborsClassifier"
   ]
  },
  {
   "cell_type": "code",
   "execution_count": 2,
   "id": "8e9b55d4",
   "metadata": {},
   "outputs": [],
   "source": [
    "def feature_selection_RandomForest(db_full):\n",
    "    \"\"\"Функция отбора признаков методом случайного леса. Функция возвращает\n",
    "    обученную модель\"\"\"\n",
    "    \n",
    "    #отбор признаков с помощью модели случайного леса\n",
    "\n",
    "    X = db_full.select_dtypes(exclude=['object']).copy()\n",
    "    X.drop(columns=['Flow Byts/s', 'Flow Pkts/s', 'Category_Label'],\n",
    "           axis = 1, inplace=True)\n",
    "    y = db_full['Category_Label']\n",
    "\n",
    "    X_train, X_test, y_train, y_test = train_test_split(X, y, test_size=0.3, random_state=6)\n",
    "    X_train.shape, y_train.shape\n",
    "\n",
    "    clf = RandomForestClassifier()\n",
    "    clf.fit(X_train, y_train)\n",
    "    \n",
    "    \n",
    "    return clf, X"
   ]
  },
  {
   "cell_type": "code",
   "execution_count": 3,
   "id": "27daa416",
   "metadata": {},
   "outputs": [],
   "source": [
    "def encode_class(db):\n",
    "    \"\"\"Функция кодирует метки класса и возвращает датасет с новым признаком Category_Label\"\"\"\n",
    "    categories = {}\n",
    "    for key, value in enumerate(db['Label'].unique()):\n",
    "        categories[value] = key + 1\n",
    "    db['Category_Label'] = db['Label'].map(categories)\n",
    "    \n",
    "    return db"
   ]
  },
  {
   "cell_type": "code",
   "execution_count": 18,
   "id": "5ba3c5c7",
   "metadata": {},
   "outputs": [],
   "source": [
    "def preparing_data(db_full):\n",
    "    \"\"\"Функция кодирует метки целевого признака. Отбирает признаки методом случайного леса. \n",
    "    Возвращает готовые для обучения моделей данные\"\"\"    \n",
    "    \n",
    "    #кодирование меток\n",
    "    \n",
    "    db_full = encode_class(db_full)\n",
    "\n",
    "    #исключение признаков адресации\n",
    "    \n",
    "    columns = db_full.columns\n",
    "    if 'Flow ID' not in columns:\n",
    "        db_full.drop(columns=['Dst Port', 'Timestamp', 'Protocol'],\n",
    "                axis = 1, inplace=True)\n",
    "    if 'Flow ID' in columns:\n",
    "        db_full.drop(columns=['Flow ID', 'Src IP', 'Src Port',\n",
    "                        'Dst IP', 'Dst Port', 'Timestamp', 'Protocol'],\n",
    "                axis = 1, inplace=True)\n",
    "    \n",
    "    #Вызов функции отбора признаков методом случайного леса\n",
    "    clf, X = feature_selection_RandomForest(db_full)\n",
    "    \n",
    "    importnace_features = pd.Series(clf.feature_importances_, X.columns).sort_values(ascending = False)\n",
    "    importnace_features = importnace_features.head(n = 8)\n",
    "    \n",
    "\n",
    "    #Переменная для вывода типов атак в каждом из файлов\n",
    "    types_at = db_full['Label'].unique()\n",
    "    \n",
    "    return importnace_features, types_at"
   ]
  },
  {
   "cell_type": "code",
   "execution_count": 10,
   "id": "dc471e59",
   "metadata": {},
   "outputs": [
    {
     "name": "stdout",
     "output_type": "stream",
     "text": [
      "CPU times: user 8.73 s, sys: 2.12 s, total: 10.9 s\n",
      "Wall time: 13.7 s\n"
     ]
    }
   ],
   "source": [
    "%%time\n",
    "db_full_1 = pd.read_csv('02-14-2018.csv')"
   ]
  },
  {
   "cell_type": "code",
   "execution_count": 20,
   "id": "48e2968f",
   "metadata": {},
   "outputs": [
    {
     "name": "stdout",
     "output_type": "stream",
     "text": [
      "CPU times: user 7.67 s, sys: 1.75 s, total: 9.42 s\n",
      "Wall time: 10.2 s\n"
     ]
    }
   ],
   "source": [
    "%%time\n",
    "db_full_2 = pd.read_csv('02-15-2018.csv')"
   ]
  },
  {
   "cell_type": "code",
   "execution_count": 31,
   "id": "eb76ed1b",
   "metadata": {},
   "outputs": [
    {
     "name": "stderr",
     "output_type": "stream",
     "text": [
      "/Users/macbook/opt/anaconda3/lib/python3.9/site-packages/IPython/core/magics/execution.py:1324: DtypeWarning: Columns (0,1,3,4,5,6,7,8,9,10,11,12,13,14,15,16,17,18,19,20,21,22,23,24,25,26,27,28,29,30,31,32,33,34,35,36,37,38,39,40,41,42,43,44,45,46,47,48,49,50,51,52,53,54,55,56,57,58,59,60,61,62,63,64,65,66,67,68,69,70,71,72,73,74,75,76,77,78) have mixed types.Specify dtype option on import or set low_memory=False.\n",
      "  exec(code, glob, local_ns)\n"
     ]
    },
    {
     "name": "stdout",
     "output_type": "stream",
     "text": [
      "CPU times: user 8.18 s, sys: 2.72 s, total: 10.9 s\n",
      "Wall time: 11.4 s\n"
     ]
    }
   ],
   "source": [
    "%%time\n",
    "db_full_3 = pd.read_csv('02-16-2018.csv')"
   ]
  },
  {
   "cell_type": "code",
   "execution_count": 33,
   "id": "7554c0ab",
   "metadata": {},
   "outputs": [
    {
     "name": "stdout",
     "output_type": "stream",
     "text": [
      "CPU times: user 1min 23s, sys: 51.9 s, total: 2min 15s\n",
      "Wall time: 2min 32s\n"
     ]
    }
   ],
   "source": [
    "%%time\n",
    "db_full_4 = pd.read_csv('02-20-2018.csv')"
   ]
  },
  {
   "cell_type": "code",
   "execution_count": 34,
   "id": "7fb18b1f",
   "metadata": {},
   "outputs": [
    {
     "name": "stdout",
     "output_type": "stream",
     "text": [
      "CPU times: user 6.51 s, sys: 1.51 s, total: 8.02 s\n",
      "Wall time: 8.2 s\n"
     ]
    }
   ],
   "source": [
    "%%time\n",
    "db_full_5 = pd.read_csv('02-21-2018.csv')"
   ]
  },
  {
   "cell_type": "code",
   "execution_count": 44,
   "id": "24445f87",
   "metadata": {},
   "outputs": [
    {
     "name": "stdout",
     "output_type": "stream",
     "text": [
      "CPU times: user 7.78 s, sys: 1.99 s, total: 9.77 s\n",
      "Wall time: 11 s\n"
     ]
    }
   ],
   "source": [
    "%%time\n",
    "db_full_6 = pd.read_csv('02-22-2018.csv')"
   ]
  },
  {
   "cell_type": "code",
   "execution_count": 49,
   "id": "335f8296",
   "metadata": {},
   "outputs": [
    {
     "name": "stdout",
     "output_type": "stream",
     "text": [
      "CPU times: total: 5.47 s\n",
      "Wall time: 5.64 s\n"
     ]
    }
   ],
   "source": [
    "%%time\n",
    "db_full_7 = pd.read_csv('02-23-2018.csv')"
   ]
  },
  {
   "cell_type": "code",
   "execution_count": 50,
   "id": "74ba427a",
   "metadata": {},
   "outputs": [
    {
     "name": "stdout",
     "output_type": "stream",
     "text": [
      "CPU times: total: 3.03 s\n",
      "Wall time: 3.1 s\n"
     ]
    }
   ],
   "source": [
    "%%time\n",
    "db_full_8 = pd.read_csv('02-28-2018.csv')"
   ]
  },
  {
   "cell_type": "code",
   "execution_count": 51,
   "id": "179c3647",
   "metadata": {},
   "outputs": [
    {
     "name": "stdout",
     "output_type": "stream",
     "text": [
      "CPU times: total: 1.48 s\n",
      "Wall time: 1.51 s\n"
     ]
    }
   ],
   "source": [
    "%%time\n",
    "db_full_9 = pd.read_csv('03-01-2018.csv')"
   ]
  },
  {
   "cell_type": "code",
   "execution_count": 52,
   "id": "e96c806e",
   "metadata": {},
   "outputs": [
    {
     "name": "stdout",
     "output_type": "stream",
     "text": [
      "CPU times: total: 5.81 s\n",
      "Wall time: 5.94 s\n"
     ]
    }
   ],
   "source": [
    "%%time\n",
    "db_full_10 = pd.read_csv('03-02-2018.csv')"
   ]
  },
  {
   "cell_type": "code",
   "execution_count": null,
   "id": "22399610",
   "metadata": {},
   "outputs": [],
   "source": []
  },
  {
   "cell_type": "markdown",
   "id": "af0a5139",
   "metadata": {},
   "source": [
    "## Выбор наиболее значимых признаков"
   ]
  },
  {
   "cell_type": "code",
   "execution_count": 11,
   "id": "f8d2ce86",
   "metadata": {},
   "outputs": [
    {
     "name": "stdout",
     "output_type": "stream",
     "text": [
      "CPU times: user 1min 58s, sys: 3.25 s, total: 2min 1s\n",
      "Wall time: 2min 4s\n"
     ]
    }
   ],
   "source": [
    "%%time\n",
    "importnace_feateres_1, types_at_1 = preparing_data(db_full_1)"
   ]
  },
  {
   "cell_type": "code",
   "execution_count": 12,
   "id": "fa63a7a1",
   "metadata": {},
   "outputs": [
    {
     "data": {
      "text/plain": [
       "Fwd Seg Size Min     0.183237\n",
       "Init Fwd Win Byts    0.085190\n",
       "Bwd Pkts/s           0.068045\n",
       "Fwd Pkts/s           0.066423\n",
       "Flow IAT Mean        0.055750\n",
       "Fwd Header Len       0.044705\n",
       "Flow Duration        0.042358\n",
       "Flow IAT Max         0.039934\n",
       "dtype: float64"
      ]
     },
     "execution_count": 12,
     "metadata": {},
     "output_type": "execute_result"
    }
   ],
   "source": [
    "importnace_feateres_1"
   ]
  },
  {
   "cell_type": "code",
   "execution_count": 21,
   "id": "d8a939ce",
   "metadata": {},
   "outputs": [
    {
     "name": "stdout",
     "output_type": "stream",
     "text": [
      "CPU times: user 2min 54s, sys: 4.66 s, total: 2min 59s\n",
      "Wall time: 3min 15s\n"
     ]
    }
   ],
   "source": [
    "%%time\n",
    "importnace_feateres_2, types_at_2 = preparing_data(db_full_2)"
   ]
  },
  {
   "cell_type": "code",
   "execution_count": 54,
   "id": "9f05348d",
   "metadata": {},
   "outputs": [
    {
     "name": "stdout",
     "output_type": "stream",
     "text": [
      "CPU times: total: 2min 39s\n",
      "Wall time: 2min 39s\n"
     ]
    }
   ],
   "source": [
    "%%time\n",
    "importnace_feateres_3, types_at_3 = preparing_data(db_full_3)"
   ]
  },
  {
   "cell_type": "code",
   "execution_count": 43,
   "id": "ae4dda21",
   "metadata": {},
   "outputs": [
    {
     "name": "stdout",
     "output_type": "stream",
     "text": [
      "CPU times: total: 29min 27s\n",
      "Wall time: 31min 19s\n"
     ]
    }
   ],
   "source": [
    "%%time\n",
    "importnace_feateres_4, types_at_4 = preparing_data(db_full_4)"
   ]
  },
  {
   "cell_type": "code",
   "execution_count": 44,
   "id": "c53312dc",
   "metadata": {},
   "outputs": [
    {
     "data": {
      "text/plain": [
       "Index(['Fwd Pkt Len Max', 'TotLen Fwd Pkts', 'Flow IAT Min', 'Flow Duration',\n",
       "       'Fwd Seg Size Avg', 'Subflow Fwd Byts', 'Fwd IAT Tot', 'Fwd IAT Mean'],\n",
       "      dtype='object')"
      ]
     },
     "execution_count": 44,
     "metadata": {},
     "output_type": "execute_result"
    }
   ],
   "source": [
    "importnace_feateres_4"
   ]
  },
  {
   "cell_type": "code",
   "execution_count": 35,
   "id": "d1b9efdd",
   "metadata": {},
   "outputs": [
    {
     "name": "stdout",
     "output_type": "stream",
     "text": [
      "CPU times: user 1min 39s, sys: 3.45 s, total: 1min 42s\n",
      "Wall time: 1min 47s\n"
     ]
    }
   ],
   "source": [
    "%%time\n",
    "importnace_feateres_5, types_at_5 = preparing_data(db_full_5)"
   ]
  },
  {
   "cell_type": "code",
   "execution_count": 45,
   "id": "840a1d37",
   "metadata": {},
   "outputs": [
    {
     "name": "stdout",
     "output_type": "stream",
     "text": [
      "CPU times: user 3min 28s, sys: 4.42 s, total: 3min 33s\n",
      "Wall time: 3min 36s\n"
     ]
    }
   ],
   "source": [
    "%%time\n",
    "importnace_feateres_6, types_at_6 = preparing_data(db_full_6)"
   ]
  },
  {
   "cell_type": "code",
   "execution_count": 57,
   "id": "9ddf459e",
   "metadata": {},
   "outputs": [
    {
     "name": "stdout",
     "output_type": "stream",
     "text": [
      "CPU times: total: 6min 54s\n",
      "Wall time: 7min 14s\n"
     ]
    }
   ],
   "source": [
    "%%time\n",
    "importnace_feateres_7, types_at_7 = preparing_data(db_full_7)"
   ]
  },
  {
   "cell_type": "code",
   "execution_count": 58,
   "id": "cf3aed2f",
   "metadata": {},
   "outputs": [
    {
     "name": "stdout",
     "output_type": "stream",
     "text": [
      "CPU times: total: 9min\n",
      "Wall time: 9min 26s\n"
     ]
    }
   ],
   "source": [
    "%%time\n",
    "importnace_feateres_8, types_at_8 = preparing_data(db_full_8)"
   ]
  },
  {
   "cell_type": "code",
   "execution_count": 59,
   "id": "97c265ee",
   "metadata": {},
   "outputs": [
    {
     "name": "stdout",
     "output_type": "stream",
     "text": [
      "CPU times: total: 1min 47s\n",
      "Wall time: 1min 49s\n"
     ]
    }
   ],
   "source": [
    "%%time\n",
    "importnace_feateres_9, types_at_9 = preparing_data(db_full_9)"
   ]
  },
  {
   "cell_type": "code",
   "execution_count": 60,
   "id": "6d4de385",
   "metadata": {},
   "outputs": [
    {
     "name": "stdout",
     "output_type": "stream",
     "text": [
      "CPU times: total: 3min 18s\n",
      "Wall time: 3min 21s\n"
     ]
    }
   ],
   "source": [
    "%%time\n",
    "importnace_feateres_10, types_at_10 = preparing_data(db_full_10)"
   ]
  },
  {
   "cell_type": "markdown",
   "id": "3528603f",
   "metadata": {},
   "source": [
    "#### Функция pd.concat объединяет наборы данных"
   ]
  },
  {
   "cell_type": "markdown",
   "id": "8c100d0c",
   "metadata": {},
   "source": [
    "## Таблица важности признаков для отдельных атак"
   ]
  },
  {
   "cell_type": "code",
   "execution_count": 61,
   "id": "d8c9c358",
   "metadata": {},
   "outputs": [],
   "source": [
    "im_f_2 = pd.DataFrame([importnace_feateres_1.index, importnace_feateres_2.index,\n",
    "                       importnace_feateres_3.index, importnace_feateres_4.index,\n",
    "                       importnace_feateres_5.index, importnace_feateres_6.index,\n",
    "                       importnace_feateres_7.index, importnace_feateres_8.index,\n",
    "                       importnace_feateres_9.index, importnace_feateres_10.index])\n",
    "ty_a = pd.DataFrame([types_at_1, types_at_2, types_at_3, types_at_4,\n",
    "                     types_at_5, types_at_6, types_at_7, types_at_8,\n",
    "                     types_at_9, types_at_10])"
   ]
  },
  {
   "cell_type": "code",
   "execution_count": null,
   "id": "1a53e817",
   "metadata": {},
   "outputs": [],
   "source": []
  },
  {
   "cell_type": "code",
   "execution_count": 62,
   "id": "afa943ce",
   "metadata": {},
   "outputs": [
    {
     "data": {
      "text/html": [
       "<div>\n",
       "<style scoped>\n",
       "    .dataframe tbody tr th:only-of-type {\n",
       "        vertical-align: middle;\n",
       "    }\n",
       "\n",
       "    .dataframe tbody tr th {\n",
       "        vertical-align: top;\n",
       "    }\n",
       "\n",
       "    .dataframe thead th {\n",
       "        text-align: right;\n",
       "    }\n",
       "</style>\n",
       "<table border=\"1\" class=\"dataframe\">\n",
       "  <thead>\n",
       "    <tr style=\"text-align: right;\">\n",
       "      <th></th>\n",
       "      <th>0</th>\n",
       "      <th>1</th>\n",
       "      <th>2</th>\n",
       "      <th>3</th>\n",
       "      <th>4</th>\n",
       "      <th>5</th>\n",
       "      <th>6</th>\n",
       "      <th>7</th>\n",
       "      <th>0</th>\n",
       "      <th>1</th>\n",
       "      <th>2</th>\n",
       "      <th>3</th>\n",
       "    </tr>\n",
       "  </thead>\n",
       "  <tbody>\n",
       "    <tr>\n",
       "      <th>0</th>\n",
       "      <td>Fwd Seg Size Min</td>\n",
       "      <td>Bwd Pkts/s</td>\n",
       "      <td>Init Fwd Win Byts</td>\n",
       "      <td>Flow Duration</td>\n",
       "      <td>Fwd Pkts/s</td>\n",
       "      <td>Flow IAT Max</td>\n",
       "      <td>Flow IAT Mean</td>\n",
       "      <td>Fwd Header Len</td>\n",
       "      <td>Benign</td>\n",
       "      <td>FTP-BruteForce</td>\n",
       "      <td>SSH-Bruteforce</td>\n",
       "      <td>None</td>\n",
       "    </tr>\n",
       "    <tr>\n",
       "      <th>1</th>\n",
       "      <td>Fwd Seg Size Min</td>\n",
       "      <td>Init Fwd Win Byts</td>\n",
       "      <td>Fwd Header Len</td>\n",
       "      <td>Flow IAT Max</td>\n",
       "      <td>Bwd IAT Max</td>\n",
       "      <td>Flow Duration</td>\n",
       "      <td>Flow IAT Min</td>\n",
       "      <td>Fwd Pkts/s</td>\n",
       "      <td>Benign</td>\n",
       "      <td>DoS attacks-GoldenEye</td>\n",
       "      <td>DoS attacks-Slowloris</td>\n",
       "      <td>None</td>\n",
       "    </tr>\n",
       "    <tr>\n",
       "      <th>2</th>\n",
       "      <td>Bwd IAT Min</td>\n",
       "      <td>Fwd Header Len</td>\n",
       "      <td>Fwd Pkt Len Max</td>\n",
       "      <td>Fwd Pkt Len Std</td>\n",
       "      <td>Fwd Seg Size Avg</td>\n",
       "      <td>Fwd Pkts/s</td>\n",
       "      <td>Fwd IAT Tot</td>\n",
       "      <td>Fwd IAT Max</td>\n",
       "      <td>Benign</td>\n",
       "      <td>DoS attacks-SlowHTTPTest</td>\n",
       "      <td>DoS attacks-Hulk</td>\n",
       "      <td>None</td>\n",
       "    </tr>\n",
       "    <tr>\n",
       "      <th>3</th>\n",
       "      <td>Fwd Pkt Len Max</td>\n",
       "      <td>TotLen Fwd Pkts</td>\n",
       "      <td>Flow IAT Min</td>\n",
       "      <td>Flow Duration</td>\n",
       "      <td>Fwd Seg Size Avg</td>\n",
       "      <td>Subflow Fwd Byts</td>\n",
       "      <td>Fwd IAT Tot</td>\n",
       "      <td>Fwd IAT Mean</td>\n",
       "      <td>Benign</td>\n",
       "      <td>DDoS attacks-LOIC-HTTP</td>\n",
       "      <td>None</td>\n",
       "      <td>None</td>\n",
       "    </tr>\n",
       "    <tr>\n",
       "      <th>4</th>\n",
       "      <td>Fwd Header Len</td>\n",
       "      <td>Subflow Fwd Pkts</td>\n",
       "      <td>Fwd Pkt Len Mean</td>\n",
       "      <td>TotLen Fwd Pkts</td>\n",
       "      <td>Subflow Fwd Byts</td>\n",
       "      <td>Tot Fwd Pkts</td>\n",
       "      <td>Fwd IAT Min</td>\n",
       "      <td>Init Bwd Win Byts</td>\n",
       "      <td>Benign</td>\n",
       "      <td>DDOS attack-LOIC-UDP</td>\n",
       "      <td>DDOS attack-HOIC</td>\n",
       "      <td>None</td>\n",
       "    </tr>\n",
       "    <tr>\n",
       "      <th>5</th>\n",
       "      <td>Init Fwd Win Byts</td>\n",
       "      <td>TotLen Fwd Pkts</td>\n",
       "      <td>Subflow Fwd Byts</td>\n",
       "      <td>RST Flag Cnt</td>\n",
       "      <td>ECE Flag Cnt</td>\n",
       "      <td>Bwd Pkt Len Max</td>\n",
       "      <td>Fwd Act Data Pkts</td>\n",
       "      <td>Pkt Len Var</td>\n",
       "      <td>Benign</td>\n",
       "      <td>Brute Force -Web</td>\n",
       "      <td>Brute Force -XSS</td>\n",
       "      <td>SQL Injection</td>\n",
       "    </tr>\n",
       "    <tr>\n",
       "      <th>6</th>\n",
       "      <td>Init Fwd Win Byts</td>\n",
       "      <td>Flow IAT Min</td>\n",
       "      <td>Bwd Pkt Len Max</td>\n",
       "      <td>Flow Duration</td>\n",
       "      <td>TotLen Fwd Pkts</td>\n",
       "      <td>Fwd IAT Min</td>\n",
       "      <td>Flow IAT Mean</td>\n",
       "      <td>Fwd IAT Mean</td>\n",
       "      <td>Benign</td>\n",
       "      <td>Brute Force -Web</td>\n",
       "      <td>Brute Force -XSS</td>\n",
       "      <td>SQL Injection</td>\n",
       "    </tr>\n",
       "    <tr>\n",
       "      <th>7</th>\n",
       "      <td>Flow IAT Max</td>\n",
       "      <td>Flow Duration</td>\n",
       "      <td>Fwd Pkts/s</td>\n",
       "      <td>Flow IAT Mean</td>\n",
       "      <td>Flow IAT Min</td>\n",
       "      <td>Bwd Pkts/s</td>\n",
       "      <td>Init Fwd Win Byts</td>\n",
       "      <td>Fwd IAT Tot</td>\n",
       "      <td>Benign</td>\n",
       "      <td>Infilteration</td>\n",
       "      <td>None</td>\n",
       "      <td>None</td>\n",
       "    </tr>\n",
       "    <tr>\n",
       "      <th>8</th>\n",
       "      <td>Flow IAT Min</td>\n",
       "      <td>Flow IAT Mean</td>\n",
       "      <td>Fwd Pkts/s</td>\n",
       "      <td>Flow Duration</td>\n",
       "      <td>Flow IAT Max</td>\n",
       "      <td>Bwd Pkts/s</td>\n",
       "      <td>Init Fwd Win Byts</td>\n",
       "      <td>Fwd Seg Size Min</td>\n",
       "      <td>Benign</td>\n",
       "      <td>Infilteration</td>\n",
       "      <td>None</td>\n",
       "      <td>None</td>\n",
       "    </tr>\n",
       "    <tr>\n",
       "      <th>9</th>\n",
       "      <td>Fwd IAT Mean</td>\n",
       "      <td>Fwd IAT Max</td>\n",
       "      <td>Init Fwd Win Byts</td>\n",
       "      <td>Bwd Seg Size Avg</td>\n",
       "      <td>Flow IAT Mean</td>\n",
       "      <td>Fwd Pkts/s</td>\n",
       "      <td>Flow IAT Max</td>\n",
       "      <td>Fwd IAT Tot</td>\n",
       "      <td>Benign</td>\n",
       "      <td>Bot</td>\n",
       "      <td>None</td>\n",
       "      <td>None</td>\n",
       "    </tr>\n",
       "  </tbody>\n",
       "</table>\n",
       "</div>"
      ],
      "text/plain": [
       "                   0                  1                  2                 3  \\\n",
       "0   Fwd Seg Size Min         Bwd Pkts/s  Init Fwd Win Byts     Flow Duration   \n",
       "1   Fwd Seg Size Min  Init Fwd Win Byts     Fwd Header Len      Flow IAT Max   \n",
       "2        Bwd IAT Min     Fwd Header Len    Fwd Pkt Len Max   Fwd Pkt Len Std   \n",
       "3    Fwd Pkt Len Max    TotLen Fwd Pkts       Flow IAT Min     Flow Duration   \n",
       "4     Fwd Header Len   Subflow Fwd Pkts   Fwd Pkt Len Mean   TotLen Fwd Pkts   \n",
       "5  Init Fwd Win Byts    TotLen Fwd Pkts   Subflow Fwd Byts      RST Flag Cnt   \n",
       "6  Init Fwd Win Byts       Flow IAT Min    Bwd Pkt Len Max     Flow Duration   \n",
       "7       Flow IAT Max      Flow Duration         Fwd Pkts/s     Flow IAT Mean   \n",
       "8       Flow IAT Min      Flow IAT Mean         Fwd Pkts/s     Flow Duration   \n",
       "9       Fwd IAT Mean        Fwd IAT Max  Init Fwd Win Byts  Bwd Seg Size Avg   \n",
       "\n",
       "                  4                 5                  6                  7  \\\n",
       "0        Fwd Pkts/s      Flow IAT Max      Flow IAT Mean     Fwd Header Len   \n",
       "1       Bwd IAT Max     Flow Duration       Flow IAT Min         Fwd Pkts/s   \n",
       "2  Fwd Seg Size Avg        Fwd Pkts/s        Fwd IAT Tot        Fwd IAT Max   \n",
       "3  Fwd Seg Size Avg  Subflow Fwd Byts        Fwd IAT Tot       Fwd IAT Mean   \n",
       "4  Subflow Fwd Byts      Tot Fwd Pkts        Fwd IAT Min  Init Bwd Win Byts   \n",
       "5      ECE Flag Cnt   Bwd Pkt Len Max  Fwd Act Data Pkts        Pkt Len Var   \n",
       "6   TotLen Fwd Pkts       Fwd IAT Min      Flow IAT Mean       Fwd IAT Mean   \n",
       "7      Flow IAT Min        Bwd Pkts/s  Init Fwd Win Byts        Fwd IAT Tot   \n",
       "8      Flow IAT Max        Bwd Pkts/s  Init Fwd Win Byts   Fwd Seg Size Min   \n",
       "9     Flow IAT Mean        Fwd Pkts/s       Flow IAT Max        Fwd IAT Tot   \n",
       "\n",
       "        0                         1                      2              3  \n",
       "0  Benign            FTP-BruteForce         SSH-Bruteforce           None  \n",
       "1  Benign     DoS attacks-GoldenEye  DoS attacks-Slowloris           None  \n",
       "2  Benign  DoS attacks-SlowHTTPTest       DoS attacks-Hulk           None  \n",
       "3  Benign    DDoS attacks-LOIC-HTTP                   None           None  \n",
       "4  Benign      DDOS attack-LOIC-UDP       DDOS attack-HOIC           None  \n",
       "5  Benign          Brute Force -Web       Brute Force -XSS  SQL Injection  \n",
       "6  Benign          Brute Force -Web       Brute Force -XSS  SQL Injection  \n",
       "7  Benign             Infilteration                   None           None  \n",
       "8  Benign             Infilteration                   None           None  \n",
       "9  Benign                       Bot                   None           None  "
      ]
     },
     "execution_count": 62,
     "metadata": {},
     "output_type": "execute_result"
    }
   ],
   "source": [
    "main_features = pd.concat([im_f_2, ty_a], sort=False, axis=1)\n",
    "main_features"
   ]
  },
  {
   "cell_type": "code",
   "execution_count": 46,
   "id": "0e578752",
   "metadata": {},
   "outputs": [
    {
     "data": {
      "text/plain": [
       "<AxesSubplot:title={'center':'Значимость признаков для атак типа - BruteForce Web, XSS .6.'}>"
      ]
     },
     "execution_count": 46,
     "metadata": {},
     "output_type": "execute_result"
    },
    {
     "data": {
      "image/png": "[encoded data removed]",
      "text/plain": [
       "<Figure size 1368x576 with 4 Axes>"
      ]
     },
     "metadata": {
      "needs_background": "light"
     },
     "output_type": "display_data"
    }
   ],
   "source": [
    "plt.figure(figsize=(19,8))\n",
    "plt.subplot(2,2,1)\n",
    "importnace_feateres_1\\\n",
    "                    .sort_values(ascending=True)\\\n",
    "                    .plot(kind=\"barh\", title = 'Значимость признаков для атак типа - BruteForce FTP, SSH .1.')\n",
    "plt.subplot(2,2,2)\n",
    "importnace_feateres_2\\\n",
    "                    .sort_values(ascending=True)\\\n",
    "                    .plot(kind=\"barh\", title = 'Значимость признаков для атак типа - DoS GoldenEye, Slowloris .2.')\n",
    "plt.subplot(2,2,3)\n",
    "importnace_feateres_5\\\n",
    "                    .sort_values(ascending=True)\\\n",
    "                    .plot(kind=\"barh\", title = 'Значимость признаков для атак типа - DDoS LOIC-UDP .5.')\n",
    "plt.subplot(2,2,4)\n",
    "importnace_feateres_6\\\n",
    "                    .sort_values(ascending=True)\\\n",
    "                    .plot(kind=\"barh\", title = 'Значимость признаков для атак типа - BruteForce Web, XSS .6.')"
   ]
  },
  {
   "cell_type": "code",
   "execution_count": 70,
   "id": "cc963a51",
   "metadata": {},
   "outputs": [],
   "source": [
    "col_cont_main_features = ['Fwd Seg Size Min', 'Bwd IAT Min', 'Fwd Pkt Len Max', 'Fwd Header Len', \n",
    "                          'Init Fwd Win Byts','Flow IAT Max', 'Flow IAT Min', 'Fwd IAT Mean', 'Label']"
   ]
  },
  {
   "cell_type": "code",
   "execution_count": 81,
   "id": "256e534f",
   "metadata": {},
   "outputs": [
    {
     "name": "stdout",
     "output_type": "stream",
     "text": [
      "CPU times: total: 406 ms\n",
      "Wall time: 405 ms\n"
     ]
    }
   ],
   "source": [
    "%%time\n",
    "db_1 = db_full_1[col_cont_main_features]\n",
    "db_2 = db_full_2[col_cont_main_features]\n",
    "db_3 = db_full_3[col_cont_main_features]\n",
    "db_4 = db_full_4[col_cont_main_features]\n",
    "db_5 = db_full_5[col_cont_main_features]\n",
    "db_6 = db_full_6[col_cont_main_features]\n",
    "db_7 = db_full_7[col_cont_main_features]\n",
    "db_8 = db_full_8[col_cont_main_features]\n",
    "db_9 = db_full_9[col_cont_main_features]\n",
    "db_10 = db_full_10[col_cont_main_features]"
   ]
  },
  {
   "cell_type": "code",
   "execution_count": 82,
   "id": "5a060ff5",
   "metadata": {},
   "outputs": [],
   "source": [
    "main_db = pd.concat([db_1, db_2, db_3, db_4, db_5, db_6,\n",
    "                    db_7, db_8, db_9, db_10], sort = False, axis = 0)"
   ]
  },
  {
   "cell_type": "code",
   "execution_count": 83,
   "id": "8d022f24",
   "metadata": {},
   "outputs": [
    {
     "data": {
      "text/plain": [
       "array(['Benign', 'FTP-BruteForce', 'SSH-Bruteforce',\n",
       "       'DoS attacks-GoldenEye', 'DoS attacks-Slowloris',\n",
       "       'DoS attacks-SlowHTTPTest', 'DoS attacks-Hulk',\n",
       "       'DDoS attacks-LOIC-HTTP', 'DDOS attack-LOIC-UDP',\n",
       "       'DDOS attack-HOIC', 'Brute Force -Web', 'Brute Force -XSS',\n",
       "       'SQL Injection', 'Infilteration', 'Bot'], dtype=object)"
      ]
     },
     "execution_count": 83,
     "metadata": {},
     "output_type": "execute_result"
    }
   ],
   "source": [
    "main_db['Label'].unique()"
   ]
  },
  {
   "cell_type": "code",
   "execution_count": 84,
   "id": "d8048e36",
   "metadata": {},
   "outputs": [],
   "source": [
    "main_db = encode_class(main_db)"
   ]
  },
  {
   "cell_type": "code",
   "execution_count": 86,
   "id": "078ed55d",
   "metadata": {},
   "outputs": [],
   "source": [
    "y = main_db['Category_Label']\n",
    "X = main_db[['Fwd Seg Size Min', 'Bwd IAT Min', 'Fwd Pkt Len Max', 'Fwd Header Len', 'Init Fwd Win Byts',\n",
    "       'Flow IAT Max', 'Flow IAT Min', 'Fwd IAT Mean']]"
   ]
  },
  {
   "cell_type": "code",
   "execution_count": 91,
   "id": "2f8444e8",
   "metadata": {},
   "outputs": [],
   "source": [
    "X_train, X_test, y_train, y_test = train_test_split(X, y, test_size=0.2, random_state=1)"
   ]
  },
  {
   "cell_type": "code",
   "execution_count": 92,
   "id": "51a5699a",
   "metadata": {},
   "outputs": [],
   "source": [
    "KNN = KNeighborsClassifier(n_neighbors=4)"
   ]
  },
  {
   "cell_type": "code",
   "execution_count": 93,
   "id": "96085697",
   "metadata": {},
   "outputs": [
    {
     "data": {
      "text/plain": [
       "KNeighborsClassifier(n_neighbors=4)"
      ]
     },
     "execution_count": 93,
     "metadata": {},
     "output_type": "execute_result"
    }
   ],
   "source": [
    "KNN.fit(X_train, y_train)"
   ]
  },
  {
   "cell_type": "code",
   "execution_count": 94,
   "id": "f66d6edd",
   "metadata": {},
   "outputs": [],
   "source": [
    "test_1 = KNN.predict(X_test)"
   ]
  },
  {
   "cell_type": "code",
   "execution_count": 95,
   "id": "e03c5905",
   "metadata": {},
   "outputs": [
    {
     "name": "stderr",
     "output_type": "stream",
     "text": [
      "c:\\users\\egord\\appdata\\local\\programs\\python\\python39\\lib\\site-packages\\sklearn\\utils\\deprecation.py:87: FutureWarning: Function plot_confusion_matrix is deprecated; Function `plot_confusion_matrix` is deprecated in 1.0 and will be removed in 1.2. Use one of the class methods: ConfusionMatrixDisplay.from_predictions or ConfusionMatrixDisplay.from_estimator.\n",
      "  warnings.warn(msg, category=FutureWarning)\n"
     ]
    },
    {
     "data": {
      "text/plain": [
       "<sklearn.metrics._plot.confusion_matrix.ConfusionMatrixDisplay at 0x231aca66670>"
      ]
     },
     "execution_count": 95,
     "metadata": {},
     "output_type": "execute_result"
    },
    {
     "data": {
      "image/png": "[encoded data removed]",
      "text/plain": [
       "<Figure size 432x288 with 2 Axes>"
      ]
     },
     "metadata": {
      "needs_background": "light"
     },
     "output_type": "display_data"
    }
   ],
   "source": [
    "plot_confusion_matrix(KNN ,X_test, y_test, normalize='true')"
   ]
  },
  {
   "cell_type": "code",
   "execution_count": null,
   "id": "9bc469de",
   "metadata": {},
   "outputs": [],
   "source": []
  },
  {
   "cell_type": "code",
   "execution_count": null,
   "id": "1e2ec10e",
   "metadata": {},
   "outputs": [],
   "source": [
    "\"\"\"def scaller_tester_models(X_train, X_test, y_train, y_test):    \n",
    "    standart_scaler = StandardScaler()\n",
    "    robust_scaler = RobustScaler()\n",
    "    \n",
    "    X_train_standart_scaller = pd.DataFrame(data=standart_scaler.fit_transform(X_train), \\\n",
    "                                            columns=importnace_feateres)\n",
    "    X_train_robust_scaller = pd.DataFrame(data=robust_scaler.fit_transform(X_train), \\\n",
    "                                          columns=importnace_feateres)\n",
    "    \n",
    "    model_1 = KNeighborsClassifier(n_neighbors = 4)\n",
    "    model_2 = KNeighborsClassifier(n_neighbors = 4)\n",
    "    model_3 = KNeighborsClassifier(n_neighbors = 4)\n",
    "    \n",
    "    model_1.fit(X_train, y_train)\n",
    "    model_2.fit(X_train_standart_scaller, y_train)\n",
    "    model_3.fit(X_train_robust_scaller, y_train)\n",
    "    \n",
    "    model_1.predict(X_test)\n",
    "    model_2.predict(X_test)\n",
    "    model_3.predict(X_test)\n",
    "    \n",
    "    return model_1, model_2, model_3 \"\"\""
   ]
  },
  {
   "cell_type": "code",
   "execution_count": null,
   "id": "e56540fd",
   "metadata": {},
   "outputs": [],
   "source": []
  }
 ],
 "metadata": {
  "kernelspec": {
   "display_name": "Python 3 (ipykernel)",
   "language": "python",
   "name": "python3"
  },
  "language_info": {
   "codemirror_mode": {
    "name": "ipython",
    "version": 3
   },
   "file_extension": ".py",
   "mimetype": "text/x-python",
   "name": "python",
   "nbconvert_exporter": "python",
   "pygments_lexer": "ipython3",
   "version": "3.9.7"
  }
 },
 "nbformat": 4,
 "nbformat_minor": 5
}
