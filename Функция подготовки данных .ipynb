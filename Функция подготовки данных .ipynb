{
 "cells": [
  {
   "cell_type": "code",
   "execution_count": 1,
   "id": "eb04b72b",
   "metadata": {},
   "outputs": [],
   "source": [
    "import pandas as pd\n",
    "import seaborn as sns\n",
    "import numpy as np\n",
    "import matplotlib.pyplot as plt\n",
    "\n",
    "from sklearn.metrics import plot_confusion_matrix\n",
    "from sklearn.metrics import accuracy_score\n",
    "\n",
    "from sklearn.ensemble import RandomForestClassifier\n",
    "from sklearn.tree import DecisionTreeClassifier\n",
    "from sklearn.model_selection import cross_val_score, train_test_split\n",
    "\n",
    "from sklearn.preprocessing import StandardScaler\n",
    "from sklearn.preprocessing import RobustScaler\n",
    "\n",
    "from sklearn.neighbors import KNeighborsClassifier"
   ]
  },
  {
   "cell_type": "code",
   "execution_count": 2,
   "id": "dc471e59",
   "metadata": {},
   "outputs": [
    {
     "name": "stdout",
     "output_type": "stream",
     "text": [
      "CPU times: total: 4.86 s\n",
      "Wall time: 4.93 s\n"
     ]
    }
   ],
   "source": [
    "%%time\n",
    "db_full_1 = pd.read_csv('02-14-2018.csv')"
   ]
  },
  {
   "cell_type": "code",
   "execution_count": 107,
   "id": "5d782e1a",
   "metadata": {},
   "outputs": [
    {
     "data": {
      "text/plain": [
       "(7948748, 85)"
      ]
     },
     "execution_count": 107,
     "metadata": {},
     "output_type": "execute_result"
    }
   ],
   "source": [
    "db_full_4.shape"
   ]
  },
  {
   "cell_type": "code",
   "execution_count": 3,
   "id": "48e2968f",
   "metadata": {},
   "outputs": [
    {
     "name": "stdout",
     "output_type": "stream",
     "text": [
      "CPU times: total: 5.61 s\n",
      "Wall time: 5.6 s\n"
     ]
    }
   ],
   "source": [
    "%%time\n",
    "db_full_2 = pd.read_csv('02-15-2018.csv')"
   ]
  },
  {
   "cell_type": "code",
   "execution_count": 87,
   "id": "eb76ed1b",
   "metadata": {},
   "outputs": [
    {
     "name": "stdout",
     "output_type": "stream",
     "text": [
      "CPU times: total: 4.59 s\n",
      "Wall time: 4.61 s\n"
     ]
    }
   ],
   "source": [
    "%%time\n",
    "db_full_3 = pd.read_csv('02-16-2018.csv')"
   ]
  },
  {
   "cell_type": "code",
   "execution_count": 6,
   "id": "7554c0ab",
   "metadata": {},
   "outputs": [
    {
     "name": "stdout",
     "output_type": "stream",
     "text": [
      "CPU times: total: 1min 24s\n",
      "Wall time: 1min 28s\n"
     ]
    }
   ],
   "source": [
    "%%time\n",
    "db_full_4 = pd.read_csv('02-20-2018.csv')"
   ]
  },
  {
   "cell_type": "code",
   "execution_count": 7,
   "id": "7fb18b1f",
   "metadata": {},
   "outputs": [
    {
     "name": "stdout",
     "output_type": "stream",
     "text": [
      "CPU times: total: 4.94 s\n",
      "Wall time: 5.05 s\n"
     ]
    }
   ],
   "source": [
    "%%time\n",
    "db_full_5 = pd.read_csv('02-21-2018.csv')"
   ]
  },
  {
   "cell_type": "code",
   "execution_count": 8,
   "id": "24445f87",
   "metadata": {},
   "outputs": [
    {
     "name": "stdout",
     "output_type": "stream",
     "text": [
      "CPU times: total: 5.42 s\n",
      "Wall time: 5.73 s\n"
     ]
    }
   ],
   "source": [
    "%%time\n",
    "db_full_6 = pd.read_csv('02-22-2018.csv')"
   ]
  },
  {
   "cell_type": "code",
   "execution_count": 9,
   "id": "335f8296",
   "metadata": {},
   "outputs": [
    {
     "name": "stdout",
     "output_type": "stream",
     "text": [
      "CPU times: total: 5.38 s\n",
      "Wall time: 5.91 s\n"
     ]
    }
   ],
   "source": [
    "%%time\n",
    "db_full_7 = pd.read_csv('02-23-2018.csv')"
   ]
  },
  {
   "cell_type": "code",
   "execution_count": 92,
   "id": "74ba427a",
   "metadata": {},
   "outputs": [
    {
     "name": "stdout",
     "output_type": "stream",
     "text": [
      "CPU times: total: 2.95 s\n",
      "Wall time: 2.96 s\n"
     ]
    }
   ],
   "source": [
    "%%time\n",
    "db_full_8 = pd.read_csv('02-28-2018.csv')"
   ]
  },
  {
   "cell_type": "code",
   "execution_count": 99,
   "id": "179c3647",
   "metadata": {},
   "outputs": [
    {
     "name": "stdout",
     "output_type": "stream",
     "text": [
      "CPU times: total: 1.62 s\n",
      "Wall time: 1.62 s\n"
     ]
    }
   ],
   "source": [
    "%%time\n",
    "db_full_9 = pd.read_csv('03-01-2018.csv')"
   ]
  },
  {
   "cell_type": "code",
   "execution_count": 10,
   "id": "e96c806e",
   "metadata": {},
   "outputs": [
    {
     "name": "stdout",
     "output_type": "stream",
     "text": [
      "CPU times: total: 6 s\n",
      "Wall time: 6.74 s\n"
     ]
    }
   ],
   "source": [
    "%%time\n",
    "db_full_10 = pd.read_csv('03-02-2018.csv')"
   ]
  },
  {
   "cell_type": "code",
   "execution_count": 11,
   "id": "30cf2a2a",
   "metadata": {},
   "outputs": [],
   "source": [
    "def preparing_data(db_full):\n",
    "    \"\"\"Функция кодирует метки целевого признака. Отбирает признаки методом случайного леса. \n",
    "    Возвращает готовые для обучения моделей данные\"\"\"    \n",
    "    #кодирование меток\n",
    "    \n",
    "    categories = {}\n",
    "    for key, value in enumerate(db_full['Label'].unique()):\n",
    "        categories[value] = key + 1\n",
    "    db_full['Category_Label'] = db_full['Label'].map(categories)\n",
    "    \n",
    "    #отбор признаков с помощью модели случайного леса\n",
    "\n",
    "    X = db_full.select_dtypes(exclude=['object']).copy()\n",
    "    X.drop(columns=['Flow Byts/s', 'Flow Pkts/s', 'Category_Label'],\n",
    "           axis = 1, inplace=True)\n",
    "    y = db_full['Category_Label']\n",
    "\n",
    "    X_train, X_test, y_train, y_test = train_test_split(X, y, test_size=0.1, random_state=6)\n",
    "    X_train.shape, y_train.shape\n",
    "\n",
    "    clf = RandomForestClassifier()\n",
    "    clf.fit(X_train, y_train)\n",
    "    \n",
    "    importnace_features = pd.Series(clf.feature_importances_, X.columns)#.sort_values(ascending = False)\n",
    "    importnace_features = importnace_features.head(n = 8).index\n",
    "    \n",
    "    X = db_full[importnace_features]\n",
    "    y = db_full['Category_Label']\n",
    "    \n",
    "    types_at = db_full['Label'].unique()\n",
    "    \n",
    "    X_train, X_test, y_train, y_test = train_test_split(X, y, test_size=0.1, random_state=6)\n",
    "    \n",
    "    return importnace_features, types_at"
   ]
  },
  {
   "cell_type": "code",
   "execution_count": null,
   "id": "22399610",
   "metadata": {},
   "outputs": [],
   "source": []
  },
  {
   "cell_type": "markdown",
   "id": "af0a5139",
   "metadata": {},
   "source": [
    "## Выбор наиболее значимых признаков"
   ]
  },
  {
   "cell_type": "code",
   "execution_count": 12,
   "id": "f8d2ce86",
   "metadata": {},
   "outputs": [
    {
     "name": "stdout",
     "output_type": "stream",
     "text": [
      "CPU times: total: 1min 52s\n",
      "Wall time: 1min 53s\n"
     ]
    }
   ],
   "source": [
    "%%time\n",
    "importnace_feateres_1, types_at_1 = preparing_data(db_full_1)"
   ]
  },
  {
   "cell_type": "code",
   "execution_count": 14,
   "id": "d8a939ce",
   "metadata": {},
   "outputs": [
    {
     "name": "stdout",
     "output_type": "stream",
     "text": [
      "CPU times: total: 3min 18s\n",
      "Wall time: 3min 20s\n"
     ]
    }
   ],
   "source": [
    "%%time\n",
    "importnace_feateres_2, types_at_2 = preparing_data(db_full_2)"
   ]
  },
  {
   "cell_type": "code",
   "execution_count": 88,
   "id": "9f05348d",
   "metadata": {},
   "outputs": [
    {
     "name": "stdout",
     "output_type": "stream",
     "text": [
      "CPU times: total: 2min 7s\n",
      "Wall time: 2min 7s\n"
     ]
    }
   ],
   "source": [
    "%%time\n",
    "importnace_feateres_3, types_at_3 = preparing_data(db_full_3)"
   ]
  },
  {
   "cell_type": "code",
   "execution_count": 56,
   "id": "ae4dda21",
   "metadata": {},
   "outputs": [
    {
     "name": "stdout",
     "output_type": "stream",
     "text": [
      "CPU times: total: 31min 10s\n",
      "Wall time: 32min 14s\n"
     ]
    }
   ],
   "source": [
    "%%time\n",
    "importnace_feateres_4, types_at_4 = preparing_data(db_full_4)"
   ]
  },
  {
   "cell_type": "code",
   "execution_count": 57,
   "id": "d1b9efdd",
   "metadata": {},
   "outputs": [
    {
     "name": "stdout",
     "output_type": "stream",
     "text": [
      "CPU times: total: 2min\n",
      "Wall time: 2min 1s\n"
     ]
    }
   ],
   "source": [
    "%%time\n",
    "importnace_feateres_5, types_at_5 = preparing_data(db_full_5)"
   ]
  },
  {
   "cell_type": "code",
   "execution_count": 58,
   "id": "840a1d37",
   "metadata": {},
   "outputs": [
    {
     "name": "stdout",
     "output_type": "stream",
     "text": [
      "CPU times: total: 3min 42s\n",
      "Wall time: 3min 44s\n"
     ]
    }
   ],
   "source": [
    "%%time\n",
    "importnace_feateres_6, types_at_6 = preparing_data(db_full_6)"
   ]
  },
  {
   "cell_type": "code",
   "execution_count": 59,
   "id": "9ddf459e",
   "metadata": {},
   "outputs": [
    {
     "name": "stdout",
     "output_type": "stream",
     "text": [
      "CPU times: total: 4min 31s\n",
      "Wall time: 4min 33s\n"
     ]
    }
   ],
   "source": [
    "%%time\n",
    "importnace_feateres_7, types_at_7 = preparing_data(db_full_7)"
   ]
  },
  {
   "cell_type": "code",
   "execution_count": 93,
   "id": "cf3aed2f",
   "metadata": {},
   "outputs": [
    {
     "name": "stdout",
     "output_type": "stream",
     "text": [
      "CPU times: total: 4min 44s\n",
      "Wall time: 4min 45s\n"
     ]
    }
   ],
   "source": [
    "%%time\n",
    "importnace_feateres_8, types_at_8 = preparing_data(db_full_8)"
   ]
  },
  {
   "cell_type": "code",
   "execution_count": 100,
   "id": "97c265ee",
   "metadata": {},
   "outputs": [
    {
     "name": "stdout",
     "output_type": "stream",
     "text": [
      "CPU times: total: 1min 47s\n",
      "Wall time: 1min 47s\n"
     ]
    }
   ],
   "source": [
    "%%time\n",
    "importnace_feateres_9, types_at_9 = preparing_data(db_full_9)"
   ]
  },
  {
   "cell_type": "code",
   "execution_count": 60,
   "id": "6d4de385",
   "metadata": {},
   "outputs": [
    {
     "name": "stdout",
     "output_type": "stream",
     "text": [
      "CPU times: total: 3min 59s\n",
      "Wall time: 4min 10s\n"
     ]
    }
   ],
   "source": [
    "%%time\n",
    "importnace_feateres_10, types_at_10 = preparing_data(db_full_10)"
   ]
  },
  {
   "cell_type": "markdown",
   "id": "3528603f",
   "metadata": {},
   "source": [
    "#### Функция pd.concat объединяет наборы данных"
   ]
  },
  {
   "cell_type": "markdown",
   "id": "8c100d0c",
   "metadata": {},
   "source": [
    "## Таблица важности признаков для отдельных атак"
   ]
  },
  {
   "cell_type": "code",
   "execution_count": 101,
   "id": "d8c9c358",
   "metadata": {},
   "outputs": [],
   "source": [
    "im_f_2 = pd.DataFrame([importnace_feateres_1, importnace_feateres_2,\n",
    "                       importnace_feateres_3, importnace_feateres_4,\n",
    "                       importnace_feateres_5, importnace_feateres_6,\n",
    "                       importnace_feateres_7, importnace_feateres_8,\n",
    "                       importnace_feateres_9, importnace_feateres_10])\n",
    "ty_a = pd.DataFrame([types_at_1, types_at_2, types_at_3, types_at_4,\n",
    "                     types_at_5, types_at_6, types_at_7, types_at_8,\n",
    "                     types_at_9, types_at_10])"
   ]
  },
  {
   "cell_type": "code",
   "execution_count": null,
   "id": "1a53e817",
   "metadata": {},
   "outputs": [],
   "source": []
  },
  {
   "cell_type": "code",
   "execution_count": 104,
   "id": "afa943ce",
   "metadata": {},
   "outputs": [
    {
     "data": {
      "text/html": [
       "<div>\n",
       "<style scoped>\n",
       "    .dataframe tbody tr th:only-of-type {\n",
       "        vertical-align: middle;\n",
       "    }\n",
       "\n",
       "    .dataframe tbody tr th {\n",
       "        vertical-align: top;\n",
       "    }\n",
       "\n",
       "    .dataframe thead th {\n",
       "        text-align: right;\n",
       "    }\n",
       "</style>\n",
       "<table border=\"1\" class=\"dataframe\">\n",
       "  <thead>\n",
       "    <tr style=\"text-align: right;\">\n",
       "      <th></th>\n",
       "      <th>0</th>\n",
       "      <th>1</th>\n",
       "      <th>2</th>\n",
       "      <th>3</th>\n",
       "      <th>4</th>\n",
       "      <th>5</th>\n",
       "      <th>6</th>\n",
       "      <th>7</th>\n",
       "      <th>0</th>\n",
       "      <th>1</th>\n",
       "      <th>2</th>\n",
       "      <th>3</th>\n",
       "    </tr>\n",
       "  </thead>\n",
       "  <tbody>\n",
       "    <tr>\n",
       "      <th>0</th>\n",
       "      <td>Dst Port</td>\n",
       "      <td>Protocol</td>\n",
       "      <td>Flow Duration</td>\n",
       "      <td>Tot Fwd Pkts</td>\n",
       "      <td>Tot Bwd Pkts</td>\n",
       "      <td>TotLen Fwd Pkts</td>\n",
       "      <td>TotLen Bwd Pkts</td>\n",
       "      <td>Fwd Pkt Len Max</td>\n",
       "      <td>Benign</td>\n",
       "      <td>FTP-BruteForce</td>\n",
       "      <td>SSH-Bruteforce</td>\n",
       "      <td>None</td>\n",
       "    </tr>\n",
       "    <tr>\n",
       "      <th>1</th>\n",
       "      <td>Dst Port</td>\n",
       "      <td>Protocol</td>\n",
       "      <td>Flow Duration</td>\n",
       "      <td>Tot Fwd Pkts</td>\n",
       "      <td>Tot Bwd Pkts</td>\n",
       "      <td>TotLen Fwd Pkts</td>\n",
       "      <td>TotLen Bwd Pkts</td>\n",
       "      <td>Fwd Pkt Len Max</td>\n",
       "      <td>Benign</td>\n",
       "      <td>DoS attacks-GoldenEye</td>\n",
       "      <td>DoS attacks-Slowloris</td>\n",
       "      <td>None</td>\n",
       "    </tr>\n",
       "    <tr>\n",
       "      <th>2</th>\n",
       "      <td>Dst Port</td>\n",
       "      <td>Protocol</td>\n",
       "      <td>Flow Duration</td>\n",
       "      <td>Tot Fwd Pkts</td>\n",
       "      <td>Tot Bwd Pkts</td>\n",
       "      <td>TotLen Fwd Pkts</td>\n",
       "      <td>TotLen Bwd Pkts</td>\n",
       "      <td>Fwd Pkt Len Max</td>\n",
       "      <td>Benign</td>\n",
       "      <td>DoS attacks-SlowHTTPTest</td>\n",
       "      <td>DoS attacks-Hulk</td>\n",
       "      <td>None</td>\n",
       "    </tr>\n",
       "    <tr>\n",
       "      <th>3</th>\n",
       "      <td>Src Port</td>\n",
       "      <td>Dst Port</td>\n",
       "      <td>Protocol</td>\n",
       "      <td>Flow Duration</td>\n",
       "      <td>Tot Fwd Pkts</td>\n",
       "      <td>Tot Bwd Pkts</td>\n",
       "      <td>TotLen Fwd Pkts</td>\n",
       "      <td>TotLen Bwd Pkts</td>\n",
       "      <td>Benign</td>\n",
       "      <td>DDoS attacks-LOIC-HTTP</td>\n",
       "      <td>None</td>\n",
       "      <td>None</td>\n",
       "    </tr>\n",
       "    <tr>\n",
       "      <th>4</th>\n",
       "      <td>Dst Port</td>\n",
       "      <td>Protocol</td>\n",
       "      <td>Flow Duration</td>\n",
       "      <td>Tot Fwd Pkts</td>\n",
       "      <td>Tot Bwd Pkts</td>\n",
       "      <td>TotLen Fwd Pkts</td>\n",
       "      <td>TotLen Bwd Pkts</td>\n",
       "      <td>Fwd Pkt Len Max</td>\n",
       "      <td>Benign</td>\n",
       "      <td>DDOS attack-LOIC-UDP</td>\n",
       "      <td>DDOS attack-HOIC</td>\n",
       "      <td>None</td>\n",
       "    </tr>\n",
       "    <tr>\n",
       "      <th>5</th>\n",
       "      <td>Dst Port</td>\n",
       "      <td>Protocol</td>\n",
       "      <td>Flow Duration</td>\n",
       "      <td>Tot Fwd Pkts</td>\n",
       "      <td>Tot Bwd Pkts</td>\n",
       "      <td>TotLen Fwd Pkts</td>\n",
       "      <td>TotLen Bwd Pkts</td>\n",
       "      <td>Fwd Pkt Len Max</td>\n",
       "      <td>Benign</td>\n",
       "      <td>Brute Force -Web</td>\n",
       "      <td>Brute Force -XSS</td>\n",
       "      <td>SQL Injection</td>\n",
       "    </tr>\n",
       "    <tr>\n",
       "      <th>6</th>\n",
       "      <td>Dst Port</td>\n",
       "      <td>Protocol</td>\n",
       "      <td>Flow Duration</td>\n",
       "      <td>Tot Fwd Pkts</td>\n",
       "      <td>Tot Bwd Pkts</td>\n",
       "      <td>TotLen Fwd Pkts</td>\n",
       "      <td>TotLen Bwd Pkts</td>\n",
       "      <td>Fwd Pkt Len Max</td>\n",
       "      <td>Benign</td>\n",
       "      <td>Brute Force -Web</td>\n",
       "      <td>Brute Force -XSS</td>\n",
       "      <td>SQL Injection</td>\n",
       "    </tr>\n",
       "    <tr>\n",
       "      <th>7</th>\n",
       "      <td>Dst Port</td>\n",
       "      <td>Protocol</td>\n",
       "      <td>Flow Duration</td>\n",
       "      <td>Tot Fwd Pkts</td>\n",
       "      <td>Tot Bwd Pkts</td>\n",
       "      <td>TotLen Fwd Pkts</td>\n",
       "      <td>TotLen Bwd Pkts</td>\n",
       "      <td>Fwd Pkt Len Max</td>\n",
       "      <td>Benign</td>\n",
       "      <td>Infilteration</td>\n",
       "      <td>None</td>\n",
       "      <td>None</td>\n",
       "    </tr>\n",
       "    <tr>\n",
       "      <th>8</th>\n",
       "      <td>Dst Port</td>\n",
       "      <td>Protocol</td>\n",
       "      <td>Flow Duration</td>\n",
       "      <td>Tot Fwd Pkts</td>\n",
       "      <td>Tot Bwd Pkts</td>\n",
       "      <td>TotLen Fwd Pkts</td>\n",
       "      <td>TotLen Bwd Pkts</td>\n",
       "      <td>Fwd Pkt Len Max</td>\n",
       "      <td>Benign</td>\n",
       "      <td>Infilteration</td>\n",
       "      <td>None</td>\n",
       "      <td>None</td>\n",
       "    </tr>\n",
       "    <tr>\n",
       "      <th>9</th>\n",
       "      <td>Dst Port</td>\n",
       "      <td>Protocol</td>\n",
       "      <td>Flow Duration</td>\n",
       "      <td>Tot Fwd Pkts</td>\n",
       "      <td>Tot Bwd Pkts</td>\n",
       "      <td>TotLen Fwd Pkts</td>\n",
       "      <td>TotLen Bwd Pkts</td>\n",
       "      <td>Fwd Pkt Len Max</td>\n",
       "      <td>Benign</td>\n",
       "      <td>Bot</td>\n",
       "      <td>None</td>\n",
       "      <td>None</td>\n",
       "    </tr>\n",
       "  </tbody>\n",
       "</table>\n",
       "</div>"
      ],
      "text/plain": [
       "          0         1              2              3             4  \\\n",
       "0  Dst Port  Protocol  Flow Duration   Tot Fwd Pkts  Tot Bwd Pkts   \n",
       "1  Dst Port  Protocol  Flow Duration   Tot Fwd Pkts  Tot Bwd Pkts   \n",
       "2  Dst Port  Protocol  Flow Duration   Tot Fwd Pkts  Tot Bwd Pkts   \n",
       "3  Src Port  Dst Port       Protocol  Flow Duration  Tot Fwd Pkts   \n",
       "4  Dst Port  Protocol  Flow Duration   Tot Fwd Pkts  Tot Bwd Pkts   \n",
       "5  Dst Port  Protocol  Flow Duration   Tot Fwd Pkts  Tot Bwd Pkts   \n",
       "6  Dst Port  Protocol  Flow Duration   Tot Fwd Pkts  Tot Bwd Pkts   \n",
       "7  Dst Port  Protocol  Flow Duration   Tot Fwd Pkts  Tot Bwd Pkts   \n",
       "8  Dst Port  Protocol  Flow Duration   Tot Fwd Pkts  Tot Bwd Pkts   \n",
       "9  Dst Port  Protocol  Flow Duration   Tot Fwd Pkts  Tot Bwd Pkts   \n",
       "\n",
       "                 5                6                7       0  \\\n",
       "0  TotLen Fwd Pkts  TotLen Bwd Pkts  Fwd Pkt Len Max  Benign   \n",
       "1  TotLen Fwd Pkts  TotLen Bwd Pkts  Fwd Pkt Len Max  Benign   \n",
       "2  TotLen Fwd Pkts  TotLen Bwd Pkts  Fwd Pkt Len Max  Benign   \n",
       "3     Tot Bwd Pkts  TotLen Fwd Pkts  TotLen Bwd Pkts  Benign   \n",
       "4  TotLen Fwd Pkts  TotLen Bwd Pkts  Fwd Pkt Len Max  Benign   \n",
       "5  TotLen Fwd Pkts  TotLen Bwd Pkts  Fwd Pkt Len Max  Benign   \n",
       "6  TotLen Fwd Pkts  TotLen Bwd Pkts  Fwd Pkt Len Max  Benign   \n",
       "7  TotLen Fwd Pkts  TotLen Bwd Pkts  Fwd Pkt Len Max  Benign   \n",
       "8  TotLen Fwd Pkts  TotLen Bwd Pkts  Fwd Pkt Len Max  Benign   \n",
       "9  TotLen Fwd Pkts  TotLen Bwd Pkts  Fwd Pkt Len Max  Benign   \n",
       "\n",
       "                          1                      2              3  \n",
       "0            FTP-BruteForce         SSH-Bruteforce           None  \n",
       "1     DoS attacks-GoldenEye  DoS attacks-Slowloris           None  \n",
       "2  DoS attacks-SlowHTTPTest       DoS attacks-Hulk           None  \n",
       "3    DDoS attacks-LOIC-HTTP                   None           None  \n",
       "4      DDOS attack-LOIC-UDP       DDOS attack-HOIC           None  \n",
       "5          Brute Force -Web       Brute Force -XSS  SQL Injection  \n",
       "6          Brute Force -Web       Brute Force -XSS  SQL Injection  \n",
       "7             Infilteration                   None           None  \n",
       "8             Infilteration                   None           None  \n",
       "9                       Bot                   None           None  "
      ]
     },
     "execution_count": 104,
     "metadata": {},
     "output_type": "execute_result"
    }
   ],
   "source": [
    "main_features = pd.concat([im_f_2, ty_a], sort=False, axis=1)\n",
    "main_features"
   ]
  },
  {
   "cell_type": "code",
   "execution_count": null,
   "id": "1e2ec10e",
   "metadata": {},
   "outputs": [],
   "source": [
    "\"\"\"def scaller_tester_models(X_train, X_test, y_train, y_test):    \n",
    "    standart_scaler = StandardScaler()\n",
    "    robust_scaler = RobustScaler()\n",
    "    \n",
    "    X_train_standart_scaller = pd.DataFrame(data=standart_scaler.fit_transform(X_train), \\\n",
    "                                            columns=importnace_feateres)\n",
    "    X_train_robust_scaller = pd.DataFrame(data=robust_scaler.fit_transform(X_train), \\\n",
    "                                          columns=importnace_feateres)\n",
    "    \n",
    "    model_1 = KNeighborsClassifier(n_neighbors = 4)\n",
    "    model_2 = KNeighborsClassifier(n_neighbors = 4)\n",
    "    model_3 = KNeighborsClassifier(n_neighbors = 4)\n",
    "    \n",
    "    model_1.fit(X_train, y_train)\n",
    "    model_2.fit(X_train_standart_scaller, y_train)\n",
    "    model_3.fit(X_train_robust_scaller, y_train)\n",
    "    \n",
    "    model_1.predict(X_test)\n",
    "    model_2.predict(X_test)\n",
    "    model_3.predict(X_test)\n",
    "    \n",
    "    return model_1, model_2, model_3 \"\"\""
   ]
  },
  {
   "cell_type": "code",
   "execution_count": null,
   "id": "e56540fd",
   "metadata": {},
   "outputs": [],
   "source": []
  }
 ],
 "metadata": {
  "kernelspec": {
   "display_name": "Python 3 (ipykernel)",
   "language": "python",
   "name": "python3"
  },
  "language_info": {
   "codemirror_mode": {
    "name": "ipython",
    "version": 3
   },
   "file_extension": ".py",
   "mimetype": "text/x-python",
   "name": "python",
   "nbconvert_exporter": "python",
   "pygments_lexer": "ipython3",
   "version": "3.9.6"
  }
 },
 "nbformat": 4,
 "nbformat_minor": 5
}
