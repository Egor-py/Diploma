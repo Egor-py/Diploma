{
 "cells": [
  {
   "cell_type": "code",
   "execution_count": 1,
   "id": "eb04b72b",
   "metadata": {},
   "outputs": [],
   "source": [
    "import pandas as pd\n",
    "import seaborn as sns\n",
    "import numpy as np\n",
    "import matplotlib.pyplot as plt\n",
    "\n",
    "from sklearn.metrics import plot_confusion_matrix\n",
    "from sklearn.metrics import accuracy_score\n",
    "\n",
    "from sklearn.ensemble import RandomForestClassifier\n",
    "from sklearn.tree import DecisionTreeClassifier\n",
    "from sklearn.model_selection import cross_val_score, train_test_split\n",
    "\n",
    "from sklearn.preprocessing import StandardScaler\n",
    "from sklearn.preprocessing import RobustScaler\n",
    "\n",
    "from sklearn.neighbors import KNeighborsClassifier"
   ]
  },
  {
   "cell_type": "code",
   "execution_count": 2,
   "id": "dc471e59",
   "metadata": {},
   "outputs": [
    {
     "name": "stdout",
     "output_type": "stream",
     "text": [
      "CPU times: user 6.67 s, sys: 1.78 s, total: 8.46 s\n",
      "Wall time: 8.86 s\n"
     ]
    }
   ],
   "source": [
    "%%time\n",
    "db_full_1 = pd.read_csv('02-14-2018.csv')"
   ]
  },
  {
   "cell_type": "code",
   "execution_count": 3,
   "id": "48e2968f",
   "metadata": {},
   "outputs": [
    {
     "name": "stdout",
     "output_type": "stream",
     "text": [
      "CPU times: user 7.46 s, sys: 1.9 s, total: 9.36 s\n",
      "Wall time: 10.2 s\n"
     ]
    }
   ],
   "source": [
    "%%time\n",
    "db_full_2 = pd.read_csv('02-15-2018.csv')"
   ]
  },
  {
   "cell_type": "code",
   "execution_count": 4,
   "id": "eb76ed1b",
   "metadata": {},
   "outputs": [
    {
     "data": {
      "text/plain": [
       "\"db_full_3 = pd.read_csv('02-16-2018.csv', dtype={'Dst Port': np.int64, 'Protocol': np.int64,\\n                                                 'Timestamp': np.object, 'Flow Duration': np.int64,\\n                                                 'Tot Fwd Pkts': np.int64,'Tot Bwd Pkts': np.int64,\\n                                                 'TotLen Fwd Pkts': np.int64, 'TotLen Bwd Pkts': np.int64,\\n                                                 'Fwd Pkt Len Max': np.int64, 'Fwd Pkt Len Min': np.int64,\\n                                                 'Fwd Pkt Len Mean': np.float64,'Fwd Pkt Len Std': np.float64,\\n                                                 'Bwd Pkt Len Max': np.int64, 'Bwd Pkt Len Min': np.int64,\\n                                                 'Bwd Pkt Len Mean': np.float64, 'Bwd Pkt Len Std': np.float64,\\n                                                 'Flow Byts/s': np.float64, 'Flow Pkts/s': np.float64,\\n                                                 'Flow IAT Mean': np.float64, 'Flow IAT Std': np.float64,\\n                                                 'Flow IAT Max': np.int64, 'Flow IAT Min': np.int64,\\n                                                 'Fwd IAT Tot': np.int64, 'Fwd IAT Mean': np.float64,\\n                                                 'Fwd IAT Std': np.float64, 'Fwd IAT Max': np.int64,\\n                                                 'Fwd IAT Min': np.int64,\\n                                                 'Bwd IAT Tot': np.int64, 'Bwd IAT Mean': np.float64,\\n                                                 'Bwd IAT Std': np.float64,' Bwd IAT Max': np.int64,\\n                                                 'Bwd IAT Min': np.int64,\\n                                                 'Fwd PSH Flags': np.int64, 'Bwd PSH Flags': np.int64,\\n                                                 'Fwd URG Flags': np.int64, 'Bwd URG Flags': np.int64,\\n                                                 'Fwd Header Len': np.int64, 'Bwd Header Len': np.int64,\\n                                                 'Fwd Pkts/s': np.float64, 'Bwd Pkts/s': np.float64,\\n                                                 'Pkt Len Min': np.int64, 'Pkt Len Max': np.int64,\\n                                                 'Pkt Len Mean': np.float64, 'Pkt Len Std': np.float64,\\n                                                 'Pkt Len Var': np.float64,\\n                                                 'FIN Flag Cnt': np.int64, 'SYN Flag Cnt': np.int64,\\n                                                 'RST Flag Cnt': np.int64, 'PSH Flag Cnt': np.int64,\\n                                                 'ACK Flag Cnt': np.int64, 'URG Flag Cnt': np.int64,\\n                                                 'CWE Flag Count': np.int64, 'ECE Flag Cnt': np.int64,\\n                                                 'Down/Up Ratio': np.int64, 'Pkt Size Avg': np.float64,\\n                                                 'Fwd Seg Size Avg': np.float64, 'Bwd Seg Size Avg': np.float64,\\n                                                 'Fwd Byts/b Avg': np.int64, 'Fwd Pkts/b Avg': np.int64,\\n                                                 'Fwd Blk Rate Avg': np.int64, 'Bwd Byts/b Avg': np.int64,\\n                                                 'Bwd Pkts/b Avg': np.int64, 'Bwd Blk Rate Avg': np.int64,\\n                                                 'Subflow Fwd Pkts': np.int64, 'Subflow Fwd Byts': np.int64,\\n                                                 'Subflow Bwd Pkts': np.int64, 'Subflow Bwd Byts': np.int64,\\n                                                 'Init Fwd Win Byts': np.int64, 'Init Bwd Win Byts': np.int64,\\n                                                 'Fwd Act Data Pkts': np.int64, 'Fwd Seg Size Min': np.int64,\\n                                                 'Active Mean': np.float64, 'Active Std': np.float64,\\n                                                 'Active Max': np.int64, 'Active Min': np.int64,\\n                                                 'Idle Mean': np.float64, 'Idle Std': np.float64,\\n                                                 'Idle Max': np.int64, 'Idle Min': np.int64,\\n                                                 'Label': np.object})\\n                                                 \""
      ]
     },
     "execution_count": 4,
     "metadata": {},
     "output_type": "execute_result"
    }
   ],
   "source": [
    "\"\"\"db_full_3 = pd.read_csv('02-16-2018.csv', dtype={'Dst Port': np.int64, 'Protocol': np.int64,\n",
    "                                                 'Timestamp': np.object, 'Flow Duration': np.int64,\n",
    "                                                 'Tot Fwd Pkts': np.int64,'Tot Bwd Pkts': np.int64,\n",
    "                                                 'TotLen Fwd Pkts': np.int64, 'TotLen Bwd Pkts': np.int64,\n",
    "                                                 'Fwd Pkt Len Max': np.int64, 'Fwd Pkt Len Min': np.int64,\n",
    "                                                 'Fwd Pkt Len Mean': np.float64,'Fwd Pkt Len Std': np.float64,\n",
    "                                                 'Bwd Pkt Len Max': np.int64, 'Bwd Pkt Len Min': np.int64,\n",
    "                                                 'Bwd Pkt Len Mean': np.float64, 'Bwd Pkt Len Std': np.float64,\n",
    "                                                 'Flow Byts/s': np.float64, 'Flow Pkts/s': np.float64,\n",
    "                                                 'Flow IAT Mean': np.float64, 'Flow IAT Std': np.float64,\n",
    "                                                 'Flow IAT Max': np.int64, 'Flow IAT Min': np.int64,\n",
    "                                                 'Fwd IAT Tot': np.int64, 'Fwd IAT Mean': np.float64,\n",
    "                                                 'Fwd IAT Std': np.float64, 'Fwd IAT Max': np.int64,\n",
    "                                                 'Fwd IAT Min': np.int64,\n",
    "                                                 'Bwd IAT Tot': np.int64, 'Bwd IAT Mean': np.float64,\n",
    "                                                 'Bwd IAT Std': np.float64,' Bwd IAT Max': np.int64,\n",
    "                                                 'Bwd IAT Min': np.int64,\n",
    "                                                 'Fwd PSH Flags': np.int64, 'Bwd PSH Flags': np.int64,\n",
    "                                                 'Fwd URG Flags': np.int64, 'Bwd URG Flags': np.int64,\n",
    "                                                 'Fwd Header Len': np.int64, 'Bwd Header Len': np.int64,\n",
    "                                                 'Fwd Pkts/s': np.float64, 'Bwd Pkts/s': np.float64,\n",
    "                                                 'Pkt Len Min': np.int64, 'Pkt Len Max': np.int64,\n",
    "                                                 'Pkt Len Mean': np.float64, 'Pkt Len Std': np.float64,\n",
    "                                                 'Pkt Len Var': np.float64,\n",
    "                                                 'FIN Flag Cnt': np.int64, 'SYN Flag Cnt': np.int64,\n",
    "                                                 'RST Flag Cnt': np.int64, 'PSH Flag Cnt': np.int64,\n",
    "                                                 'ACK Flag Cnt': np.int64, 'URG Flag Cnt': np.int64,\n",
    "                                                 'CWE Flag Count': np.int64, 'ECE Flag Cnt': np.int64,\n",
    "                                                 'Down/Up Ratio': np.int64, 'Pkt Size Avg': np.float64,\n",
    "                                                 'Fwd Seg Size Avg': np.float64, 'Bwd Seg Size Avg': np.float64,\n",
    "                                                 'Fwd Byts/b Avg': np.int64, 'Fwd Pkts/b Avg': np.int64,\n",
    "                                                 'Fwd Blk Rate Avg': np.int64, 'Bwd Byts/b Avg': np.int64,\n",
    "                                                 'Bwd Pkts/b Avg': np.int64, 'Bwd Blk Rate Avg': np.int64,\n",
    "                                                 'Subflow Fwd Pkts': np.int64, 'Subflow Fwd Byts': np.int64,\n",
    "                                                 'Subflow Bwd Pkts': np.int64, 'Subflow Bwd Byts': np.int64,\n",
    "                                                 'Init Fwd Win Byts': np.int64, 'Init Bwd Win Byts': np.int64,\n",
    "                                                 'Fwd Act Data Pkts': np.int64, 'Fwd Seg Size Min': np.int64,\n",
    "                                                 'Active Mean': np.float64, 'Active Std': np.float64,\n",
    "                                                 'Active Max': np.int64, 'Active Min': np.int64,\n",
    "                                                 'Idle Mean': np.float64, 'Idle Std': np.float64,\n",
    "                                                 'Idle Max': np.int64, 'Idle Min': np.int64,\n",
    "                                                 'Label': np.object})\n",
    "                                                 \"\"\""
   ]
  },
  {
   "cell_type": "code",
   "execution_count": 4,
   "id": "7554c0ab",
   "metadata": {},
   "outputs": [
    {
     "name": "stdout",
     "output_type": "stream",
     "text": [
      "CPU times: user 1min 13s, sys: 48.6 s, total: 2min 2s\n",
      "Wall time: 2min 24s\n"
     ]
    }
   ],
   "source": [
    "%%time\n",
    "db_full_4 = pd.read_csv('02-20-2018.csv')"
   ]
  },
  {
   "cell_type": "code",
   "execution_count": 5,
   "id": "7fb18b1f",
   "metadata": {},
   "outputs": [
    {
     "name": "stdout",
     "output_type": "stream",
     "text": [
      "CPU times: user 6.33 s, sys: 2 s, total: 8.34 s\n",
      "Wall time: 10 s\n"
     ]
    }
   ],
   "source": [
    "%%time\n",
    "db_full_5 = pd.read_csv('02-21-2018.csv')"
   ]
  },
  {
   "cell_type": "code",
   "execution_count": 6,
   "id": "24445f87",
   "metadata": {},
   "outputs": [
    {
     "name": "stdout",
     "output_type": "stream",
     "text": [
      "CPU times: user 7.88 s, sys: 2.25 s, total: 10.1 s\n",
      "Wall time: 11.2 s\n"
     ]
    }
   ],
   "source": [
    "%%time\n",
    "db_full_6 = pd.read_csv('02-22-2018.csv')"
   ]
  },
  {
   "cell_type": "code",
   "execution_count": 7,
   "id": "335f8296",
   "metadata": {},
   "outputs": [
    {
     "name": "stdout",
     "output_type": "stream",
     "text": [
      "CPU times: user 6.81 s, sys: 1.82 s, total: 8.63 s\n",
      "Wall time: 9.45 s\n"
     ]
    }
   ],
   "source": [
    "%%time\n",
    "db_full_7 = pd.read_csv('02-23-2018.csv')"
   ]
  },
  {
   "cell_type": "code",
   "execution_count": 8,
   "id": "74ba427a",
   "metadata": {},
   "outputs": [
    {
     "data": {
      "text/plain": [
       "\"%%time\\ndb_full_8 = pd.read_csv('02-28-2018.csv')\""
      ]
     },
     "execution_count": 8,
     "metadata": {},
     "output_type": "execute_result"
    }
   ],
   "source": [
    "\"\"\"%%time\n",
    "db_full_8 = pd.read_csv('02-28-2018.csv')\"\"\""
   ]
  },
  {
   "cell_type": "code",
   "execution_count": 9,
   "id": "e96c806e",
   "metadata": {},
   "outputs": [
    {
     "name": "stdout",
     "output_type": "stream",
     "text": [
      "CPU times: user 6.59 s, sys: 1.68 s, total: 8.27 s\n",
      "Wall time: 8.94 s\n"
     ]
    }
   ],
   "source": [
    "%%time\n",
    "db_full_10 = pd.read_csv('03-02-2018.csv')"
   ]
  },
  {
   "cell_type": "code",
   "execution_count": 10,
   "id": "30cf2a2a",
   "metadata": {},
   "outputs": [],
   "source": [
    "def preparing_data(db_full):\n",
    "    \"\"\"Функция кодирует метки целевого признака. Отбирает признаки методом случайного леса. \n",
    "    Возвращает готовые для обучения моделей данные\"\"\"    \n",
    "    #кодирование меток\n",
    "    \n",
    "    categories = {}\n",
    "    for key, value in enumerate(db_full['Label'].unique()):\n",
    "        categories[value] = key + 1\n",
    "    db_full['Category_Label'] = db_full['Label'].map(categories)\n",
    "    \n",
    "    #отбор признаков с помощью модели случайного леса\n",
    "\n",
    "    X = db_full.select_dtypes(exclude=['object']).copy()\n",
    "    X.drop(columns=['Flow Byts/s', 'Flow Pkts/s', 'Category_Label'],\n",
    "           axis = 1, inplace=True)\n",
    "    y = db_full['Category_Label']\n",
    "\n",
    "    X_train, X_test, y_train, y_test = train_test_split(X, y, test_size=0.1, random_state=6)\n",
    "    X_train.shape, y_train.shape\n",
    "\n",
    "    clf = RandomForestClassifier()\n",
    "    clf.fit(X_train, y_train)\n",
    "    \n",
    "    importnace_features = pd.Series(clf.feature_importances_, X.columns)#.sort_values(ascending = False)\n",
    "    importnace_features = importnace_features.head(n = 8).index\n",
    "    \n",
    "    X = db_full[importnace_features]\n",
    "    y = db_full['Category_Label']\n",
    "    \n",
    "    types_at = db_full['Label'].unique()\n",
    "    \n",
    "    X_train, X_test, y_train, y_test = train_test_split(X, y, test_size=0.1, random_state=6)\n",
    "    \n",
    "    return importnace_features, types_at"
   ]
  },
  {
   "cell_type": "code",
   "execution_count": null,
   "id": "22399610",
   "metadata": {},
   "outputs": [],
   "source": []
  },
  {
   "cell_type": "markdown",
   "id": "af0a5139",
   "metadata": {},
   "source": [
    "## Выбор наиболее значимых признаков"
   ]
  },
  {
   "cell_type": "code",
   "execution_count": 11,
   "id": "f8d2ce86",
   "metadata": {},
   "outputs": [
    {
     "name": "stdout",
     "output_type": "stream",
     "text": [
      "CPU times: user 2min 15s, sys: 5.54 s, total: 2min 20s\n",
      "Wall time: 2min 45s\n"
     ]
    }
   ],
   "source": [
    "%%time\n",
    "importnace_feateres_1, types_at_1 = preparing_data(db_full_1)"
   ]
  },
  {
   "cell_type": "code",
   "execution_count": 12,
   "id": "d8a939ce",
   "metadata": {},
   "outputs": [
    {
     "name": "stdout",
     "output_type": "stream",
     "text": [
      "CPU times: user 4min 15s, sys: 5.4 s, total: 4min 21s\n",
      "Wall time: 4min 27s\n"
     ]
    }
   ],
   "source": [
    "%%time\n",
    "importnace_feateres_2, types_at_2 = preparing_data(db_full_2)"
   ]
  },
  {
   "cell_type": "code",
   "execution_count": 13,
   "id": "ae4dda21",
   "metadata": {},
   "outputs": [
    {
     "name": "stdout",
     "output_type": "stream",
     "text": [
      "CPU times: user 45min 2s, sys: 2min 2s, total: 47min 4s\n",
      "Wall time: 50min 7s\n"
     ]
    }
   ],
   "source": [
    "%%time\n",
    "importnace_feateres_4, types_at_4 = preparing_data(db_full_4)"
   ]
  },
  {
   "cell_type": "code",
   "execution_count": 14,
   "id": "d1b9efdd",
   "metadata": {},
   "outputs": [
    {
     "name": "stdout",
     "output_type": "stream",
     "text": [
      "CPU times: user 2min 37s, sys: 4.51 s, total: 2min 41s\n",
      "Wall time: 2min 43s\n"
     ]
    }
   ],
   "source": [
    "%%time\n",
    "importnace_feateres_5, types_at_5 = preparing_data(db_full_5)"
   ]
  },
  {
   "cell_type": "code",
   "execution_count": null,
   "id": "840a1d37",
   "metadata": {},
   "outputs": [],
   "source": [
    "%%time\n",
    "importnace_feateres_6, types_at_6 = preparing_data(db_full_6)"
   ]
  },
  {
   "cell_type": "code",
   "execution_count": null,
   "id": "9ddf459e",
   "metadata": {},
   "outputs": [],
   "source": [
    "%%time\n",
    "importnace_feateres_7, types_at_7 = preparing_data(db_full_7)"
   ]
  },
  {
   "cell_type": "code",
   "execution_count": null,
   "id": "cf3aed2f",
   "metadata": {},
   "outputs": [],
   "source": []
  },
  {
   "cell_type": "code",
   "execution_count": null,
   "id": "6d4de385",
   "metadata": {},
   "outputs": [],
   "source": [
    "%%time\n",
    "importnace_feateres_10, types_at_10 = preparing_data(db_full_10)"
   ]
  },
  {
   "cell_type": "markdown",
   "id": "6cd82d08",
   "metadata": {},
   "source": [
    "## Наиболее значимые признаки во всех наборах данных"
   ]
  },
  {
   "cell_type": "code",
   "execution_count": 15,
   "id": "5b29b263",
   "metadata": {},
   "outputs": [
    {
     "data": {
      "text/plain": [
       "Index(['Dst Port', 'Protocol', 'Flow Duration', 'Tot Fwd Pkts', 'Tot Bwd Pkts',\n",
       "       'TotLen Fwd Pkts', 'TotLen Bwd Pkts', 'Fwd Pkt Len Max'],\n",
       "      dtype='object')"
      ]
     },
     "execution_count": 15,
     "metadata": {},
     "output_type": "execute_result"
    }
   ],
   "source": [
    "importnace_feateres_1"
   ]
  },
  {
   "cell_type": "code",
   "execution_count": 16,
   "id": "104102e1",
   "metadata": {},
   "outputs": [
    {
     "data": {
      "text/plain": [
       "Index(['Dst Port', 'Protocol', 'Flow Duration', 'Tot Fwd Pkts', 'Tot Bwd Pkts',\n",
       "       'TotLen Fwd Pkts', 'TotLen Bwd Pkts', 'Fwd Pkt Len Max'],\n",
       "      dtype='object')"
      ]
     },
     "execution_count": 16,
     "metadata": {},
     "output_type": "execute_result"
    }
   ],
   "source": [
    "importnace_feateres_2"
   ]
  },
  {
   "cell_type": "code",
   "execution_count": 17,
   "id": "a8366e8e",
   "metadata": {},
   "outputs": [
    {
     "data": {
      "text/plain": [
       "Index(['Src Port', 'Dst Port', 'Protocol', 'Flow Duration', 'Tot Fwd Pkts',\n",
       "       'Tot Bwd Pkts', 'TotLen Fwd Pkts', 'TotLen Bwd Pkts'],\n",
       "      dtype='object')"
      ]
     },
     "execution_count": 17,
     "metadata": {},
     "output_type": "execute_result"
    }
   ],
   "source": [
    "importnace_feateres_4"
   ]
  },
  {
   "cell_type": "code",
   "execution_count": null,
   "id": "c0299d59",
   "metadata": {},
   "outputs": [],
   "source": [
    "importnace_feateres_5"
   ]
  },
  {
   "cell_type": "code",
   "execution_count": null,
   "id": "43a833c9",
   "metadata": {},
   "outputs": [],
   "source": [
    "importnace_feateres_6"
   ]
  },
  {
   "cell_type": "code",
   "execution_count": null,
   "id": "cee39971",
   "metadata": {},
   "outputs": [],
   "source": [
    "importnace_feateres_7"
   ]
  },
  {
   "cell_type": "code",
   "execution_count": null,
   "id": "ea63d793",
   "metadata": {},
   "outputs": [],
   "source": [
    "importnace_feateres_10"
   ]
  },
  {
   "cell_type": "markdown",
   "id": "3528603f",
   "metadata": {},
   "source": [
    "#### Функция pd.concat объединяет наборы данных"
   ]
  },
  {
   "cell_type": "markdown",
   "id": "8c100d0c",
   "metadata": {},
   "source": [
    "## Таблица важности признаков для отдельных атак"
   ]
  },
  {
   "cell_type": "code",
   "execution_count": null,
   "id": "94fb0a62",
   "metadata": {},
   "outputs": [],
   "source": [
    "im_f_1 = pd.DataFrame([importnace_feateres_1, importnace_feateres_2, importnace_feateres_4, \\\n",
    "                       importnace_feateres_5, importnace_feateres_6, importnace_feateres_7, \\\n",
    "                       importnace_feateres_10, types_at_1, types_at_2, types_at_4, \\\n",
    "                       types_at_5, types_at_6, types_at_7, types_at_10], \\\n",
    "                      index=['DB_1', 'DB_2', 'DB_4', 'DB_5', 'DB_6', 'DB_7', 'DB_10'])"
   ]
  },
  {
   "cell_type": "code",
   "execution_count": null,
   "id": "afa943ce",
   "metadata": {},
   "outputs": [],
   "source": [
    "im_f_1"
   ]
  },
  {
   "cell_type": "code",
   "execution_count": null,
   "id": "1e2ec10e",
   "metadata": {},
   "outputs": [],
   "source": [
    "\"\"\"def scaller_tester_models(X_train, X_test, y_train, y_test):    \n",
    "    standart_scaler = StandardScaler()\n",
    "    robust_scaler = RobustScaler()\n",
    "    \n",
    "    X_train_standart_scaller = pd.DataFrame(data=standart_scaler.fit_transform(X_train), \\\n",
    "                                            columns=importnace_feateres)\n",
    "    X_train_robust_scaller = pd.DataFrame(data=robust_scaler.fit_transform(X_train), \\\n",
    "                                          columns=importnace_feateres)\n",
    "    \n",
    "    model_1 = KNeighborsClassifier(n_neighbors = 4)\n",
    "    model_2 = KNeighborsClassifier(n_neighbors = 4)\n",
    "    model_3 = KNeighborsClassifier(n_neighbors = 4)\n",
    "    \n",
    "    model_1.fit(X_train, y_train)\n",
    "    model_2.fit(X_train_standart_scaller, y_train)\n",
    "    model_3.fit(X_train_robust_scaller, y_train)\n",
    "    \n",
    "    model_1.predict(X_test)\n",
    "    model_2.predict(X_test)\n",
    "    model_3.predict(X_test)\n",
    "    \n",
    "    return model_1, model_2, model_3 \"\"\""
   ]
  },
  {
   "cell_type": "code",
   "execution_count": null,
   "id": "e56540fd",
   "metadata": {},
   "outputs": [],
   "source": []
  }
 ],
 "metadata": {
  "kernelspec": {
   "display_name": "Python 3 (ipykernel)",
   "language": "python",
   "name": "python3"
  },
  "language_info": {
   "codemirror_mode": {
    "name": "ipython",
    "version": 3
   },
   "file_extension": ".py",
   "mimetype": "text/x-python",
   "name": "python",
   "nbconvert_exporter": "python",
   "pygments_lexer": "ipython3",
   "version": "3.9.7"
  }
 },
 "nbformat": 4,
 "nbformat_minor": 5
}
